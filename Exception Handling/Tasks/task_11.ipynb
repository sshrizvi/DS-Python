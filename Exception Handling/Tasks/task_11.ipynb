{
  "cells": [
    {
      "cell_type": "markdown",
      "metadata": {},
      "source": [
        "# **Task 11 - (Article 68 to 72)** [![Static Badge](https://img.shields.io/badge/Open%20in%20Colab%20-%20orange?style=plastic&logo=googlecolab&labelColor=grey)](https://colab.research.google.com/github/sshrizvi/DS-Python/blob/main/Exception%20Handling/Tasks/task_11.ipynb)\n",
        "\n",
        "|🔴 **WARNING** 🔴|\n",
        "|:-----------:|\n",
        "|If you have not studied article 68 to 72. Do checkout the articles before attempting the task.|\n",
        "| Here is [Article 68 - Errors in Python](../Articles/68_errors_in_python.md) |"
      ]
    },
    {
      "cell_type": "markdown",
      "metadata": {
        "id": "0qnQkJtnGozz"
      },
      "source": [
        "### 🎯 **Q01: Exception Handling in Function Calls**\n",
        "\n",
        "1. **Problem Statement**:\n",
        "   - You are provided with a function that may encounter various runtime errors when executed with different arguments.\n",
        "   - Without modifying the original function code, implement exception handling to catch and display specific error messages for each error type that occurs during execution.\n",
        "\n",
        "2. **Task**:\n",
        "   - Identify the types of errors (e.g., `IndexError`, `TypeError`, `KeyError`, `ZeroDivisionError`) that might occur in the function.\n",
        "   - Wrap the function calls in a try-except block to catch and print each exception without changing the function definition itself.\n",
        "\n",
        "3. **Function Definition**:\n",
        "   - This function contains several operations that may lead to errors, such as index access, invalid type operations, division by zero, and dictionary key access.\n",
        "   - ```python\n",
        "      # Function parameters l -> list, s -> could be anything\n",
        "\n",
        "      def function(l: list, s, **args):\n",
        "         last_element = l[-1]\n",
        "         \n",
        "         l[int(s)]=10\n",
        "         any_element = l[int(s)+10]\n",
        "         l[s]=10\n",
        "         \n",
        "         res = sum(l)\n",
        "         \n",
        "         p = args['p']\n",
        "         # print(p)\n",
        "         return res/last_element * p + any_element\n",
        "    ```\n",
        "\n",
        "1. **Example Function Calls to Handle**:\n",
        "   - `function([1,2,1], 12)`\n",
        "   - `function([1,2,1]*9, '1-2')`\n",
        "   - `function([1,'2',1]*9, 12)`\n",
        "   - `function([1,2,0]*9, 12)`\n",
        "   - `function([1,2,1]*9, 12, p=None)`\n",
        "   - `function([1,2,0]*9, 12, p=10)`"
      ]
    },
    {
      "cell_type": "code",
      "execution_count": 37,
      "metadata": {
        "id": "VoaL4_9eGjFU"
      },
      "outputs": [
        {
          "name": "stdout",
          "output_type": "stream",
          "text": [
            "\u001b[1;37;41m IndexError \u001b[0m list index out of range\n",
            "\u001b[1;37;41m ValueError \u001b[0m invalid literal for int() with base 10: '1-2'\n",
            "\u001b[1;37;41m TypeError \u001b[0m unsupported operand type(s) for +: 'int' and 'str'\n",
            "\u001b[1;37;41m KeyError \u001b[0m 'p'\n",
            "\u001b[1;37;41m TypeError \u001b[0m unsupported operand type(s) for *: 'float' and 'NoneType'\n",
            "\u001b[1;37;41m ZeroDivisionError \u001b[0m division by zero\n"
          ]
        }
      ],
      "source": [
        "# Solution - Q01\n",
        "\n",
        "def function(l: list, s, **args):\n",
        "    last_element = l[-1]\n",
        "    l[int(s)]=10\n",
        "    any_element = l[int(s)+10]\n",
        "    l[s]=10\n",
        "    res = sum(l)\n",
        "    p = args['p']\n",
        "    # print(p)\n",
        "    return res/last_element * p + any_element\n",
        "\n",
        "try:\n",
        "    function([1,2,1], 1)\n",
        "except IndexError as e:\n",
        "    print('\\033[1;37;41m IndexError \\033[0m', e)\n",
        "try:\n",
        "    function([1,2,1]*9, '1-2')\n",
        "except ValueError as e:\n",
        "    print('\\033[1;37;41m ValueError \\033[0m', e)\n",
        "try:\n",
        "    function([1,'2',1]*9, 1)\n",
        "except TypeError as e:\n",
        "    print('\\033[1;37;41m TypeError \\033[0m', e)\n",
        "try:\n",
        "    function([1,2,0]*9, 1)\n",
        "except KeyError as e:\n",
        "    print('\\033[1;37;41m KeyError \\033[0m', e)\n",
        "try:\n",
        "    function([1,2,1]*9, 12, p=None)\n",
        "except TypeError as e:\n",
        "    print('\\033[1;37;41m TypeError \\033[0m', e)\n",
        "try:\n",
        "    function([1,2,0]*9, 12, p=1)\n",
        "except ZeroDivisionError as e:\n",
        "    print('\\033[1;37;41m ZeroDivisionError \\033[0m', e)"
      ]
    },
    {
      "cell_type": "markdown",
      "metadata": {
        "id": "HuLMy2fVG9sL"
      },
      "source": [
        "### 🎯 **Q02: Exception Handling in List Sum Calculation**\n",
        "\n",
        "1. **Problem Statement**:\n",
        "   - You are given a code snippet designed to compute the sum of elements in a list. However, the list contains elements of different types, which may cause errors during execution.\n",
        "   - Your task is to implement exception handling in the code, ensuring that all potential errors are managed gracefully, allowing for the final correct sum to be printed without altering the code's overall structure.\n",
        "\n",
        "2. **Task**:\n",
        "   - Implement exception handling within the code to catch and handle possible errors that may arise, such as issues with dictionary keys, type mismatches, or invalid conversions.\n",
        "   - Ensure that the last line prints the correct sum of all valid elements, regardless of any errors encountered during execution.\n",
        "\n",
        "3. **Code Snippet**:\n",
        "   ```python\n",
        "   l = [{0: 2}, 2, 3, 4, '5', {5: 10}]\n",
        "   # For calculating sum of the above list\n",
        "   s = 0\n",
        "   for i in range(len(l)):\n",
        "       # You may edit code from here\n",
        "       s += l[i].get(i)\n",
        "       s += l[i]\n",
        "       s += int(l[i])\n",
        "\n",
        "   print(s)\n",
        "\n",
        "   # Output : 26\n",
        "   ```\n",
        "\n",
        "4. **Relevant Information**:\n",
        "   - The list contains various data types, including:\n",
        "     - Dictionaries with single key-value pairs (where the key is an index and the value is an integer),\n",
        "     - Integer values, and\n",
        "     - Numeric strings.\n",
        "\n",
        "5. **Input**:\n",
        "   - `l`: A list containing a mix of integers, numeric strings, and single key-value dictionaries, e.g., `[{0: 2}, 2, 3, 4, '5', {5: 10}]`.\n",
        "\n",
        "6. **Output**:\n",
        "   - An integer representing the sum of all valid elements in the list, correctly printed at the end of execution."
      ]
    },
    {
      "cell_type": "code",
      "execution_count": 48,
      "metadata": {
        "id": "pEP8JU0qHAf8"
      },
      "outputs": [
        {
          "name": "stdout",
          "output_type": "stream",
          "text": [
            "26\n"
          ]
        }
      ],
      "source": [
        "# Solution - Q02\n",
        "\n",
        "l = [{0: 2}, 2, 3, 4, '5', {5: 10}]\n",
        "# For calculating sum of the above list\n",
        "s = 0\n",
        "for i in range(len(l)):\n",
        "    try:\n",
        "        s += l[i].get(i)\n",
        "    except AttributeError:\n",
        "        try:\n",
        "            s += l[i]\n",
        "        except TypeError:\n",
        "            s += int(l[i])\n",
        "print(s)"
      ]
    },
    {
      "cell_type": "markdown",
      "metadata": {
        "id": "ohE2fDTXHIan"
      },
      "source": [
        "### 🎯 **Q03: File Handling with Exception Handling**\n",
        "\n",
        "1. **Problem Statement**:\n",
        "   - Write a program to open a text file and write a specific message to it.\n",
        "   - Implement exception handling to manage any potential errors that may occur during file operations, such as issues with file access or permissions.\n",
        "   - If the operation is successful, print a success message. Ensure that this success message is displayed within an `else` block rather than the main exception handling block.\n",
        "\n",
        "2. **Task**:\n",
        "   - Open a file and attempt to write the string `\"Hello, Good Morning!!!\"` to it.\n",
        "   - Use try-except-else blocks to:\n",
        "     - Handle exceptions during file operations.\n",
        "     - Print a success message only if no exceptions occur.\n",
        "\n",
        "3. **Relevant Information**:\n",
        "   - This exercise is intended to test understanding of file operations, error handling, and the use of `else` in exception handling.\n",
        "\n",
        "4. **Output**:\n",
        "   - If successful: Print a message indicating that the data was successfully written.\n",
        "   - If an error occurs: Display the specific error message without executing the success message."
      ]
    },
    {
      "cell_type": "code",
      "execution_count": 77,
      "metadata": {
        "id": "iOeiWrcIHPlY"
      },
      "outputs": [
        {
          "name": "stdout",
          "output_type": "stream",
          "text": [
            "\u001b[1;37;42m Success \u001b[0m Message Written Successfully...\n"
          ]
        }
      ],
      "source": [
        "# Solution - Q03\n",
        "\n",
        "def write_message(path_to_file):\n",
        "    try:\n",
        "        with open(path_to_file, 'w') as file:\n",
        "            file.write('This message is written to Q3_file.txt')\n",
        "    except FileNotFoundError:\n",
        "        print('\\033[1;37;41m FileNotFoundError \\033[0m', \"The specified directory does not exist.\")\n",
        "    except PermissionError:\n",
        "        print('\\033[1;37;41m PermissionError \\033[0m', \"You do not have permission to write to this file.\")\n",
        "    except IsADirectoryError:\n",
        "        print('\\033[1;37;41m IsADirectoryError \\033[0m', \"The specified path is a directory.\")\n",
        "    except IOError as e:\n",
        "        print('\\033[1;37;41m IOError \\033[0m', f\"An IOError occurred: {e}\")\n",
        "    except ValueError:\n",
        "        print('\\033[1;37;41m ValueError \\033[0m', \"An invalid mode was specified.\")\n",
        "    except OSError as e:\n",
        "        print('\\033[1;37;41m OSError \\033[0m', f\"An OS error occurred: {e}\")\n",
        "    except UnicodeEncodeError:\n",
        "        print('\\033[1;37;41m UnicodeEncodeError \\033[0m', \"A Unicode encoding error occurred.\")\n",
        "    else:\n",
        "        print('\\033[1;37;42m Success \\033[0m', \"Message Written Successfully...\")\n",
        "    \n",
        "\n",
        "# Change the file path according to your file\n",
        "path_to_file = r'F:/University of Allahabad/Data Science - Python/Exception Handling/Resources/Q3_file.txt'\n",
        "write_message(path_to_file)"
      ]
    },
    {
      "cell_type": "markdown",
      "metadata": {
        "id": "ru8g8-_bHTUf"
      },
      "source": [
        "### 🎯 **Q04: Number Game Program with Custom Exceptions**\n",
        "\n",
        "1. **Problem Statement**:\n",
        "   - Create a number-guessing game where the user tries to guess a predefined number.\n",
        "   - If the guessed number is larger than the target number, raise a **ValueTooLarge** exception.\n",
        "   - If the guessed number is smaller than the target number, raise a **ValueTooSmall** exception.\n",
        "   - If the guessed number is less than 1, raise a **GuessError** exception.\n",
        "   - The game should prompt the user to guess again after each incorrect attempt, and only end when the user correctly guesses the target number.\n",
        "\n",
        "2. **Task**:\n",
        "   - Define custom exceptions for each type of error:\n",
        "     - **ValueTooLarge** for guesses greater than the target.\n",
        "     - **ValueTooSmall** for guesses smaller than the target.\n",
        "     - **GuessError** for guesses below 1.\n",
        "   - Prompt the user until they correctly guess the target number, handling and printing messages for each exception case.\n",
        "\n",
        "3. **Relevant Information**:\n",
        "   - This exercise is designed to test knowledge of custom exception handling and user input validation in Python.\n",
        "\n",
        "4. **Input**:\n",
        "   - An integer input from the user, repeatedly entered until they guess the correct number.\n",
        "\n",
        "5. **Output**:\n",
        "   - Custom messages based on the exception type.\n",
        "   - Success message when the correct number is guessed."
      ]
    },
    {
      "cell_type": "code",
      "execution_count": 2,
      "metadata": {
        "id": "QftlN5LJHZSX"
      },
      "outputs": [
        {
          "name": "stdout",
          "output_type": "stream",
          "text": [
            "\u001b[1;30;43m ValueTooSmall \u001b[0m You have guessed a smaller number...\n",
            "\u001b[1;30;43m ValueTooSmall \u001b[0m You have guessed a smaller number...\n",
            "\u001b[1;37;41m GuessError \u001b[0m The guess should not be less than 1...\n",
            "\u001b[1;37;45m ValueTooLarge \u001b[0m You have guessed a larger number...\n",
            "\u001b[1;37;45m ValueTooLarge \u001b[0m You have guessed a larger number...\n",
            "\u001b[1;37;45m ValueTooLarge \u001b[0m You have guessed a larger number...\n",
            "\u001b[1;37;45m ValueTooLarge \u001b[0m You have guessed a larger number...\n",
            "\u001b[1;37;45m ValueTooLarge \u001b[0m You have guessed a larger number...\n",
            "\u001b[1;30;43m ValueTooSmall \u001b[0m You have guessed a smaller number...\n",
            "\u001b[1;37;45m ValueTooLarge \u001b[0m You have guessed a larger number...\n",
            "\u001b[1;37;42m Success \u001b[0m Jeez!! You guessed the right number... :)\n"
          ]
        }
      ],
      "source": [
        "# Solution - Q04\n",
        "\n",
        "import random\n",
        "\n",
        "class ValueTooLarge(Exception):\n",
        "    def __init__(self, message):\n",
        "        self.message = message\n",
        "        self.print_message()\n",
        "    \n",
        "    def print_message(self):\n",
        "        print('\\033[1;37;45m ValueTooLarge \\033[0m', self.message)\n",
        "\n",
        "class ValueTooSmall(Exception):\n",
        "    def __init__(self, message):\n",
        "        self.message = message\n",
        "        self.print_message()\n",
        "    \n",
        "    def print_message(self):\n",
        "        print('\\033[1;30;43m ValueTooSmall \\033[0m', self.message)\n",
        "\n",
        "class GuessError(Exception):\n",
        "    def __init__(self, message):\n",
        "        self.message = message\n",
        "        self.print_message()\n",
        "    \n",
        "    def print_message(self):\n",
        "        print('\\033[1;37;41m GuessError \\033[0m', self.message)\n",
        "\n",
        "def guess_number():\n",
        "    target = int(random.random() * 100) + 5\n",
        "    choice = 1\n",
        "\n",
        "    while choice == 1:\n",
        "\n",
        "        guess = int(input('Enter a guess number : '))\n",
        "\n",
        "        try:\n",
        "            if guess < 1:\n",
        "                raise GuessError('The guess should not be less than 1...')\n",
        "            if guess < target:\n",
        "                raise ValueTooSmall('You have guessed a smaller number...')\n",
        "            if guess > target:\n",
        "                raise ValueTooLarge('You have guessed a larger number...')\n",
        "        except (GuessError, ValueTooSmall, ValueTooLarge) as e:\n",
        "            pass\n",
        "        else:\n",
        "            if guess == target:\n",
        "                print('\\033[1;37;42m Success \\033[0m', 'Jeez!! You guessed the right number... :)')\n",
        "                choice = 0\n",
        "\n",
        "# Driver Code\n",
        "guess_number()"
      ]
    },
    {
      "cell_type": "markdown",
      "metadata": {
        "id": "ZsGI_40fHcsd"
      },
      "source": [
        "### 🎯 **Q05: Cast Vote Validation with Custom Exceptions**\n",
        "\n",
        "1. **Problem Statement**:\n",
        "   - Create a program that validates a user's name and age to determine if they are eligible to vote.\n",
        "   - The program should check:\n",
        "     - **Name**: It must contain at least two words (first and last name) and should not be empty.\n",
        "     - **Age**: It must be a valid voting age (typically 18 years or older).\n",
        "   - Raise custom exceptions:\n",
        "     - **InvalidAge** if the age is below the voting age.\n",
        "     - **InvalidName** if the name is either empty or does not contain at least two words.\n",
        "\n",
        "2. **Task**:\n",
        "   - Implement the **InvalidAge** and **InvalidName** custom exceptions.\n",
        "   - Validate both the name and age provided by the user, handling each error appropriately.\n",
        "   - If both validations pass, display a message indicating eligibility to vote.\n",
        "\n",
        "3. **Relevant Information**:\n",
        "   - This exercise focuses on custom exception handling and user input validation for specific conditions.\n",
        "\n",
        "4. **Input**:\n",
        "   - Name (string) and Age (integer) entered by the user.\n",
        "\n",
        "5. **Output**:\n",
        "   - A success message if both validations are met, or specific error messages if either validation fails.\n",
        "\n"
      ]
    },
    {
      "cell_type": "code",
      "execution_count": 10,
      "metadata": {
        "id": "OHL3UiS4Hi3U"
      },
      "outputs": [
        {
          "name": "stdout",
          "output_type": "stream",
          "text": [
            "\u001b[1;37;42m Success \u001b[0m Jeez!! You can vote...\n"
          ]
        }
      ],
      "source": [
        "# Solution - Q05\n",
        "\n",
        "class InvalidAge(Exception):\n",
        "    def __init__(self, message):\n",
        "        self.message = message\n",
        "        self.print_message()\n",
        "    \n",
        "    def print_message(self):\n",
        "        print('\\033[1;37;41m InvalidAge \\033[0m', self.message)\n",
        "\n",
        "class InvalidName(Exception):\n",
        "    def __init__(self, message):\n",
        "        self.message = message\n",
        "        self.print_message()\n",
        "    \n",
        "    def print_message(self):\n",
        "        print('\\033[1;37;41m InvalidName \\033[0m', self.message)\n",
        "\n",
        "def raise_multiple(errors):\n",
        "    if not errors:\n",
        "        return\n",
        "    try:\n",
        "        raise errors.pop()\n",
        "    except:\n",
        "        pass\n",
        "    finally:\n",
        "        raise_multiple(errors)\n",
        "\n",
        "def validate_voter(name, age):\n",
        "    \n",
        "    words_in_name = len(name.split())\n",
        "    errors = []\n",
        "\n",
        "    if words_in_name == 0:\n",
        "        errors.append(InvalidName('Name cannot be empty !'))\n",
        "    if words_in_name < 2: \n",
        "        errors.append(InvalidName('Name must contain atleast two words...'))\n",
        "    if age < 18:\n",
        "        errors.append(InvalidAge('You cannot vote, as you are minor !'))\n",
        "\n",
        "    if not errors:\n",
        "        return True\n",
        "    else:\n",
        "        raise_multiple(errors)\n",
        "        return False\n",
        "    \n",
        "# Driver Code\n",
        "name = input('Enter your name : ')\n",
        "age = int(input('Enter your age : '))\n",
        "if validate_voter(name, age):\n",
        "    print('\\033[1;37;42m Success \\033[0m', 'Jeez!! You can vote...')\n",
        "else:\n",
        "    print('\\033[1;37;41m Failure \\033[0m', 'Oops!! You are not an eligible voter...')"
      ]
    },
    {
      "cell_type": "markdown",
      "metadata": {
        "id": "SCvs0QjgHlOG"
      },
      "source": [
        "### 🎯 **Q06: Infinite Natural Number Generator with StopIteration Exception**\n",
        "\n",
        "1. **Problem Statement**:\n",
        "   - Create a Python function that infinitely generates and prints natural numbers in a single line.\n",
        "   - The function should raise a **StopIteration** exception after printing the first 20 natural numbers, effectively stopping the program.\n",
        "\n",
        "2. **Task**:\n",
        "   - Implement an infinite loop to generate natural numbers starting from 1.\n",
        "   - Print each natural number in a single line, continuing the process indefinitely.\n",
        "   - Ensure that the function correctly raises the **StopIteration** exception after printing the first 20 numbers to terminate the output.\n",
        "\n",
        "3. **Relevant Information**:\n",
        "   - This exercise focuses on using exception handling to control the flow of an infinite loop and demonstrate natural number generation.\n",
        "\n",
        "4. **Input**:\n",
        "   - No input is required from the user; the function will operate autonomously.\n",
        "\n",
        "5. **Output**:\n",
        "   - The first 20 natural numbers printed on a single line, followed by raising the **StopIteration** exception."
      ]
    },
    {
      "cell_type": "code",
      "execution_count": 14,
      "metadata": {
        "id": "Lc5ilNgNHoSx"
      },
      "outputs": [
        {
          "name": "stdout",
          "output_type": "stream",
          "text": [
            "1 2 3 4 5 6 7 8 9 10 11 12 13 14 15 16 17 18 19 20 \n",
            "\u001b[1;37;41m StopIteration \u001b[0m We cannot print more numbers as StopIteration Exception is raised...\n"
          ]
        }
      ],
      "source": [
        "# Solution - Q06\n",
        "\n",
        "class StopIteration(Exception):\n",
        "    def __init__(self, message):\n",
        "        self.message = message\n",
        "        self.print_message()\n",
        "    \n",
        "    def print_message(self):\n",
        "        print('\\033[1;37;41m StopIteration \\033[0m', self.message)\n",
        "\n",
        "def natural_number_generator():\n",
        "    \n",
        "    number = 1\n",
        "    while True:\n",
        "        try:\n",
        "            if number > 20:\n",
        "                print() # NewLine\n",
        "                raise StopIteration('We cannot print more numbers as StopIteration Exception is raised...')\n",
        "        except:\n",
        "            break\n",
        "        \n",
        "        print(number, end=' ')\n",
        "        number += 1\n",
        "\n",
        "# Driver Code\n",
        "natural_number_generator()"
      ]
    }
  ],
  "metadata": {
    "colab": {
      "provenance": []
    },
    "kernelspec": {
      "display_name": "Python 3",
      "name": "python3"
    },
    "language_info": {
      "codemirror_mode": {
        "name": "ipython",
        "version": 3
      },
      "file_extension": ".py",
      "mimetype": "text/x-python",
      "name": "python",
      "nbconvert_exporter": "python",
      "pygments_lexer": "ipython3",
      "version": "3.12.5"
    }
  },
  "nbformat": 4,
  "nbformat_minor": 0
}
