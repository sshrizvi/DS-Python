{
 "cells": [
  {
   "cell_type": "markdown",
   "metadata": {},
   "source": [
    "# **Problems on Strings - Practice** [![Static Badge](https://img.shields.io/badge/Open%20in%20Colab%20-%20orange?style=plastic&logo=googlecolab&labelColor=grey)](https://colab.research.google.com/github/sshrizvi/DS-Python/blob/main/Notebooks/1_problems_on_strings.ipynb)"
   ]
  },
  {
   "cell_type": "markdown",
   "metadata": {},
   "source": [
    "## 🎯 **Question 01**\n",
    "\n",
    "#### Find the length of a given string without using the `len()` function.\n",
    "\n",
    "| **INPUT** |\n",
    "|:---------:|\n",
    "| DSMP |  \n",
    "\n",
    "<br>\n",
    "\n",
    "| **OUTPUT** |\n",
    "|:---------:|\n",
    "| Length of the entered String is 4. |"
   ]
  },
  {
   "cell_type": "code",
   "execution_count": 2,
   "metadata": {},
   "outputs": [
    {
     "name": "stdout",
     "output_type": "stream",
     "text": [
      "Length of the entered String is 4.\n"
     ]
    }
   ],
   "source": [
    "sentence = input(\"Enter a String : \")\n",
    "length = 0\n",
    "for i in sentence:\n",
    "    length += 1\n",
    "else:\n",
    "    print(\"Length of the entered String is {}.\".format(length))"
   ]
  },
  {
   "cell_type": "markdown",
   "metadata": {},
   "source": [
    "## 🎯 **Question 02**\n",
    "\n",
    "#### Extract username from an email id. \n",
    "***NOTE :***\n",
    "- Let say, `shujaathaider92@gmail.com` is the email id.\n",
    "- So the username is the portion of the mail before `@` symbol.\n",
    "- Therefore, username will be `shujaathaider92`.\n",
    "\n",
    "| **INPUT** |\n",
    "|:---------:|\n",
    "| google@gmail.com |  \n",
    "\n",
    "<br>\n",
    "\n",
    "| **OUTPUT** |\n",
    "|:---------:|\n",
    "| google |"
   ]
  },
  {
   "cell_type": "code",
   "execution_count": 7,
   "metadata": {},
   "outputs": [
    {
     "name": "stdout",
     "output_type": "stream",
     "text": [
      "Username is `google`.\n"
     ]
    }
   ],
   "source": [
    "email = input(\"Enter the email id : \")\n",
    "index = 0\n",
    "index = email.index('@')\n",
    "print(\"Username is `{}`.\".format(email[:index]))"
   ]
  },
  {
   "cell_type": "markdown",
   "metadata": {},
   "source": [
    "## 🎯 **Question 03**\n",
    "\n",
    "#### Count the frequency of a particular character in the given string.\n",
    "***NOTE :***\n",
    "- Let say, `Hello World` is the given string.\n",
    "- Therefore, frequency of `l` will be 3.\n",
    "\n",
    "| **INPUT** |\n",
    "|:---------:|\n",
    "| String : google@gmail.com <br> Character = g |  \n",
    "\n",
    "<br>\n",
    "\n",
    "| **OUTPUT** |\n",
    "|:---------:|\n",
    "| 3 |"
   ]
  },
  {
   "cell_type": "code",
   "execution_count": 9,
   "metadata": {},
   "outputs": [
    {
     "name": "stdout",
     "output_type": "stream",
     "text": [
      "Frequency of g is 3.\n"
     ]
    }
   ],
   "source": [
    "s = input(\"Enter a String : \")\n",
    "c = input(\"Enter the character : \")\n",
    "freq = 0\n",
    "for i in s:\n",
    "    if i == c:\n",
    "        freq += 1\n",
    "else:\n",
    "    print(\"Frequency of {} is {}.\".format(c, freq))"
   ]
  },
  {
   "cell_type": "markdown",
   "metadata": {},
   "source": [
    "## 🎯 **Question 04**\n",
    "\n",
    "#### Write a program which can remove a particular character from a string.\n",
    "\n",
    "***NOTE :***\n",
    "- Let say, `Hello World` is the given string.\n",
    "- And I want to remove `W` from the string.\n",
    "- The result will be `Hello orld`.\n",
    "\n",
    "| **INPUT** |\n",
    "|:---------:|\n",
    "| String : google@gmail.com <br> Character = g |  \n",
    "\n",
    "<br>\n",
    "\n",
    "| **OUTPUT** |\n",
    "|:---------:|\n",
    "| oole@mail.com |"
   ]
  },
  {
   "cell_type": "code",
   "execution_count": 10,
   "metadata": {},
   "outputs": [
    {
     "name": "stdout",
     "output_type": "stream",
     "text": [
      "String after removing character : oole@mail.com\n"
     ]
    }
   ],
   "source": [
    "s = input(\"Enter a string : \")\n",
    "c = input(\"Enter the character to be removed : \")\n",
    "new_string = \"\"\n",
    "for i in s:\n",
    "    if i != c:\n",
    "        new_string += i\n",
    "else:\n",
    "    print(\"String after removing character : {}\".format(new_string))"
   ]
  },
  {
   "cell_type": "markdown",
   "metadata": {},
   "source": [
    "## 🎯 **Question 05**\n",
    "\n",
    "#### Write a program to check if entered string is palindrome or not.\n",
    "\n",
    "***NOTE :***\n",
    "- Let say, `MADAM` is the string.\n",
    "- It is a palindrome string because when read from left or right it is same.\n",
    "\n",
    "| **INPUT** |\n",
    "|:---------:|\n",
    "| MADAM |  \n",
    "\n",
    "<br>\n",
    "\n",
    "| **OUTPUT** |\n",
    "|:---------:|\n",
    "| Yes! It is Palindrome. |"
   ]
  },
  {
   "cell_type": "code",
   "execution_count": 14,
   "metadata": {},
   "outputs": [
    {
     "name": "stdout",
     "output_type": "stream",
     "text": [
      "Yes! It is Palindrome.\n"
     ]
    }
   ],
   "source": [
    "s = input(\"Enter a String : \")\n",
    "if s == s[::-1]:\n",
    "    print(\"Yes! It is Palindrome.\")\n",
    "else:\n",
    "    print(\"No :( It is not Palindrome.\")"
   ]
  },
  {
   "cell_type": "markdown",
   "metadata": {},
   "source": [
    "## 🎯 **Question 06**\n",
    "\n",
    "#### Write a program to count the number of words in a String without using `split()` function.\n",
    "\n",
    "***NOTE :***\n",
    "- Let say, `My name is Shujaat` is the string.\n",
    "- It contains `4` words, which you have to find.\n",
    "\n",
    "| **INPUT** |\n",
    "|:---------:|\n",
    "| Lorem Ipsum Dolor Sit Amet |  \n",
    "\n",
    "<br>\n",
    "\n",
    "| **OUTPUT** |\n",
    "|:---------:|\n",
    "| 5 |"
   ]
  },
  {
   "cell_type": "code",
   "execution_count": 15,
   "metadata": {},
   "outputs": [
    {
     "name": "stdout",
     "output_type": "stream",
     "text": [
      "No. of Words : 5\n"
     ]
    }
   ],
   "source": [
    "s = input(\"Enter a String : \")\n",
    "count = 0\n",
    "for i in s:\n",
    "    if i == ' ':\n",
    "        count += 1\n",
    "else:\n",
    "    print(\"No. of Words : {}\".format(count+1))"
   ]
  },
  {
   "cell_type": "markdown",
   "metadata": {},
   "source": [
    "## 🎯 **Question 07**\n",
    "\n",
    "#### Write a program to convert the string into Title Case without using the `title()` function.\n",
    "\n",
    "***NOTE :***\n",
    "- Let say, `university of allahabad` is the string.\n",
    "- Your answer would be `University Of Allahabad`.\n",
    "\n",
    "| **INPUT** |\n",
    "|:---------:|\n",
    "| lorem ipsum dolor sit amet |  \n",
    "\n",
    "<br>\n",
    "\n",
    "| **OUTPUT** |\n",
    "|:---------:|\n",
    "| Lorem Ipsum Dolor Sit Amet |"
   ]
  },
  {
   "cell_type": "code",
   "execution_count": 19,
   "metadata": {},
   "outputs": [
    {
     "name": "stdout",
     "output_type": "stream",
     "text": [
      "Lorem Ipsum Dolor Sit Amet\n"
     ]
    }
   ],
   "source": [
    "s = input(\"Enter a String : \")\n",
    "title_string = \"\"\n",
    "i = 0\n",
    "while(i < len(s)):\n",
    "    if i == 0:\n",
    "        title_string += s[i].upper()\n",
    "    elif s[i-1] == ' ':\n",
    "        title_string += s[i].upper()\n",
    "    else:\n",
    "        title_string += s[i].lower()\n",
    "    i += 1\n",
    "else:\n",
    "    print(\"{}\".format(title_string))"
   ]
  }
 ],
 "metadata": {
  "kernelspec": {
   "display_name": "Python 3",
   "language": "python",
   "name": "python3"
  },
  "language_info": {
   "codemirror_mode": {
    "name": "ipython",
    "version": 3
   },
   "file_extension": ".py",
   "mimetype": "text/x-python",
   "name": "python",
   "nbconvert_exporter": "python",
   "pygments_lexer": "ipython3",
   "version": "3.12.1"
  },
  "orig_nbformat": 4
 },
 "nbformat": 4,
 "nbformat_minor": 2
}
