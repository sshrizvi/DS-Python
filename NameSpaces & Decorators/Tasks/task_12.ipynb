{
  "cells": [
    {
      "cell_type": "markdown",
      "metadata": {},
      "source": [
        "# **Task 12 - (Article 73 to 79)** [![Static Badge](https://img.shields.io/badge/Open%20in%20Colab%20-%20orange?style=plastic&logo=googlecolab&labelColor=grey)](https://colab.research.google.com/github/sshrizvi/DS-Python/blob/main/NameSpaces%20&%20Decorators/Tasks/task_12.ipynb)\n",
        "\n",
        "|🔴 **WARNING** 🔴|\n",
        "|:-----------:|\n",
        "|If you have not studied article 73 to 79. Do checkout the articles before attempting the task.|\n",
        "| Here is [Article 73 - NameSpaces in Python](../Articles/73_namespaces.md) |"
      ]
    },
    {
      "cell_type": "markdown",
      "metadata": {
        "id": "hM8V4LxHKV6x"
      },
      "source": [
        "## **🚀 Section 01 : Problems on Namespaces and Scopes**"
      ]
    },
    {
      "cell_type": "markdown",
      "metadata": {
        "id": "Kl3s2TonKYgY"
      },
      "source": [
        "### 🎯 **Q01: Person Class with Namespace Display**\n",
        "\n",
        "1. **Problem Statement**:\n",
        "   - Create a `Person` class with specific attributes and a method to generate the address of a person.\n",
        "   - Display the class's namespace to see its attributes and methods.\n",
        "\n",
        "2. **Class Definition**:\n",
        "   - **Class Name**: `Person`\n",
        "   - **Attributes**:\n",
        "     - `name`: public attribute\n",
        "     - `state`: public attribute\n",
        "     - `city`: private attribute\n",
        "     - `age`: private attribute\n",
        "   - **Methods**:\n",
        "     - `address`: a public method that returns the person's address in the format: `\"<name>, <city>, <state>\"`\n",
        "\n",
        "3. **Task**:\n",
        "   - Define the `Person` class with the above specifications.\n",
        "   - After creating an instance, print the class's namespace to verify its attributes and methods.\n",
        "\n",
        "4. **Input**:\n",
        "   - No input required from the user to display the namespace.\n",
        "\n",
        "5. **Output**:\n",
        "   - Display the `Person` class's namespace showing attributes and methods."
      ]
    },
    {
      "cell_type": "code",
      "execution_count": 30,
      "metadata": {},
      "outputs": [
        {
          "data": {
            "text/plain": [
              "mappingproxy({'__module__': '__main__',\n",
              "              '__init__': <function __main__.Person.__init__(self, name, state, city, age)>,\n",
              "              'address': <function __main__.Person.address(self)>,\n",
              "              '__dict__': <attribute '__dict__' of 'Person' objects>,\n",
              "              '__weakref__': <attribute '__weakref__' of 'Person' objects>,\n",
              "              '__doc__': None})"
            ]
          },
          "execution_count": 30,
          "metadata": {},
          "output_type": "execute_result"
        }
      ],
      "source": [
        "# Solution - Question 01\n",
        "\n",
        "class Person:\n",
        "\n",
        "    def __init__(self, name, state, city, age):\n",
        "        self.name = name\n",
        "        self.state = state\n",
        "        self.__city = city\n",
        "        self.__age = age\n",
        "\n",
        "    def address(self):\n",
        "        return '{}, {}, {}'.format(self.name, self.__city, self.state)\n",
        "    \n",
        "Person.__dict__"
      ]
    },
    {
      "cell_type": "markdown",
      "metadata": {
        "id": "NLtOPOXDL_zB"
      },
      "source": [
        "### 🎯 **Q02: Display Namespace of an Object of the Person Class**\n",
        "\n",
        "1. **Problem Statement**:\n",
        "   - Create an instance of the `Person` class and display the namespace of the object.\n",
        "   - The namespace should show all attributes and methods associated with the instance.\n",
        "\n",
        "2. **Class Definition**:\n",
        "   - Use the `Person` class from the previous question, which contains attributes (`name`, `state`, `city`, `age`) and a method (`address`).\n",
        "\n",
        "3. **Task**:\n",
        "   - Instantiate an object of the `Person` class.\n",
        "   - Print the namespace of the created instance to see its attributes and methods.\n",
        "\n",
        "4. **Input**:\n",
        "   - No user input required for displaying the namespace.\n",
        "\n",
        "5. **Output**:\n",
        "   - Display the instance's namespace, showing any dynamically set attributes and methods associated with it."
      ]
    },
    {
      "cell_type": "code",
      "execution_count": 31,
      "metadata": {},
      "outputs": [
        {
          "data": {
            "text/plain": [
              "{'name': 'Syed Shujaat Haider',\n",
              " 'state': 'Uttar Pradesh',\n",
              " '_Person__city': 'Prayagraj',\n",
              " '_Person__age': 20}"
            ]
          },
          "execution_count": 31,
          "metadata": {},
          "output_type": "execute_result"
        }
      ],
      "source": [
        "# Solution - Question 02\n",
        "\n",
        "class Person:\n",
        "\n",
        "    def __init__(self, name, state, city, age):\n",
        "        self.name = name\n",
        "        self.state = state\n",
        "        self.__city = city\n",
        "        self.__age = age\n",
        "\n",
        "    def address(self):\n",
        "        return '{}, {}, {}'.format(self.name, self.__city, self.state)\n",
        "    \n",
        "abbas = Person('Syed Shujaat Haider', 'Uttar Pradesh', 'Prayagraj', 20)\n",
        "abbas.__dict__"
      ]
    },
    {
      "cell_type": "markdown",
      "metadata": {
        "id": "rRnCZmlUY8sn"
      },
      "source": [
        "### 🎯 **Q03: Recursive GCD with Function Call Count**\n",
        "\n",
        "1. **Problem Statement**:\n",
        "   - Write a recursive program to calculate the Greatest Common Divisor (GCD) of two given numbers.\n",
        "   - In addition to finding the GCD, track and print the number of recursive function calls made during the computation.\n",
        "\n",
        "2. **Task**:\n",
        "   - Define a recursive function that calculates the GCD of two numbers using the Euclidean algorithm.\n",
        "   - Keep a counter to track the number of recursive calls.\n",
        "   - After finding the GCD, print the result along with the total function call count.\n",
        "\n",
        "3. **Input**:\n",
        "   - Two integers for which the GCD needs to be computed (e.g., `gcd(5, 10)`).\n",
        "\n",
        "4. **Output**:\n",
        "   - Display the GCD and the count of function calls.\n",
        "   - **Example Output**:\n",
        "     ```bash\n",
        "     GCD: 5\n",
        "     Function Calls: 4\n",
        "     ```\n",
        "\n"
      ]
    },
    {
      "cell_type": "code",
      "execution_count": 32,
      "metadata": {
        "id": "jYiVzxhUZRln"
      },
      "outputs": [
        {
          "name": "stdout",
          "output_type": "stream",
          "text": [
            "GCD: 9\n",
            "Function Calls: 4\n"
          ]
        }
      ],
      "source": [
        "# Solution - Question 03\n",
        "\n",
        "calls = 0\n",
        "def gcd(a, b):\n",
        "    global calls\n",
        "    calls += 1\n",
        "    if b != 0:\n",
        "        return gcd(b, a % b)\n",
        "    else:\n",
        "        return a\n",
        "    \n",
        "# Driver Code\n",
        "result = gcd(45, 54)\n",
        "print('GCD: {}'.format(result))\n",
        "print('Function Calls: {}'.format(calls))"
      ]
    },
    {
      "cell_type": "markdown",
      "metadata": {
        "id": "FbDepR9QNGnh"
      },
      "source": [
        "## **🚀 Section 02 : Problems on Iterators and Generators**"
      ]
    },
    {
      "cell_type": "markdown",
      "metadata": {
        "id": "Nj5WaR_4NJTu"
      },
      "source": [
        "### 🎯 **Q04: Custom MyEnumerate Class**\n",
        "\n",
        "1. **Problem Statement**:\n",
        "   - Create a custom class `MyEnumerate` that mimics the functionality of Python’s built-in `enumerate`.\n",
        "   - This class should generate a tuple for each iteration, where the first element is the index (starting from 0) and the second element is the item from the iterable.\n",
        "   - If the argument passed is non-iterable, it should raise an error.\n",
        "\n",
        "2. **Class Definition**:\n",
        "   - `MyEnumerate` should be able to be used in a loop like `enumerate` with any iterable (e.g., strings, lists).\n",
        "   - Attempting to initialize `MyEnumerate` with a non-iterable should result in an appropriate error.\n",
        "\n",
        "3. **Input**:\n",
        "   - An iterable (like a string, list, etc.) is passed to `MyEnumerate`.\n",
        "\n",
        "4. **Output**:\n",
        "   - A sequence of tuples, where each tuple contains an index and an element from the iterable.\n",
        "   - **Example Output**:\n",
        "     ```bash\n",
        "     0 : a\n",
        "     1 : b\n",
        "     2 : c\n",
        "     ```"
      ]
    },
    {
      "cell_type": "code",
      "execution_count": 56,
      "metadata": {
        "id": "6zjcm2gxNbfJ"
      },
      "outputs": [
        {
          "name": "stdout",
          "output_type": "stream",
          "text": [
            "0 : a\n",
            "1 : b\n",
            "2 : c\n"
          ]
        }
      ],
      "source": [
        "# Solution - Question 04\n",
        "\n",
        "class MyEnumerate:\n",
        "    \n",
        "    def __init__(self, iterable):\n",
        "        self.iterable = iterable\n",
        "        self.validate_iterable()\n",
        "        self.index = 0\n",
        "\n",
        "    def validate_iterable(self):\n",
        "        if '__iter__' not in dir(self.iterable):\n",
        "            raise TypeError('The argument provided is not an iterable.')\n",
        "        \n",
        "    def __iter__(self):\n",
        "        return self\n",
        "    \n",
        "    def __next__(self):\n",
        "        if self.index < len(self.iterable):\n",
        "            result = (self.index, self.iterable[self.index])\n",
        "            self.index += 1\n",
        "            return result\n",
        "        else:\n",
        "            raise StopIteration\n",
        "            \n",
        "        \n",
        "L = ['a', 'b', 'c']\n",
        "enum_object = MyEnumerate(L)\n",
        "for index, letter in enum_object:\n",
        "    print(f'{index} : {letter}')"
      ]
    },
    {
      "cell_type": "markdown",
      "metadata": {
        "id": "U2Ai7rVDOLBw"
      },
      "source": [
        "### 🎯 **Q05: Circle Class for Repeated Iteration**\n",
        "\n",
        "1. **Problem Statement**:\n",
        "   - Define a class, `Circle`, that takes two arguments:\n",
        "     - A sequence (e.g., a string or list).\n",
        "     - A number representing how many elements to return.\n",
        "   - The class should allow iteration over the sequence for the specified number of elements, repeating the sequence as necessary if the number of elements requested exceeds the sequence length.\n",
        "   - Implement a helper class, like `CircleIterator`, to handle the iteration logic.\n",
        "\n",
        "2. **Class Definition**:\n",
        "   - `Circle` class should initialize with the sequence and count, and allow iteration over the sequence for the specified number of elements.\n",
        "   - `CircleIterator` can be used to manage the repeated iteration seamlessly.\n",
        "\n",
        "3. **Input**:\n",
        "   - A sequence and an integer (number of elements to return).\n",
        "   - ```python\n",
        "      c = Circle('abc', 5)\n",
        "      d = Circle('abc', 7)\n",
        "      print(list(c))\n",
        "      print(list(d))\n",
        "      ```\n",
        "\n",
        "4. **Output**:\n",
        "   - A list containing elements of the sequence repeated as needed to reach the specified count.\n",
        "   - **Example Output**:\n",
        "     ```bash\n",
        "     ['a', 'b', 'c', 'a', 'b']\n",
        "     ['a', 'b', 'c', 'a', 'b', 'c', 'a']\n",
        "     ```"
      ]
    },
    {
      "cell_type": "code",
      "execution_count": 65,
      "metadata": {
        "id": "iwcTy1HyO5hs"
      },
      "outputs": [
        {
          "name": "stdout",
          "output_type": "stream",
          "text": [
            "['a', 'b', 'c', 'a', 'b']\n",
            "['a', 'b', 'c', 'a', 'b', 'c', 'a']\n"
          ]
        }
      ],
      "source": [
        "# Solution - Question 05\n",
        "\n",
        "class Circle:\n",
        "\n",
        "    def __init__(self, sequence, n):\n",
        "        self.sequence = sequence\n",
        "        self.n = n\n",
        "        self.index = 0\n",
        "\n",
        "    def __iter__(self):\n",
        "        return self\n",
        "    \n",
        "    def __next__(self):\n",
        "        length = len(self.sequence)\n",
        "        if self.index < self.n:\n",
        "            result = self.sequence[self.index % length]\n",
        "            self.index += 1\n",
        "            return result\n",
        "        else:\n",
        "            raise StopIteration\n",
        "\n",
        "\n",
        "# Driver Code\n",
        "c = Circle('abc', 5)\n",
        "d = Circle('abc', 7)\n",
        "print(list(c))\n",
        "print(list(d))"
      ]
    },
    {
      "cell_type": "markdown",
      "metadata": {
        "id": "17KyhciKQnAE"
      },
      "source": [
        "### 🎯 **Q06: Generator with Time Elapsed**\n",
        "\n",
        "1. **Problem Statement**:\n",
        "   - Write a generator function that takes an iterable as an argument.\n",
        "   - On each iteration, the generator should return a tuple with two elements:\n",
        "     1. An integer indicating the seconds elapsed since the previous iteration.\n",
        "     2. The current item from the provided iterable.\n",
        "   - For the first iteration, the elapsed time should be `0`.\n",
        "\n",
        "2. **Requirements**:\n",
        "   - The timing should be calculated relative to the previous iteration, not the initial generator creation or invocation.\n",
        "   - Use `time.sleep` to simulate delays for testing.\n",
        "\n",
        "3. **Example Usage**:\n",
        "   ```python\n",
        "   for t in elapsed_since('abcd'):\n",
        "       print(t)\n",
        "       time.sleep(2)\n",
        "   ```\n",
        "\n",
        "4. **Example Output**:\n",
        "   ```bash\n",
        "   (0.0, 'a')\n",
        "   (2.000962495803833, 'b')\n",
        "   (4.0013368129730225, 'c')\n",
        "   (6.004410743713379, 'd')\n",
        "   ```\n",
        "   *Note*: The exact time values may vary depending on system performance."
      ]
    },
    {
      "cell_type": "code",
      "execution_count": 69,
      "metadata": {
        "id": "UkH1tj9zQ-gc"
      },
      "outputs": [
        {
          "name": "stdout",
          "output_type": "stream",
          "text": [
            "(0.0, 'a')\n",
            "(2.001955509185791, 'b')\n",
            "(4.002861499786377, 'c')\n",
            "(6.006190061569214, 'd')\n"
          ]
        }
      ],
      "source": [
        "# Solution - Question 06\n",
        "\n",
        "import time\n",
        "\n",
        "def elapsed_since(iterable):\n",
        "    start_time = time.time()\n",
        "    for i in iterable:\n",
        "        yield (time.time() - start_time, i)\n",
        "\n",
        "# Driver Code\n",
        "for t in elapsed_since('abcd'):\n",
        "    print(t)\n",
        "    time.sleep(2)"
      ]
    },
    {
      "cell_type": "markdown",
      "metadata": {
        "id": "fXr3OJxJSC1j"
      },
      "source": [
        "## **🚀 Section 03 : Problems on Decorators**"
      ]
    },
    {
      "cell_type": "markdown",
      "metadata": {
        "id": "xSjvwAt-SFhi"
      },
      "source": [
        "### 🎯 **Q07: Function Decorator Chain**\n",
        "\n",
        "1. **Problem Statement**:\n",
        "   - Create a chain of function decorators to apply HTML-like formatting (`bold`, `italic`, and `underline`) to the output of a function that returns the string `\"hello world\"`.\n",
        "   - Each decorator should wrap the returned string in the specified HTML tags:\n",
        "     - `bold` decorator: wraps the string with `<b>...</b>`\n",
        "     - `italic` decorator: wraps the string with `<i>...</i>`\n",
        "     - `underline` decorator: wraps the string with `<u>...</u>`\n",
        "\n",
        "2. **Function to Decorate**:\n",
        "   - Define a simple function, `hello()`, that returns the text `\"hello world\"`.\n",
        "\n",
        "3. **Example Usage**:\n",
        "   ```python\n",
        "   # Applying the decorators\n",
        "   @bold\n",
        "   @italic\n",
        "   @underline\n",
        "   def hello():\n",
        "       return \"hello world\"\n",
        "   \n",
        "   print(hello())  # Expected Output: <b><i><u>hello world</u></i></b>\n",
        "   ```\n",
        "\n",
        "4. **Output**:\n",
        "   ```bash\n",
        "   '<b><i><u>hello world</u></i></b>'\n",
        "   ```"
      ]
    },
    {
      "cell_type": "code",
      "execution_count": 70,
      "metadata": {},
      "outputs": [
        {
          "data": {
            "text/plain": [
              "'<b><i><u>hello world</u></i></b>'"
            ]
          },
          "execution_count": 70,
          "metadata": {},
          "output_type": "execute_result"
        }
      ],
      "source": [
        "# Solution - Question 07\n",
        "\n",
        "def bold(func):\n",
        "    def wrapper():\n",
        "        result = func()\n",
        "        return '<b>{}</b>'.format(result)\n",
        "    return wrapper\n",
        "\n",
        "def italic(func):\n",
        "    def wrapper():\n",
        "        result = func()\n",
        "        return '<i>{}</i>'.format(result)\n",
        "    return wrapper\n",
        "\n",
        "def underline(func):\n",
        "    def wrapper():\n",
        "        result = func()\n",
        "        return '<u>{}</u>'.format(result)\n",
        "    return wrapper\n",
        "\n",
        "\n",
        "@bold\n",
        "@italic\n",
        "@underline\n",
        "def hello():\n",
        "    return \"hello world\"\n",
        "\n",
        "# Driver Code\n",
        "hello()"
      ]
    },
    {
      "cell_type": "markdown",
      "metadata": {
        "id": "miKBwPy4TQWa"
      },
      "source": [
        "### 🎯 **Q08: Print Return Values with Decorator**\n",
        "\n",
        "1. **Problem Statement**:\n",
        "   - Create a decorator named `printer` that, when applied to a function, will print the function's return value.\n",
        "   - If the function's return value is `None`, the decorator should not print anything.\n",
        "\n",
        "2. **Decorator Definition**:\n",
        "   - Define a decorator called `printer`.\n",
        "   - The decorator should wrap the target function, execute it, and check the returned value.\n",
        "   - If the returned value is not `None`, the decorator should print this value to the console.\n",
        "\n",
        "3. **Example Usage**:\n",
        "   ```python\n",
        "   @printer\n",
        "   def greet():\n",
        "       return \"Hello, World!\"\n",
        "\n",
        "   @printer\n",
        "   def say_nothing():\n",
        "       pass\n",
        "\n",
        "   greet()       # Expected Output: Hello, World!\n",
        "   say_nothing() # Expected Output: (No output)\n",
        "   ```\n",
        "\n",
        "4. **Output**:\n",
        "   ```bash\n",
        "   Hello, World!\n",
        "   ```"
      ]
    },
    {
      "cell_type": "code",
      "execution_count": 73,
      "metadata": {
        "id": "05s0poRoT9II"
      },
      "outputs": [
        {
          "name": "stdout",
          "output_type": "stream",
          "text": [
            "Hello, World!\n"
          ]
        }
      ],
      "source": [
        "# Solution - Question 08\n",
        "\n",
        "def printer(func):\n",
        "    def wrapper():\n",
        "        result = func()\n",
        "        if result:\n",
        "            print(result)\n",
        "    return wrapper\n",
        "\n",
        "\n",
        "@printer\n",
        "def greet():\n",
        "    return \"Hello, World!\"\n",
        "\n",
        "@printer\n",
        "def say_nothing():\n",
        "    pass\n",
        "\n",
        "# Driver Code\n",
        "greet()\n",
        "say_nothing()"
      ]
    },
    {
      "cell_type": "markdown",
      "metadata": {
        "id": "DWJLjPOnURua"
      },
      "source": [
        "### 🎯 **Q09: Call Function Twice with Decorator**\n",
        "\n",
        "1. **Problem Statement**:\n",
        "   - Create a decorator that modifies a given function to call it twice whenever it is invoked.\n",
        "   - The decorator should support functions that take arguments.\n",
        "\n",
        "2. **Decorator Definition**:\n",
        "   - Define a decorator that wraps the target function, allowing it to be called twice with the same arguments each time.\n",
        "\n",
        "3. **Example Usage**:\n",
        "   ```python\n",
        "   @call_twice\n",
        "   def hello(string):\n",
        "       print(string)\n",
        "\n",
        "   hello('hello')  # Output: hello \\n hello\n",
        "   ```\n",
        "\n",
        "4. **Output**:\n",
        "   ```bash\n",
        "   hello\n",
        "   hello\n",
        "   ```"
      ]
    },
    {
      "cell_type": "code",
      "execution_count": 75,
      "metadata": {
        "id": "e38y0cz7UTdD"
      },
      "outputs": [
        {
          "name": "stdout",
          "output_type": "stream",
          "text": [
            "hello\n",
            "hello\n"
          ]
        }
      ],
      "source": [
        "# Solution - Question 09\n",
        "\n",
        "def call_twice(func):\n",
        "    def wrapper(*args, **kwargs):\n",
        "        func(*args, **kwargs)\n",
        "        func(*args, **kwargs)\n",
        "    return wrapper\n",
        "\n",
        "@call_twice\n",
        "def hello(string):\n",
        "    print(string)\n",
        "\n",
        "hello('hello')"
      ]
    },
    {
      "cell_type": "markdown",
      "metadata": {
        "id": "8btcQI9pWi2w"
      },
      "source": [
        "### 🎯 **Q10: Double the Return Value with Decorator**\n",
        "\n",
        "1. **Problem Statement**:\n",
        "   - Implement a decorator that modifies any function's return value by doubling it.\n",
        "   - Ensure the decorator works correctly by testing it with assertions.\n",
        "\n",
        "2. **Decorator Definition**:\n",
        "   - Create a decorator that wraps the target function and doubles the value returned by it.\n",
        "\n",
        "3. **Example Usage**:\n",
        "   ```python\n",
        "   @double_return\n",
        "   def add(x, y):\n",
        "       return x + y\n",
        "\n",
        "   # Testing the decorator\n",
        "   result = add(2, 3)  # Should return 10 after doubling\n",
        "   assert result == 10, f\"Expected 10 but got {result}\"\n",
        "   ```\n",
        "\n",
        "4. **Output**:\n",
        "   ```bash\n",
        "   No output if the assertion passes.\n",
        "   ```"
      ]
    },
    {
      "cell_type": "code",
      "execution_count": 78,
      "metadata": {},
      "outputs": [],
      "source": [
        "# Solution - Question 10\n",
        "\n",
        "def double_return(func):\n",
        "    def wrapper(*args, **kwargs):\n",
        "        return 2 * func(*args, **kwargs)\n",
        "    return wrapper\n",
        "\n",
        "@double_return\n",
        "def add(x, y):\n",
        "    return x + y\n",
        "\n",
        "# Driver Code\n",
        "result = add(2, 3)\n",
        "assert result == 10, f\"Expected 10 but got {result}\""
      ]
    }
  ],
  "metadata": {
    "colab": {
      "provenance": []
    },
    "kernelspec": {
      "display_name": "Python 3",
      "name": "python3"
    },
    "language_info": {
      "codemirror_mode": {
        "name": "ipython",
        "version": 3
      },
      "file_extension": ".py",
      "mimetype": "text/x-python",
      "name": "python",
      "nbconvert_exporter": "python",
      "pygments_lexer": "ipython3",
      "version": "3.12.5"
    }
  },
  "nbformat": 4,
  "nbformat_minor": 0
}
