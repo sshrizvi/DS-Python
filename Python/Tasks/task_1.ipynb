{
 "cells": [
  {
   "cell_type": "markdown",
   "metadata": {},
   "source": [
    "# **Task 1 - *(Article 1 to 9)*** \n",
    "\n",
    "|🔴 **WARNING** 🔴|\n",
    "|:-----------:|\n",
    "|If you have not studied article 1 to 9. Do checkout the articles before attempting the task.|\n",
    "| Here is [Article 01 - What is Python ?](/Python/Articles/1_what_is_python.md) |"
   ]
  },
  {
   "cell_type": "markdown",
   "metadata": {},
   "source": [
    "## 🎯 **Question 01**\n",
    "\n",
    "#### Print the given strings ***as per stated format***.\n",
    "|**Given Strings**|\n",
    "|:-------|\n",
    "|`\"Data\",\"Science\",\"Mentorship\",\"Program\",\"By\",\"CampusX\"`|\n",
    "|**Output**|\n",
    "|`Data-Science-Mentorship-Program-started-By-CampusX`|\n",
    "\n",
    "***HINT*** - Use `sep` attribute of `print` function."
   ]
  },
  {
   "cell_type": "code",
   "execution_count": 1,
   "metadata": {},
   "outputs": [
    {
     "name": "stdout",
     "output_type": "stream",
     "text": [
      "Data-Science-Mentorship-Program-By-CampusX\n"
     ]
    }
   ],
   "source": [
    "# Solution - Question 01\n",
    "print(\"Data\", \"Science\", \"Mentorship\", \"Program\", \"By\", \"CampusX\", sep = \"-\")"
   ]
  },
  {
   "cell_type": "markdown",
   "metadata": {},
   "source": [
    "## 🎯 **Question 02**\n",
    "\n",
    "#### Write a program that takes ***temperature*** as input in ***Celsius***, and convert it into ***Fahrenheit***.\n",
    "\n",
    "|**Input**|\n",
    "|-------|\n",
    "|`C = 37`|\n",
    "|**Output**|\n",
    "|`F = 98.6`|\n",
    "\n",
    "***HINT*** - $F = \\left( \\frac{9}{5} \\right)C + 32\n",
    "$"
   ]
  },
  {
   "cell_type": "code",
   "execution_count": 4,
   "metadata": {},
   "outputs": [
    {
     "name": "stdout",
     "output_type": "stream",
     "text": [
      "98.60000000000001\n"
     ]
    }
   ],
   "source": [
    "# Solution - Question 02\n",
    "celsius = float(input(\"Enter temperature in Celsius : \"))\n",
    "fahrenheit = (9/5) * celsius + 32.0\n",
    "print(fahrenheit)"
   ]
  },
  {
   "cell_type": "markdown",
   "metadata": {},
   "source": [
    "## 🎯 **Question 03**\n",
    "\n",
    "#### Take ***two numbers*** as input from the user. Write a program to ***swap*** the numbers ***without using any special python syntax***.\n",
    "\n",
    "|**Input**|\n",
    "|-------|\n",
    "|`a = 2`, `b = 3`|\n",
    "|**Output**|\n",
    "|`a = 3`, `a = 2`|\n",
    "\n",
    "***HINT*** - Try to use *sum* or *product* for swapping."
   ]
  },
  {
   "cell_type": "code",
   "execution_count": 7,
   "metadata": {},
   "outputs": [
    {
     "name": "stdout",
     "output_type": "stream",
     "text": [
      "Values before swapping :\n",
      "a = 10\n",
      "b = 90\n",
      "Values after swapping : (Using Sum)\n",
      "a = 90\n",
      "b = 10\n",
      "Values after swapping : (Using Product)\n",
      "a = 10\n",
      "b = 90\n"
     ]
    }
   ],
   "source": [
    "# Solution - Question 03\n",
    "a = int(input(\"Enter the first number (a) : \"))\n",
    "b = int(input(\"Enter the second number (b) : \"))\n",
    "print(\"Values before swapping :\", f\"a = {a}\", f\"b = {b}\", sep = \"\\n\")\n",
    "\n",
    "# Using Sum for Swapping\n",
    "sum = a + b\n",
    "a = sum - a\n",
    "b = sum - b\n",
    "print(\"Values after swapping : (Using Sum)\", f\"a = {a}\", f\"b = {b}\", sep = \"\\n\")\n",
    "\n",
    "# Using Product for Swapping\n",
    "sum = a * b\n",
    "a = sum // a\n",
    "b = sum // b\n",
    "print(\"Values after swapping : (Using Product)\", f\"a = {a}\", f\"b = {b}\", sep = \"\\n\")"
   ]
  },
  {
   "cell_type": "markdown",
   "metadata": {},
   "source": [
    "## 🎯 **Question 04**\n",
    "\n",
    "#### Write a program to find the **euclidean distance between two coordinates**. Take both the coordinates from the user as input.\n",
    "\n",
    "|**Input**|\n",
    "|-------|\n",
    "|`p = (1,2)` and `q = (0,0)`|\n",
    "|**Output**|\n",
    "|`distance = 2.2360679775`|\n",
    "\n",
    "***HINT*** - Use $\\displaystyle d(p,q)={\\sqrt {(p_{1}-q_{1})^{2}+(p_{2}-q_{2})^{2}}}$"
   ]
  },
  {
   "cell_type": "code",
   "execution_count": 18,
   "metadata": {},
   "outputs": [
    {
     "name": "stdout",
     "output_type": "stream",
     "text": [
      "Point p : (1, 2)\n",
      "Point q : (0, 0)\n",
      "Distance : 2.23606797749979\n"
     ]
    }
   ],
   "source": [
    "# Solution - Question 04\n",
    "p = eval(input(\" Enter coordinates of p as (a,b) : \"))\n",
    "q = eval(input(\" Enter coordinates of q as (a,b) : \"))\n",
    "\n",
    "distance = ((p[0] - q[0])**2 + (p[1] - q[1])** 2)**(1/2)\n",
    "\n",
    "print(f\"Point p : {p}\", f\"Point q : {q}\", f\"Distance : {distance}\", sep = \"\\n\")"
   ]
  },
  {
   "cell_type": "markdown",
   "metadata": {},
   "source": [
    "## 🎯 **Question 05**\n",
    "\n",
    "#### Write a program to find the ***simple interest*** when the value of ***principal***, ***rate of interest*** and ***time period*** is provided by the user.\n",
    "\n",
    "|**Input**|\n",
    "|-------|\n",
    "|`P = Rs. 20000` <br> `R = 3% (p.a.)` <br> `T = 10 Years`|\n",
    "|**Output**|\n",
    "|`SI = Rs. 6000`|\n",
    "\n",
    "***HINT*** - Use $SI = (P \\times R \\times T)/100\n",
    "$"
   ]
  },
  {
   "cell_type": "code",
   "execution_count": 22,
   "metadata": {},
   "outputs": [
    {
     "name": "stdout",
     "output_type": "stream",
     "text": [
      "P = Rs. 20000\n",
      "R = 3% p.a.\n",
      "T = 10 years\n",
      "SI = Rs. 6000\n"
     ]
    }
   ],
   "source": [
    "# Solution - Question 05\n",
    "p = int(input(\"Enter Principal : \"))\n",
    "r = int(input(\"Enter Rate of Interest in % p.a. : \"))\n",
    "t = int(input(\"Enter Time Period in Years : \"))\n",
    "\n",
    "si = (p * r * t)//100\n",
    "\n",
    "print(f\"P = Rs. {p}\", f\"R = {r}% p.a.\", f\"T = {t} years\", f\"SI = Rs. {si}\", sep = \"\\n\")"
   ]
  },
  {
   "cell_type": "markdown",
   "metadata": {},
   "source": [
    "## 🎯 **Question 06**\n",
    "\n",
    "#### Write a program that will return the no. of ***Dogs*** and ***Chicken*** are there on the basis of value of total no. of ***Heads*** and ***Legs***, provided by the user.\n",
    "\n",
    "|**Input**|\n",
    "|-------|\n",
    "|`Heads = 4` <br> `Legs = 12`|\n",
    "|**Output**|\n",
    "|`Dogs = 2` <br> `Chicken = 2`|\n",
    "\n",
    "***HINT*** \n",
    "- 1 Dog has 1 Head and 4 Legs\n",
    "- 1 Chicken has 1 Head and 2 Legs"
   ]
  },
  {
   "cell_type": "code",
   "execution_count": 38,
   "metadata": {},
   "outputs": [
    {
     "name": "stdout",
     "output_type": "stream",
     "text": [
      "Dogs = 7\n",
      "Chicken = 5\n"
     ]
    }
   ],
   "source": [
    "# Solution - Question 06\n",
    "heads = int(input(\"Enter no. of heads : \"))\n",
    "legs = int(input(\"Enter no. of legs : \"))\n",
    "d = c = 0\n",
    "h, l = heads, legs\n",
    "\n",
    "for i in range(h):\n",
    "    if(h * 2 == l):\n",
    "        c = h\n",
    "        break\n",
    "    elif(h * 4 == l):\n",
    "        d = h\n",
    "        break\n",
    "    else:\n",
    "        h = h - 1\n",
    "        l = l - 4\n",
    "        d = d + 1\n",
    "\n",
    "print(f\"Dogs = {d}\")\n",
    "print(f\"Chicken = {c}\")"
   ]
  },
  {
   "cell_type": "markdown",
   "metadata": {},
   "source": [
    "## 🎯 **Question 07**\n",
    "\n",
    "#### Write a program to find the ***sum of squares*** of first ***n*** natural numbers where ***n*** will be provided by the user.\n",
    "\n",
    "|**Input**|\n",
    "|-------|\n",
    "|`n = 5`|\n",
    "|**Output**|\n",
    "|`sum = 1 + 4 + 9 + 16 + 25 = 55`|\n",
    "\n",
    "***HINT*** - Use `for` loop ***OR*** $S = \\sum_{i=1}^{n} i^2 = \\frac{n(n + 1)(2n + 1)}{6}\n",
    "$"
   ]
  },
  {
   "cell_type": "code",
   "execution_count": 23,
   "metadata": {},
   "outputs": [
    {
     "name": "stdout",
     "output_type": "stream",
     "text": [
      "Sum (Loop) : 55\n",
      "Sum (Formula) : 55\n"
     ]
    }
   ],
   "source": [
    "# Solution - Question 07\n",
    "n = int(input(\"Enter value of n : \"))\n",
    "\n",
    "# Using for Loop\n",
    "sum = 0\n",
    "for i in range(1, n+1):\n",
    "    sum = sum + (i*i)\n",
    "print(f\"Sum (Loop) : {sum}\")\n",
    "\n",
    "# Using Formula\n",
    "sum = (n * (n+1) * (2*n+1))//6\n",
    "print(f\"Sum (Formula) : {sum}\")"
   ]
  },
  {
   "cell_type": "markdown",
   "metadata": {},
   "source": [
    "## 🎯 **Question 08**\n",
    "\n",
    "#### Given the first two terms of an ***Arithmetic Series***. Find the ***Nth*** term of the series. Assume all inputs are provided by the user.\n",
    "\n",
    "|**Input**|\n",
    "|-------|\n",
    "|`First term (a) : 1` <br> `Second Term : 5` <br> `N = 10`|\n",
    "|**Output**|\n",
    "|`10th term = 37`|\n",
    "\n",
    "***HINT*** - Use `for` loop ***OR*** $a_n = a + (n - 1)d$"
   ]
  },
  {
   "cell_type": "code",
   "execution_count": 25,
   "metadata": {},
   "outputs": [
    {
     "name": "stdout",
     "output_type": "stream",
     "text": [
      "10th Term (Loop) : 37\n",
      "10th Term (Formula) : 37\n"
     ]
    }
   ],
   "source": [
    "# Solution - Question 08\n",
    "a = int(input(\"Enter the first term (a) : \"))\n",
    "b = int(input(\"Enter the second term (b) : \"))\n",
    "n = int(input(\"Enter the value of N : \"))\n",
    "d = b - a  # Common Difference\n",
    "\n",
    "# Using for Loop\n",
    "term = a\n",
    "for i in range(1, n):\n",
    "    term = term + d\n",
    "print(f\"{n}th Term (Loop) : {term}\")\n",
    "\n",
    "# Using Formula\n",
    "term = a + (n-1)*d\n",
    "print(f\"{n}th Term (Formula) : {term}\")"
   ]
  },
  {
   "cell_type": "markdown",
   "metadata": {},
   "source": [
    "## 🎯 **Question 09**\n",
    "\n",
    "#### Given ***two fractions***, find the ***sum*** of those two fractions. Take the ***numerator*** and ***denominator*** values of the fractions from the user.\n",
    "\n",
    "|**Input**|\n",
    "|-------|\n",
    "|`Numerator (1st Fraction) = 1` <br> `Denominator (1st Fraction) = 2` <br> `Numerator (2nd Fraction) = 3` <br> `Denominator (2nd Fraction) = 4`|\n",
    "|**Output**|\n",
    "|`Numerator (Sum) = 5` <br> `Denominator (Sum) = 4`|\n",
    "\n",
    "***HINT*** - Use `LCM` for making fraction LIKE."
   ]
  },
  {
   "cell_type": "code",
   "execution_count": 26,
   "metadata": {},
   "outputs": [
    {
     "name": "stdout",
     "output_type": "stream",
     "text": [
      "Numerator (Sum) : 5\n",
      "Denominator (Sum) : 4\n"
     ]
    }
   ],
   "source": [
    "# Solution - Queston 09\n",
    "import math as m\n",
    "n1 = int(input(\"Enter Numerator (1st Fraction) : \"))\n",
    "d1 = int(input(\"Enter Denominator (1st Fraction) : \"))\n",
    "n2 = int(input(\"Enter Numerator (2nd Fraction) : \"))\n",
    "d2 = int(input(\"Enter Denominator (2nd Fraction) : \"))\n",
    "\n",
    "# Logic\n",
    "if(d1 != d2): # Making Fractions Like\n",
    "    LCM = m.lcm(d1, d2)\n",
    "    n1 = n1 * (LCM // d1)\n",
    "    d1 = LCM\n",
    "    n2 = n2 * (LCM // d2)\n",
    "    d2 = LCM\n",
    "\n",
    "n_sum = n1 + n2\n",
    "d_sum = d1\n",
    "\n",
    "print(f\"Numerator (Sum) : {n_sum}\")\n",
    "print(f\"Denominator (Sum) : {d_sum}\")"
   ]
  },
  {
   "cell_type": "markdown",
   "metadata": {},
   "source": [
    "## 🎯 **Question 10**\n",
    "\n",
    "#### Given the ***height***, ***width*** and ***length*** of a milk tank, you have to find out ***how many glasses of milk*** can be obtained? Assume all the inputs are provided by the user.\n",
    "\n",
    "|**Input**|\n",
    "|-------|\n",
    "|`Height (cm) = 1000` <br> `Width (cm) = 500` <br> `Length (cm) = 500` <br> `Height of Glass (cm) = 20` <br> `Radius of Glass (cm) = 2.5`|\n",
    "|**Output**|\n",
    "|`No. of glasses = 636942`|\n",
    "\n",
    "***HINT*** - Use $V = l \\times w \\times h\n",
    "$ for Milk Tank and $V = \\pi r^2 h\n",
    "$ for Glass"
   ]
  },
  {
   "cell_type": "code",
   "execution_count": 31,
   "metadata": {},
   "outputs": [
    {
     "name": "stdout",
     "output_type": "stream",
     "text": [
      "No. of glasses = 636942\n"
     ]
    }
   ],
   "source": [
    "# Solution - Question 10\n",
    "h = eval(input(\"Enter Height of Milk Tank (cm) : \"))\n",
    "b = eval(input(\"Enter Width of Milk Tank (cm) : \"))\n",
    "l = eval(input(\"Enter Length of Milk Tank (cm) : \"))\n",
    "h_glass = eval(input(\"Enter Height of Glass (cm) : \"))\n",
    "r_glass = eval(input(\"Enter Radius of Glass (cm) : \"))\n",
    "PI = 3.14\n",
    "\n",
    "volume_milktank = l * b * h\n",
    "volume_glass = PI * r_glass * r_glass * h_glass\n",
    "\n",
    "no_of_glass = (int) (volume_milktank // volume_glass)\n",
    "\n",
    "print(f\"No. of glasses = {no_of_glass}\")"
   ]
  }
 ],
 "metadata": {
  "kernelspec": {
   "display_name": "Python 3",
   "language": "python",
   "name": "python3"
  },
  "language_info": {
   "codemirror_mode": {
    "name": "ipython",
    "version": 3
   },
   "file_extension": ".py",
   "mimetype": "text/x-python",
   "name": "python",
   "nbconvert_exporter": "python",
   "pygments_lexer": "ipython3",
   "version": "3.12.1"
  },
  "orig_nbformat": 4
 },
 "nbformat": 4,
 "nbformat_minor": 2
}
