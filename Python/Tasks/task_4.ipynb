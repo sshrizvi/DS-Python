{
  "cells": [
    {
      "cell_type": "markdown",
      "metadata": {},
      "source": [
        "# **Task 4 - (Article 21 to 24)** [![Static Badge](https://img.shields.io/badge/Open%20in%20Colab%20-%20orange?style=plastic&logo=googlecolab&labelColor=grey)](https://colab.research.google.com/github/sshrizvi/DS-Python/blob/main/Python/Tasks/task_4.ipynb)\n",
        "\n",
        "|🔴 **WARNING** 🔴|\n",
        "|:-----------:|\n",
        "|If you have not studied article 21 to 24. Do checkout the articles before attempting the task. <br> Here is [Article 21 - Lists](../Articles/21_lists.md) |"
      ]
    },
    {
      "cell_type": "markdown",
      "metadata": {
        "id": "kLZ_vCeE0lsM"
      },
      "source": [
        "## 🎯 **Question 01**\n",
        "\n",
        "#### ***Combine*** two lists index-wise(columns wise)\n",
        "\n",
        "#### ***Statement :*** Write a program to ***add two lists index-wise***. Create a new list that contains the 0th index item from both the list, then the 1st index item, and so on till the last element. any leftover items will get added at the end of the new list.\n",
        "\n",
        "| **INPUT** |\n",
        "|:---------:|\n",
        "| list1 = [\"M\", \"na\", \"i\", \"Kh\"] <br> list2 = [\"y\", \"me\", \"s\", \"an\"] |\n",
        "\n",
        "<br>\n",
        "\n",
        "| **OUTPUT** |\n",
        "|:---------:|\n",
        "| [ [ 'M' , 'y' ], [ 'na' , 'me' ], [ 'i' , 's' ], [ 'Kh' , 'an' ] ] |\n"
      ]
    },
    {
      "cell_type": "code",
      "execution_count": 2,
      "metadata": {
        "id": "cDO3Yv6p0nnG"
      },
      "outputs": [
        {
          "name": "stdout",
          "output_type": "stream",
          "text": [
            "[['M', 'y'], ['na', 'me'], ['i', 's'], ['Kh', 'an']]\n"
          ]
        }
      ],
      "source": [
        "# Solution - Question 01\n",
        "\n",
        "list1 = input(\"Enter elements of first list (space-separated) : \").split()\n",
        "list2 = input(\"Enter elements of second list (space-separated) : \").split()\n",
        "\n",
        "combined_list = [[x,y] for x,y in zip(list1, list2)]\n",
        "\n",
        "print(combined_list)"
      ]
    },
    {
      "cell_type": "markdown",
      "metadata": {
        "id": "bnRwRgf_0qLu"
      },
      "source": [
        "## 🎯 **Question 02**\n",
        "\n",
        "#### ***Add new item*** to list after a specified item.\n",
        "\n",
        "#### ***Statement :*** Write a program to ***add item 7000 after 6000*** in the following Python List.\n",
        "\n",
        "| **INPUT** |\n",
        "|:---------:|\n",
        "| list1 = [10, 20, [300, 400, [5000, 6000], 500], 30, 40] |\n",
        "\n",
        "<br>\n",
        "\n",
        "| **OUTPUT** |\n",
        "|:---------:|\n",
        "| [10, 20, [300, 400, [5000, 6000, 7000], 500], 30, 40] |"
      ]
    },
    {
      "cell_type": "code",
      "execution_count": 10,
      "metadata": {
        "id": "yW5lLPns00q9"
      },
      "outputs": [
        {
          "name": "stdout",
          "output_type": "stream",
          "text": [
            "[10, 20, [300, 400, [5000, 6000, 7000], 500], 30, 40]\n"
          ]
        }
      ],
      "source": [
        "# Solution - Question 02\n",
        "\n",
        "list = [10, 20, [300, 400, [5000, 6000], 500], 30, 40]\n",
        "\n",
        "list[2][2].append(7000)\n",
        "\n",
        "print(list)"
      ]
    },
    {
      "cell_type": "markdown",
      "metadata": {
        "id": "w7fC8oHk02fH"
      },
      "source": [
        "## 🎯 **Question 03**\n",
        "\n",
        "#### ***Update*** no. of items available.\n",
        "\n",
        "#### ***Statement :*** Suppose you are given a list of ***candy*** and another list of same size ***representing no. of items of respective candy***. Write a program to show no. of items of each candy type.\n",
        "\n",
        "| **INPUT** |\n",
        "|:---------:|\n",
        "| candy_list = ['Jelly Belly', 'Kit Kat', 'Double Bubble', 'Milky Way', 'Three Musketeers'] <br> no_of_items = [10, 20, 34, 74, 32] |\n",
        "\n",
        "<br>\n",
        "\n",
        "| **OUTPUT** |\n",
        "|:---------:|\n",
        "| Jelly Belly - 10 <br> Kit Kat - 20 <br> Double Bubble - 34 <br> Milky Way - 74 <br> Three Musketeers - 32 |"
      ]
    },
    {
      "cell_type": "code",
      "execution_count": 11,
      "metadata": {
        "id": "gg5JEX1a09q8"
      },
      "outputs": [
        {
          "name": "stdout",
          "output_type": "stream",
          "text": [
            "Jelly Belly - 10\n",
            "Kit Kat - 20\n",
            "Double Bubble - 34\n",
            "Milky Way - 74\n",
            "Three Musketeers - 32\n"
          ]
        }
      ],
      "source": [
        "# Solution - Question 03\n",
        "\n",
        "candy_list = ['Jelly Belly','Kit Kat','Double Bubble','Milky Way','Three Musketeers']\n",
        "no_of_items = [10,20,34,74,32]\n",
        "\n",
        "for candy_name, quantity in zip(candy_list, no_of_items):\n",
        "    print(\"{} - {}\".format(candy_name, quantity))"
      ]
    },
    {
      "cell_type": "markdown",
      "metadata": {
        "id": "mFGZAvnB1D3N"
      },
      "source": [
        "## 🎯 **Question 04**\n",
        "\n",
        "#### ***Running Sum*** of list.\n",
        "\n",
        "#### ***Statement :*** Write a program to print a list after performing running sum on it.\n",
        "\n",
        "| **INPUT** |\n",
        "|:---------:|\n",
        "| list1 = [1, 2, 3, 4, 5, 6] |\n",
        "\n",
        "<br>\n",
        "\n",
        "| **OUTPUT** |\n",
        "|:---------:|\n",
        "| [1, 3, 6, 10, 15, 21] |"
      ]
    },
    {
      "cell_type": "code",
      "execution_count": 15,
      "metadata": {
        "id": "8LPS6DaD1FTs"
      },
      "outputs": [
        {
          "name": "stdout",
          "output_type": "stream",
          "text": [
            "[1, 3, 6, 10, 15, 21]\n"
          ]
        }
      ],
      "source": [
        "# Solution - Question 04 \n",
        "\n",
        "list = [1, 2, 3, 4, 5, 6]\n",
        "\n",
        "sum = 0\n",
        "running_sum_list = []\n",
        "for i in list:\n",
        "    sum += i\n",
        "    running_sum_list.append(sum)\n",
        "\n",
        "print(running_sum_list)"
      ]
    },
    {
      "cell_type": "markdown",
      "metadata": {
        "id": "2ztcZ-EW1HEU"
      },
      "source": [
        "## 🎯 **Question 05**\n",
        "\n",
        "#### ***Statement :*** You are given a list of integers. You are asked to make a list by running through elements of the list by adding all elements greater and itself.\n",
        "\n",
        "- Say given list is `[2,4,6,10,1]`\n",
        "- Resultant list will be `[22,20,16,10,1]`.\n",
        "- For 1st element `2` ->> these are greater `(4+6+10)` values and `2` itself so on adding becomes `22`.\n",
        "- For 2nd element `4` ->> greater elements are `(6, 10)` and `4` itself, so on adding `20`\n",
        "- Like-wise for all other elememts.\n",
        "\n",
        "| **INPUT** |\n",
        "|:---------:|\n",
        "| [2, 4, 6, 10, 1] |\n",
        "\n",
        "<br>\n",
        "\n",
        "| **OUTPUT** |\n",
        "|:---------:|\n",
        "| [22, 20, 16, 10, 1] |"
      ]
    },
    {
      "cell_type": "code",
      "execution_count": 17,
      "metadata": {
        "id": "UJuWqzj31UD2"
      },
      "outputs": [
        {
          "name": "stdout",
          "output_type": "stream",
          "text": [
            "[22, 20, 16, 10, 1]\n"
          ]
        }
      ],
      "source": [
        "# Solution - Question 05\n",
        "\n",
        "list = [2,4,6,10,1]\n",
        "\n",
        "sum_list = []\n",
        "sum = 0\n",
        "for i in list:\n",
        "    sum = i\n",
        "    for j in list[list.index(i):]:\n",
        "        if j > i:\n",
        "            sum += j\n",
        "    sum_list.append(sum)\n",
        "    \n",
        "\n",
        "print(sum_list)"
      ]
    },
    {
      "cell_type": "markdown",
      "metadata": {
        "id": "c9H6tYTx1ZYo"
      },
      "source": [
        "## 🎯 **Question 06**\n",
        "\n",
        "#### ***Statement :*** Find list of ***common unique items*** from two list, and show in increasing order.\n",
        "\n",
        "| **INPUT** |\n",
        "|:---------:|\n",
        "| num1 = [23, 45, 67, 78, 89, 34] <br> num2 = [34, 89, 55, 56, 39, 67] |\n",
        "\n",
        "<br>\n",
        "\n",
        "| **OUTPUT** |\n",
        "|:---------:|\n",
        "| [34, 67, 89] |"
      ]
    },
    {
      "cell_type": "code",
      "execution_count": 18,
      "metadata": {
        "id": "dDxdi7eE1e1W"
      },
      "outputs": [
        {
          "name": "stdout",
          "output_type": "stream",
          "text": [
            "[34, 67, 89]\n"
          ]
        }
      ],
      "source": [
        "# Solution - Question 06\n",
        "\n",
        "nums1 = [23, 45, 67, 78, 89, 34]\n",
        "nums2 = [34, 89, 55, 56, 39, 67]\n",
        "\n",
        "common_elements = [x for x in nums1 if x in nums2]\n",
        "common_elements.sort()\n",
        "\n",
        "print(common_elements)"
      ]
    },
    {
      "cell_type": "markdown",
      "metadata": {
        "id": "i3Izok2i1gRD"
      },
      "source": [
        "## 🎯 **Question 07**\n",
        "\n",
        "#### ***Statement :*** ***Sort*** a list of ***alphanumeric strings*** based on ***product value*** of numeric character in it in ***descending order***. If in any string there is no numeric character take it's product value as 1.\n",
        "\n",
        "| **INPUT** |\n",
        "|:---------:|\n",
        "| ['1ac21', '23fg', '456', '098d','1','kls'] |\n",
        "\n",
        "<br>\n",
        "\n",
        "| **OUTPUT** |\n",
        "|:---------:|\n",
        "| ['456', '23fg', '1ac21', '1', 'kls', '098d'] |"
      ]
    },
    {
      "cell_type": "code",
      "execution_count": 50,
      "metadata": {
        "id": "eiXSanG11oq6"
      },
      "outputs": [
        {
          "name": "stdout",
          "output_type": "stream",
          "text": [
            "['456', '23fg', '1ac21', 'kls', 'kls', '098d']\n"
          ]
        }
      ],
      "source": [
        "# Solution - Question 07\n",
        "\n",
        "alnum = ['1ac21', '23fg', '456', '098d','1','kls']\n",
        "\n",
        "numeric_product = {}\n",
        "product_list = []\n",
        "for i in alnum:\n",
        "    product = 1\n",
        "    for char in i:\n",
        "        if char.isnumeric():\n",
        "            product *= int(char)\n",
        "    numeric_product[product] = i\n",
        "    product_list.append(product)\n",
        "product_list.sort(reverse = True)\n",
        "for i in range(len(product_list)):\n",
        "    alnum[i] = numeric_product[product_list[i]]\n",
        "\n",
        "print(alnum)\n"
      ]
    },
    {
      "cell_type": "markdown",
      "metadata": {
        "id": "McMaNSpB1zJB"
      },
      "source": [
        "## 🎯 **Question 08**\n",
        "\n",
        "#### ***Statement :*** ***Split*** string of list on ***K*** character.\n",
        "\n",
        "| **INPUT** |\n",
        "|:---------:|\n",
        "| ['CampusX is a channel', 'for data-science', 'aspirants.'] <br> K = '   ' |\n",
        "\n",
        "<br>\n",
        "\n",
        "| **OUTPUT** |\n",
        "|:---------:|\n",
        "| ['CampusX', 'is', 'a', 'channel', 'for', 'data-science', 'aspirants.'] |"
      ]
    },
    {
      "cell_type": "code",
      "execution_count": 23,
      "metadata": {
        "id": "rLg6AUhf14wI"
      },
      "outputs": [
        {
          "name": "stdout",
          "output_type": "stream",
          "text": [
            "['CampusX', 'is', 'a', 'channel', 'for', 'data-science', 'aspirants.']\n"
          ]
        }
      ],
      "source": [
        "# Solution - Question 08\n",
        "\n",
        "list = ['CampusX is a channel', 'for data-science', 'aspirants.']\n",
        "K = ' '\n",
        "\n",
        "output_list = []\n",
        "for i in list:\n",
        "    output_list.extend(i.split(K))\n",
        "\n",
        "print(output_list)"
      ]
    },
    {
      "cell_type": "markdown",
      "metadata": {
        "id": "ebqIC0Xa16dG"
      },
      "source": [
        "## 🎯 **Question 09**\n",
        "\n",
        "#### ***Statement :*** ***Convert Character Matrix*** to single String using list comprehension.\n",
        "\n",
        "| **INPUT** |\n",
        "|:---------:|\n",
        "| [['c', 'a', 'm', 'p', 'u', 'x'], ['i', 's'], ['b', 'e', 's', 't'], ['c', 'h', 'a', 'n', 'n', 'e', 'l']] |\n",
        "\n",
        "<br>\n",
        "\n",
        "| **OUTPUT** |\n",
        "|:---------:|\n",
        "| campux is best channel |"
      ]
    },
    {
      "cell_type": "code",
      "execution_count": 27,
      "metadata": {
        "id": "KLKxzyZf2BLr"
      },
      "outputs": [
        {
          "name": "stdout",
          "output_type": "stream",
          "text": [
            "campux is best channel\n"
          ]
        }
      ],
      "source": [
        "# Solution - Question 09\n",
        "\n",
        "list = [['c', 'a', 'm', 'p', 'u', 'x'], ['i', 's'], ['b', 'e', 's', 't'], ['c', 'h', 'a', 'n', 'n', 'e', 'l']]\n",
        "\n",
        "words = [''.join(x) for x in list]\n",
        "string = ' '.join(words)\n",
        "\n",
        "print(string)"
      ]
    },
    {
      "cell_type": "markdown",
      "metadata": {
        "id": "0v1Z3Snp2DAm"
      },
      "source": [
        "## 🎯 **Question 10**\n",
        "\n",
        "#### ***Statement :*** ***Add Space*** between ***Potential*** Words.\n",
        "\n",
        "| **INPUT** |\n",
        "|:---------:|\n",
        "| ['campusxIs', 'bestFor', 'dataScientist'] |\n",
        "\n",
        "<br>\n",
        "\n",
        "| **OUTPUT** |\n",
        "|:---------:|\n",
        "| ['campusx Is', 'best For', 'data Scientist'] |"
      ]
    },
    {
      "cell_type": "code",
      "execution_count": 28,
      "metadata": {
        "id": "pltvqSXa2IxP"
      },
      "outputs": [
        {
          "name": "stdout",
          "output_type": "stream",
          "text": [
            "['campusx Is', 'best For', 'data Scientist']\n"
          ]
        }
      ],
      "source": [
        "# Solution - Question 10\n",
        "\n",
        "list = ['campusxIs', 'bestFor', 'dataScientist']\n",
        "\n",
        "output_list = []\n",
        "for i in list:\n",
        "    words = []\n",
        "    word = ''\n",
        "    for char in i:\n",
        "        if char.islower():\n",
        "            word += char\n",
        "        else:\n",
        "            words.append(word)\n",
        "            word = ''\n",
        "            word += char\n",
        "    else:\n",
        "        words.append(word)\n",
        "    output_list.append(' '.join(words))\n",
        "\n",
        "print(output_list)"
      ]
    },
    {
      "cell_type": "markdown",
      "metadata": {
        "id": "tnmBk1M52KXW"
      },
      "source": [
        "## 🎯 **Question 11**\n",
        "\n",
        "#### ***Statement :*** Write a program that can perform ***union operation*** on 2 lists\n",
        "\n",
        "| **INPUT** |\n",
        "|:---------:|\n",
        "| [1,2,3,4,5,1] <br> [2,3,5,7,8] |\n",
        "\n",
        "<br>\n",
        "\n",
        "| **OUTPUT** |\n",
        "|:---------:|\n",
        "| [1,2,3,4,5,7,8] |"
      ]
    },
    {
      "cell_type": "code",
      "execution_count": 35,
      "metadata": {
        "id": "u0AgIToU2-Ht"
      },
      "outputs": [
        {
          "name": "stdout",
          "output_type": "stream",
          "text": [
            "[1, 2, 3, 4, 5, 7, 8]\n"
          ]
        }
      ],
      "source": [
        "# Solution - Question 11\n",
        "\n",
        "nums1 = [1,2,3,4,5,1]\n",
        "nums2 = [2,3,5,7,8]\n",
        "\n",
        "union = []\n",
        "[union.append(x) for x in nums1 if x not in union]\n",
        "[union.append(x) for x in nums2 if x not in union] \n",
        "\n",
        "print(union)"
      ]
    },
    {
      "cell_type": "markdown",
      "metadata": {
        "id": "Yt8x67Ch3Ow1"
      },
      "source": [
        "## 🎯 **Question 12**\n",
        "\n",
        "#### ***Statement :*** Write a program that can ***find the maximum number of each row*** of a matrix.\n",
        "\n",
        "| **INPUT** |\n",
        "|:---------:|\n",
        "| [ [1, 2, 3], [4, 5, 6], [7, 8, 9] ] |\n",
        "\n",
        "<br>\n",
        "\n",
        "| **OUTPUT** |\n",
        "|:---------:|\n",
        "| [3, 6, 9] |"
      ]
    },
    {
      "cell_type": "code",
      "execution_count": 36,
      "metadata": {
        "id": "7QopAaAI3noh"
      },
      "outputs": [
        {
          "name": "stdout",
          "output_type": "stream",
          "text": [
            "[3, 6, 9]\n"
          ]
        }
      ],
      "source": [
        "# Solution - Question 12\n",
        "\n",
        "matrix = [\n",
        "            [1, 2, 3],\n",
        "            [4, 5, 6],\n",
        "            [7, 8, 9]\n",
        "         ]\n",
        "\n",
        "max_values = []\n",
        "for row in matrix:\n",
        "    max = 0\n",
        "    for element in row:\n",
        "        if element > max:\n",
        "            max = element\n",
        "    max_values.append(max)\n",
        "\n",
        "print(max_values)"
      ]
    },
    {
      "cell_type": "markdown",
      "metadata": {
        "id": "DBZlUmnt3pGT"
      },
      "source": [
        "## 🎯 **Question 13**\n",
        "\n",
        "#### ***Statement :*** Write a ***list comprehension*** to print the following matrix.\n",
        "\n",
        "```python\n",
        "[[0, 1, 2], [3, 4, 5], [6, 7, 8]]\n",
        "```"
      ]
    },
    {
      "cell_type": "code",
      "execution_count": 46,
      "metadata": {
        "id": "Ip4e8M-S356h"
      },
      "outputs": [
        {
          "name": "stdout",
          "output_type": "stream",
          "text": [
            "[[0, 1, 2], [3, 4, 5], [6, 7, 8]]\n"
          ]
        }
      ],
      "source": [
        "# Solution - Question 13\n",
        "\n",
        "matrix = [[3*i+j for j in range(0,3)] for i in range(0,3)]\n",
        "\n",
        "print(matrix)"
      ]
    },
    {
      "cell_type": "markdown",
      "metadata": {
        "id": "j3vTuFC737kG"
      },
      "source": [
        "## 🎯 **Question 14**\n",
        "\n",
        "#### ***Statement :*** Write a ***list comprehension*** that can ***transpose*** a given matrix.\n",
        "\n",
        "```python\n",
        "matrix = [\n",
        "            [1,2,3],\n",
        "            [4,5,6],\n",
        "            [7,8,9]\n",
        "         ]\n",
        "```\n",
        "\n",
        "```python\n",
        "transpose = [\n",
        "              [1,4,7],\n",
        "              [2,5,8],\n",
        "              [3,6,9]\n",
        "            ]\n",
        "```"
      ]
    },
    {
      "cell_type": "code",
      "execution_count": 47,
      "metadata": {
        "id": "CcBNu0gk4XsR"
      },
      "outputs": [
        {
          "name": "stdout",
          "output_type": "stream",
          "text": [
            "[[1, 4, 7], [2, 5, 8], [3, 6, 9]]\n"
          ]
        }
      ],
      "source": [
        "# Solution - Question 14\n",
        "\n",
        "matrix = [\n",
        "            [1,2,3],\n",
        "            [4,5,6],\n",
        "            [7,8,9]\n",
        "         ]\n",
        "\n",
        "transpose = [[matrix[j][i] for j in range(0,3)] for i in range(0,3)]\n",
        "\n",
        "print(transpose)\n"
      ]
    },
    {
      "cell_type": "markdown",
      "metadata": {
        "id": "wRkSWFb74eOt"
      },
      "source": [
        "## 🎯 **Question 15**\n",
        "\n",
        "#### ***Statement :*** Write a ***list comprehension*** that can ***flatten*** a nested list.s\n",
        "\n",
        "| **INPUT** |\n",
        "|:---------:|\n",
        "| [ [1, 2, 3], [4, 5, 6], [7, 8, 9] ] |\n",
        "\n",
        "<br>\n",
        "\n",
        "| **OUTPUT** |\n",
        "|:---------:|\n",
        "| [1, 2, 3, 4, 5, 6, 7, 8, 9] |"
      ]
    },
    {
      "cell_type": "code",
      "execution_count": 48,
      "metadata": {
        "id": "jZGQ5el25HFr"
      },
      "outputs": [
        {
          "name": "stdout",
          "output_type": "stream",
          "text": [
            "[1, 2, 3, 4, 5, 6, 7, 8, 9]\n"
          ]
        }
      ],
      "source": [
        "# Solution - Question 15\n",
        "\n",
        "matrix = [\n",
        "            [1,2,3],\n",
        "            [4,5,6],\n",
        "            [7,8,9]\n",
        "         ]\n",
        "\n",
        "flatten = [matrix[i][j] for i in range(0,3) for j in range(0,3)]\n",
        "\n",
        "print(flatten)"
      ]
    }
  ],
  "metadata": {
    "colab": {
      "provenance": []
    },
    "kernelspec": {
      "display_name": "Python 3",
      "name": "python3"
    },
    "language_info": {
      "codemirror_mode": {
        "name": "ipython",
        "version": 3
      },
      "file_extension": ".py",
      "mimetype": "text/x-python",
      "name": "python",
      "nbconvert_exporter": "python",
      "pygments_lexer": "ipython3",
      "version": "3.12.1"
    }
  },
  "nbformat": 4,
  "nbformat_minor": 0
}
