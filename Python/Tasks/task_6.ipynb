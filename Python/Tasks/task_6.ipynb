{
  "cells": [
    {
      "cell_type": "markdown",
      "metadata": {},
      "source": [
        "# **Task 6 - (Article 34 to 38)** [![Static Badge](https://img.shields.io/badge/Open%20in%20Colab%20-%20orange?style=plastic&logo=googlecolab&labelColor=grey)](https://colab.research.google.com/github/sshrizvi/DS-Python/blob/main/Python/Tasks/task_6.ipynb)\n",
        "\n",
        "|🔴 **WARNING** 🔴|\n",
        "|:-----------:|\n",
        "|If you have not studied article 34 to 38. Do checkout the articles before attempting the task. <br> Here is [Article 34 - Functions](../Articles/34_functions.md) |"
      ]
    },
    {
      "cell_type": "markdown",
      "metadata": {
        "id": "h6dDSW5XGZFi"
      },
      "source": [
        "### **🚀 Problem 1 :** Unique Elements from a List\n",
        "\n",
        "Write a Python function that takes a list and returns a new list with the unique elements of the first list.\n",
        "\n",
        "#### 📌 **Example 1 :**\n",
        "\n",
        "**Input:**\n",
        "\n",
        "```bash\n",
        "[1, 2, 3, 3, 3, 3, 4, 5]\n",
        "```\n",
        "\n",
        "**Output:**\n",
        "\n",
        "```bash\n",
        "[1, 2, 3, 4, 5]\n",
        "```\n",
        "\n",
        "#### 📝 **Explanation :**\n",
        "\n",
        "| Original List          | Unique Elements List |\n",
        "|:------------------------:|:----------------------:|\n",
        "| `[1, 2, 3, 3, 3, 3, 4, 5]` | `[1, 2, 3, 4, 5]` |"
      ]
    },
    {
      "cell_type": "code",
      "execution_count": 2,
      "metadata": {
        "id": "R5pq1C9LGe1y"
      },
      "outputs": [
        {
          "name": "stdout",
          "output_type": "stream",
          "text": [
            "[1, 2, 3, 4, 5]\n"
          ]
        }
      ],
      "source": [
        "# Solution - Problem 01\n",
        "\n",
        "def unique(l:list) -> list:\n",
        "    '''\n",
        "    Retrieve unique elements from a list.\n",
        "\n",
        "    Parameters:\n",
        "    l (list) : List containing duplicates.\n",
        "\n",
        "    Returns:\n",
        "    list : List containing unique elements only.\n",
        "\n",
        "    Author:\n",
        "    Syed Shujaat haider <shujaathaider92@gmail.com>\n",
        "\n",
        "    Date:\n",
        "    2024-07-31\n",
        "    '''\n",
        "\n",
        "    uniques = []\n",
        "    [uniques.append(x) for x in l if x not in uniques]\n",
        "    return uniques\n",
        "\n",
        "l = [1, 2, 3, 3, 3, 3, 4, 5]\n",
        "\n",
        "print(unique(l))"
      ]
    },
    {
      "cell_type": "markdown",
      "metadata": {
        "id": "UxQ_VoyJGwHj"
      },
      "source": [
        "### **🚀 Problem 2 :** Sort Hyphen-Separated Sequence of Words\n",
        "\n",
        "Write a Python function that accepts a hyphen-separated sequence of words as a parameter and returns the words in a hyphen-separated sequence after sorting them alphabetically.\n",
        "\n",
        "#### 📌 **Example 1 :**\n",
        "\n",
        "**Input:**\n",
        "\n",
        "```bash\n",
        "green-red-yellow-black-white\n",
        "```\n",
        "\n",
        "**Output:**\n",
        "\n",
        "```bash\n",
        "black-green-red-white-yellow"
      ]
    },
    {
      "cell_type": "code",
      "execution_count": 4,
      "metadata": {
        "id": "AAts2m5zGwiQ"
      },
      "outputs": [
        {
          "name": "stdout",
          "output_type": "stream",
          "text": [
            "black-green-red-white-yellow\n"
          ]
        }
      ],
      "source": [
        "# Solution - Problem 02\n",
        "\n",
        "def sort_words(sequence:str) -> str:\n",
        "    '''\n",
        "    Sort hyphen-separated sequence.\n",
        "\n",
        "    Parameters:\n",
        "    sequence (str) : Hyphen-Separated Sequence.\n",
        "\n",
        "    Returns:\n",
        "    str : Sorted hyphen-separated sequence.\n",
        "\n",
        "    Author:\n",
        "    Syed Shujaat haider <shujaathaider92@gmail.com>\n",
        "\n",
        "    Date:\n",
        "    2024-07-31\n",
        "    '''\n",
        "\n",
        "    sorted_sequence = ''\n",
        "    words = sequence.split('-')\n",
        "    words.sort()\n",
        "    sorted_sequence = '-'.join(words)\n",
        "\n",
        "    return sorted_sequence\n",
        "\n",
        "sequence = 'green-red-yellow-black-white'\n",
        "\n",
        "print(sort_words(sequence))"
      ]
    },
    {
      "cell_type": "markdown",
      "metadata": {
        "id": "IRGH62S7Gx_n"
      },
      "source": [
        "### **🚀 Problem 3 :** Count Upper and Lower Case Letters\n",
        "\n",
        "Write a Python function that accepts a string and calculates the number of upper case and lower case letters.\n",
        "\n",
        "#### 📌 **Example :**\n",
        "\n",
        "**Sample String :**\n",
        "\n",
        "```bash\n",
        "'CampusX is an Online Mentorship Program fOr EnginEering studentS.'\n",
        "```\n",
        "\n",
        "**Expected Output :**\n",
        "\n",
        "```bash\n",
        "No. of Upper case characters: 9\n",
        "No. of Lower case characters: 47\n",
        "```"
      ]
    },
    {
      "cell_type": "code",
      "execution_count": 5,
      "metadata": {
        "id": "OaUrD8vVG5o8"
      },
      "outputs": [
        {
          "name": "stdout",
          "output_type": "stream",
          "text": [
            "No. of uppercase letter : 9\n",
            "No. of lowercase letter : 47\n"
          ]
        }
      ],
      "source": [
        "# Solution - Problem 03\n",
        "\n",
        "def count_lower_and_upper(s:str) -> int:\n",
        "    '''\n",
        "    Count and return no. of lower and upper case letters.\n",
        "\n",
        "    Parameters:\n",
        "    s (str) : Input String.\n",
        "\n",
        "    Returns:\n",
        "    int : No. of lowercase letters.\n",
        "    int : No. of uppercase letters.\n",
        "\n",
        "    Author:\n",
        "    Syed Shujaat haider <shujaathaider92@gmail.com>\n",
        "\n",
        "    Date:\n",
        "    2024-07-31\n",
        "    '''\n",
        "\n",
        "    l = u = 0\n",
        "    for i in s:\n",
        "        if i.isalpha():\n",
        "            if i.islower():\n",
        "                l += 1\n",
        "            else:\n",
        "                u += 1\n",
        "\n",
        "    return l,u\n",
        "\n",
        "s = 'CampusX is an Online Mentorship Program fOr EnginEering studentS.'\n",
        "\n",
        "l,u = count_lower_and_upper(s)\n",
        "\n",
        "print(\"No. of uppercase letter : {}\".format(u))\n",
        "print(\"No. of lowercase letter : {}\".format(l))"
      ]
    },
    {
      "cell_type": "markdown",
      "metadata": {
        "id": "V1BFFdYQG7Sn"
      },
      "source": [
        "### **🚀 Problem 4 :** Print Even Numbers from a List\n",
        "\n",
        "Write a Python program to print the even numbers from a given list.\n",
        "\n",
        "#### 📌 **Example :**\n",
        "\n",
        "**Sample List :**\n",
        "\n",
        "```bash\n",
        "[1, 2, 3, 4, 5, 6, 7, 8, 9]\n",
        "```\n",
        "\n",
        "**Expected Result :**\n",
        "\n",
        "```bash\n",
        "[2, 4, 6, 8]\n",
        "```"
      ]
    },
    {
      "cell_type": "code",
      "execution_count": 7,
      "metadata": {
        "id": "VvAReLoDG_Z3"
      },
      "outputs": [
        {
          "name": "stdout",
          "output_type": "stream",
          "text": [
            "[2, 4, 6, 8]\n"
          ]
        }
      ],
      "source": [
        "# Solution - Problem 04\n",
        "\n",
        "l = [1, 2, 3, 4, 5, 6, 7, 8, 9]\n",
        "\n",
        "even = filter(lambda x : x % 2 == 0, l)\n",
        "\n",
        "print(list(even))"
      ]
    },
    {
      "cell_type": "markdown",
      "metadata": {
        "id": "qrK39Gn-HHb4"
      },
      "source": [
        "### **🚀 Problem 5:** Check for Perfect Number\n",
        "\n",
        "Write a Python function to check whether a number is perfect or not.\n",
        "\n",
        "A Perfect number is a number that is half the sum of all of its positive divisors (including itself).\n",
        "\n",
        "#### 📌 **Example:**\n",
        "\n",
        "**Explanation :**\n",
        "\n",
        "The first perfect number is 6, because 1, 2, and 3 are its proper positive divisors, and 1 + 2 + 3 = 6.\n",
        "Equivalently, the number 6 is equal to half the sum of all its positive divisors: ( 1 + 2 + 3 + 6 ) / 2 = 6.\n",
        "\n",
        "The next perfect number is 28 = 1 + 2 + 4 + 7 + 14. This is followed by the perfect numbers 496 and 8128.\n",
        "\n",
        "**Input :**\n",
        "\n",
        "```bash\n",
        "6\n",
        "```\n",
        "\n",
        "**Output :**\n",
        "\n",
        "```bash\n",
        "True\n",
        "```\n",
        "\n",
        "**Input :**\n",
        "\n",
        "```bash\n",
        "28\n",
        "```\n",
        "\n",
        "**Output :**\n",
        "\n",
        "```bash\n",
        "True\n",
        "```\n",
        "\n",
        "**Input :**\n",
        "\n",
        "```bash\n",
        "10\n",
        "```\n",
        "\n",
        "**Output :**\n",
        "\n",
        "```bash\n",
        "False\n",
        "```"
      ]
    },
    {
      "cell_type": "code",
      "execution_count": 9,
      "metadata": {
        "id": "P-OI7H78HICs"
      },
      "outputs": [
        {
          "name": "stdout",
          "output_type": "stream",
          "text": [
            "False\n"
          ]
        }
      ],
      "source": [
        "# Solution - Problem 05\n",
        "\n",
        "def is_perfect(num:int) -> bool:\n",
        "    '''\n",
        "    Determines a number for a perfect number.\n",
        "\n",
        "    Parameters:\n",
        "    num (int) : An integer.\n",
        "\n",
        "    Returns:\n",
        "    bool : True if num is perfect else False.\n",
        "\n",
        "    Author:\n",
        "    Syed Shujaat haider <shujaathaider92@gmail.com>\n",
        "\n",
        "    Date:\n",
        "    2024-07-31\n",
        "    '''\n",
        "\n",
        "    sum_of_divisors = 0\n",
        "    for i in range(1, num+1):\n",
        "        if num % i == 0:\n",
        "            sum_of_divisors += i\n",
        "    if sum_of_divisors // 2 == num:\n",
        "        return True\n",
        "    else:\n",
        "        return False\n",
        "    \n",
        "num = 10\n",
        "print(is_perfect(num))"
      ]
    },
    {
      "cell_type": "markdown",
      "metadata": {
        "id": "oZdpcG77HO-6"
      },
      "source": [
        "### **🚀 Problem 6:** Concatenate Dictionaries\n",
        "\n",
        "Write a Python function to concatenate any number of dictionaries to create a new one.\n",
        "\n",
        "#### 📌 **Example:**\n",
        "\n",
        "**Sample Dictionaries:**\n",
        "\n",
        "```python\n",
        "dic1 = {1: 10, 2: 20}\n",
        "dic2 = {3: 30, 4: 40}\n",
        "dic3 = {5: 50, 6: 60}\n",
        "```\n",
        "\n",
        "**Expected Result:**\n",
        "\n",
        "```python\n",
        "{1: 10, 2: 20, 3: 30, 4: 40, 5: 50, 6: 60}\n",
        "```"
      ]
    },
    {
      "cell_type": "code",
      "execution_count": 13,
      "metadata": {
        "id": "LQgfAY4ZHPhj"
      },
      "outputs": [
        {
          "name": "stdout",
          "output_type": "stream",
          "text": [
            "{1: 10, 2: 20, 3: 30, 4: 40, 5: 50, 6: 60}\n"
          ]
        }
      ],
      "source": [
        "# Solution - Problem 06\n",
        "\n",
        "def concatenate_dicts(**kwargs) -> dict:\n",
        "    '''\n",
        "    Concatenate different dictionaries into one.\n",
        "\n",
        "    Parameters:\n",
        "    **kwargs (dict) : Any number of dictionaries.\n",
        "\n",
        "    Returns:\n",
        "    dict : Concatenated dictionary.\n",
        "\n",
        "    Author:\n",
        "    Syed Shujaat haider <shujaathaider92@gmail.com>\n",
        "\n",
        "    Date:\n",
        "    2024-07-31\n",
        "    '''\n",
        "\n",
        "    combined_dict = {}\n",
        "    for key,value in kwargs.items():\n",
        "        for k,v in value.items():\n",
        "            combined_dict.update({k:v})\n",
        "            \n",
        "    return combined_dict\n",
        "\n",
        "dic1 = {1: 10, 2: 20}\n",
        "dic2 = {3: 30, 4: 40}\n",
        "dic3 = {5: 50, 6: 60}\n",
        "\n",
        "print(concatenate_dicts(dic1=dic1, dic2=dic2, dic3=dic3))"
      ]
    },
    {
      "cell_type": "markdown",
      "metadata": {
        "id": "jQ6SzbCkHRd0"
      },
      "source": [
        "### **🚀 Problem 7 :** Find the Most Occurring Word\n",
        "\n",
        "Write a Python function that accepts a string as input and returns the word with the most occurrences.\n",
        "\n",
        "#### 📌 **Example :**\n",
        "\n",
        "**Input :**\n",
        "\n",
        "```bash\n",
        "hello how are you i am fine thank you\n",
        "```\n",
        "\n",
        "**Output :**\n",
        "\n",
        "```bash\n",
        "('you', 2)\n",
        "```"
      ]
    },
    {
      "cell_type": "code",
      "execution_count": 15,
      "metadata": {
        "id": "Lh04JHLzIW7Z"
      },
      "outputs": [
        {
          "name": "stdout",
          "output_type": "stream",
          "text": [
            "('you', 2)\n"
          ]
        }
      ],
      "source": [
        "# Solution - Problem 07\n",
        "\n",
        "def most_frequent(s:str) -> tuple:\n",
        "    '''\n",
        "    Find the most frequent word and its frequency.\n",
        "\n",
        "    Parameters:\n",
        "    s (str) : Space-Separated String.\n",
        "\n",
        "    Returns:\n",
        "    tuple : (Most Frequent Word, Frequency).\n",
        "\n",
        "    Author:\n",
        "    Syed Shujaat haider <shujaathaider92@gmail.com>\n",
        "\n",
        "    Date:\n",
        "    2024-07-31\n",
        "    '''\n",
        "\n",
        "    words = s.split()\n",
        "    frequency = {}\n",
        "    for word in words:\n",
        "        try:\n",
        "            frequency[word] += 1\n",
        "        except KeyError:\n",
        "            frequency[word] = 1\n",
        "    max = -1\n",
        "    max_key = ''\n",
        "    for key,value in frequency.items():\n",
        "        if frequency[key] > max:\n",
        "            max = frequency[key]\n",
        "            max_key = key\n",
        "    \n",
        "    return (max_key, max)\n",
        "\n",
        "s = 'hello how are you i am fine thank you'\n",
        "\n",
        "print(most_frequent(s))"
      ]
    },
    {
      "cell_type": "markdown",
      "metadata": {
        "id": "1r8SpVntI-IW"
      },
      "source": [
        "### **🚀 Problem 8 :** Create a Histogram\n",
        "\n",
        "Write a Python function that receives a list of integers and prints out a histogram with a bin size of 10.\n",
        "\n",
        "#### 📌 **Example :**\n",
        "\n",
        "**Input :**\n",
        "\n",
        "```python\n",
        "[13, 42, 15, 37, 22, 39, 41, 50]\n",
        "```\n",
        "\n",
        "**Output :**\n",
        "\n",
        "```python\n",
        "{11-20: 2, 21-30: 1, 31-40: 2, 41-50: 3}\n",
        "```"
      ]
    },
    {
      "cell_type": "code",
      "execution_count": 26,
      "metadata": {
        "id": "7W0J8rUjJovg"
      },
      "outputs": [
        {
          "data": {
            "text/plain": [
              "{(11, 20): 2, (21, 30): 1, (31, 40): 2, (41, 50): 3, (51, 60): 0}"
            ]
          },
          "execution_count": 26,
          "metadata": {},
          "output_type": "execute_result"
        }
      ],
      "source": [
        "# Solution - Problem 08\n",
        "\n",
        "def histogram(l:list) -> dict:\n",
        "    min = max = l[0]\n",
        "    for i in l:\n",
        "        if i > max:\n",
        "            max = i\n",
        "        elif i < min:\n",
        "            min = i\n",
        "    floor = min - (min % 10)\n",
        "    ceil = max - (max % 10) + 10\n",
        "    d = {}\n",
        "    bin = 10\n",
        "    for i in range(floor+1, ceil+1, bin):\n",
        "        t = (i, i+bin-1)\n",
        "        count = 0\n",
        "        for e in l:\n",
        "            if t[0] <= e <= t[1]:\n",
        "                count += 1\n",
        "        d[t] = count\n",
        "    return d\n",
        "\n",
        "l = [13, 42, 15, 37, 22, 39, 41, 50]\n",
        "histogram(l)"
      ]
    },
    {
      "cell_type": "markdown",
      "metadata": {
        "id": "1P2-rbgXKE53"
      },
      "source": [
        "### **🚀 Problem 9 :** Find Nearest Coordinate\n",
        "\n",
        "Write a Python function that accepts a list of 2D coordinates and a query point, and then finds the coordinate which is closest in terms of distance from the query point.\n",
        "\n",
        "#### 📌 **Example :**\n",
        "\n",
        "**List of Coordinates :**\n",
        "\n",
        "```python\n",
        "[(1, 1), (2, 2), (3, 3), (4, 4)]\n",
        "```\n",
        "\n",
        "**Query Point :**\n",
        "\n",
        "```python\n",
        "(0, 0)\n",
        "```\n",
        "\n",
        "**Output :**\n",
        "\n",
        "```bash\n",
        "Nearest to (0, 0) is (1, 1)\n",
        "```"
      ]
    },
    {
      "cell_type": "code",
      "execution_count": 29,
      "metadata": {
        "id": "zjn7vSTIJ81G"
      },
      "outputs": [
        {
          "name": "stdout",
          "output_type": "stream",
          "text": [
            "Nearest to (0, 0) is (1, 1)\n"
          ]
        }
      ],
      "source": [
        "# Solution - Problem 09\n",
        "\n",
        "import math\n",
        "\n",
        "def nearest_coordinate(coordinates:list, query:tuple) -> tuple:\n",
        "    def distance(point1:tuple, point2:tuple) -> float:\n",
        "        return ((point2[0] - point1[0])**2 + (point2[1] - point1[1])**2) ** (1/2)\n",
        "    \n",
        "    nearest = ()\n",
        "    min = math.inf\n",
        "    for point in coordinates:\n",
        "        dist = distance(query, point)\n",
        "        if dist < min:\n",
        "            min = dist\n",
        "            nearest = point\n",
        "    \n",
        "    return nearest\n",
        "\n",
        "coordinates = [(1, 1), (2, 2), (3, 3), (4, 4)]\n",
        "query = (0,0)\n",
        "\n",
        "print(\"Nearest to {} is {}\".format(query, nearest_coordinate(coordinates, query)))"
      ]
    },
    {
      "cell_type": "markdown",
      "metadata": {
        "id": "i-B6igmyK9hB"
      },
      "source": [
        "### **🚀 Problem 10 :** Bag of Words Model\n",
        "\n",
        "Write a Python program that receives a list of strings and performs a Bag of Words operation on those strings.\n",
        "\n",
        "#### 📌 **Example :**\n",
        "\n",
        "**Input :**\n",
        "\n",
        "```python\n",
        "[\"hello world\", \"hello from the other side\", \"world of Python\"]\n",
        "```\n",
        "\n",
        "**Output :**\n",
        "\n",
        "```python\n",
        "{\n",
        "  'hello': 2,\n",
        "  'world': 2,\n",
        "  'from': 1,\n",
        "  'the': 1,\n",
        "  'other': 1,\n",
        "  'side': 1,\n",
        "  'of': 1,\n",
        "  'Python': 1\n",
        "}\n",
        "```\n",
        "\n",
        "For more details on the Bag of Words model, you can refer to [this Wikipedia page](https://en.wikipedia.org/wiki/Bag-of-words_model)."
      ]
    },
    {
      "cell_type": "code",
      "execution_count": 30,
      "metadata": {
        "id": "N2l1_AWULT-z"
      },
      "outputs": [
        {
          "name": "stdout",
          "output_type": "stream",
          "text": [
            "{'hello': 2, 'world': 2, 'from': 1, 'the': 1, 'other': 1, 'side': 1, 'of': 1, 'Python': 1}\n"
          ]
        }
      ],
      "source": [
        "# Solution - Problem 10\n",
        "\n",
        "def bag_of_words(l:list) -> dict:\n",
        "    BoW = {}\n",
        "    words = []\n",
        "    for string in l:\n",
        "        words.extend(string.split())\n",
        "    for word in words:\n",
        "        try:\n",
        "            BoW[word] += 1\n",
        "        except KeyError:\n",
        "            BoW[word] = 1\n",
        "    return BoW\n",
        "    \n",
        "l = [\"hello world\", \"hello from the other side\", \"world of Python\"]\n",
        "print(bag_of_words(l))"
      ]
    },
    {
      "cell_type": "markdown",
      "metadata": {
        "id": "dHTRKb-DqMLw"
      },
      "source": [
        "### **🚀 Problem 11 :** Add Three Lists\n",
        "\n",
        "Write a Python program to add three given lists using Python `map` and `lambda`.\n",
        "\n",
        "#### 📌 **Example :**\n",
        "\n",
        "**Input :**\n",
        "\n",
        "```python\n",
        "list1 = [1, 2, 3]\n",
        "list2 = [4, 5, 6]\n",
        "list3 = [7, 8, 9]\n",
        "```\n",
        "\n",
        "**Output :**\n",
        "\n",
        "```python\n",
        "[12, 15, 18]\n",
        "```"
      ]
    },
    {
      "cell_type": "code",
      "execution_count": 31,
      "metadata": {
        "id": "NfJdzyNZqNW-"
      },
      "outputs": [
        {
          "name": "stdout",
          "output_type": "stream",
          "text": [
            "[12, 15, 18]\n"
          ]
        }
      ],
      "source": [
        "# Solution - Problem 11\n",
        "\n",
        "list1 = [1, 2, 3]\n",
        "list2 = [4, 5, 6]\n",
        "list3 = [7, 8, 9]\n",
        "\n",
        "print(list(map(lambda x,y,z: x+y+z, list1, list2, list3)))"
      ]
    },
    {
      "cell_type": "markdown",
      "metadata": {
        "id": "MgHP7mbUqO8l"
      },
      "source": [
        "### **🚀 Problem 12 :** Power List with Python `map`\n",
        "\n",
        "Write a Python program to create a list containing the power of each number in a given list, raised to the corresponding index in the list, using Python `map`.\n",
        "\n",
        "#### 📌 **Example :**\n",
        "\n",
        "**Input :**\n",
        "\n",
        "```python\n",
        "list1 = [1, 2, 3, 4, 5, 6]\n",
        "```\n",
        "\n",
        "**Output :**\n",
        "\n",
        "```python\n",
        "[1, 2, 9, 64, 625, 7776]\n",
        "```"
      ]
    },
    {
      "cell_type": "code",
      "execution_count": 35,
      "metadata": {
        "id": "gG3Dc6N3qbvN"
      },
      "outputs": [
        {
          "name": "stdout",
          "output_type": "stream",
          "text": [
            "[1, 2, 9, 64, 625, 7776]\n"
          ]
        }
      ],
      "source": [
        "# Solution - Problem 12\n",
        "\n",
        "l = [1, 2, 3, 4, 5, 6]\n",
        "\n",
        "power_list = list(map(lambda x : x ** l.index(x), l))\n",
        "\n",
        "print(power_list)"
      ]
    },
    {
      "cell_type": "markdown",
      "metadata": {
        "id": "G26SYq6vqdLN"
      },
      "source": [
        "### **🚀 Problem 13:** Filter Vowels from a String\n",
        "\n",
        "Using the `filter()` and `list()` functions along with the `.lower()` method, filter all the vowels in a given string.\n",
        "\n",
        "#### 📌 **Example:**\n",
        "\n",
        "**Input:**\n",
        "\n",
        "```python\n",
        "\"Hello World\"\n",
        "```\n",
        "\n",
        "**Output:**\n",
        "\n",
        "```python\n",
        "['e', 'o', 'o']\n",
        "```"
      ]
    },
    {
      "cell_type": "code",
      "execution_count": 36,
      "metadata": {
        "id": "zurga3DIqmEx"
      },
      "outputs": [
        {
          "name": "stdout",
          "output_type": "stream",
          "text": [
            "['e', 'o', 'o']\n"
          ]
        }
      ],
      "source": [
        "# Solution - Problem 13\n",
        "\n",
        "s = \"Hello World\"\n",
        "\n",
        "vowels = list(filter(lambda x : x.lower() in ['a','e','i','o','u'], s))\n",
        "\n",
        "print(vowels)"
      ]
    },
    {
      "cell_type": "markdown",
      "metadata": {
        "id": "uQrsunZSqoYu"
      },
      "source": [
        "### **🚀 Problem 14 :** Flatten a 2D List\n",
        "\n",
        "Use the `reduce` function to convert a 2D list into a 1D list.\n",
        "\n",
        "#### 📌 **Example :**\n",
        "\n",
        "**Input :**\n",
        "\n",
        "```python\n",
        "[[1, 2, 3], [4, 5], [6, 7, 8]]\n",
        "```\n",
        "\n",
        "**Output :**\n",
        "\n",
        "```python\n",
        "[1, 2, 3, 4, 5, 6, 7, 8]\n",
        "```"
      ]
    },
    {
      "cell_type": "code",
      "execution_count": 5,
      "metadata": {
        "id": "E1YUwnfgqnka"
      },
      "outputs": [
        {
          "name": "stdout",
          "output_type": "stream",
          "text": [
            "[1, 2, 3, 4, 5, 6, 7, 8]\n"
          ]
        }
      ],
      "source": [
        "# Solution - Problem 14\n",
        "\n",
        "from functools import reduce\n",
        "list_2d = [\n",
        "            [1, 2, 3],\n",
        "            [4, 5],\n",
        "            [6, 7, 8]\n",
        "        ]\n",
        "\n",
        "def merge(x:list, y:list) -> list:\n",
        "    x.extend(y)\n",
        "    return x\n",
        "\n",
        "list_1d = reduce(merge, list_2d)\n",
        "\n",
        "print(list_1d)"
      ]
    },
    {
      "cell_type": "markdown",
      "metadata": {
        "id": "8-DLQEawt-_t"
      },
      "source": [
        "### **🚀 Problem 15:** Filter Highly Skilled Employees\n",
        "\n",
        "A dictionary contains the following information about 5 employees:\n",
        "- First name\n",
        "- Last name\n",
        "- Age\n",
        "- Grade (Skilled, Semi-skilled, Highly skilled)\n",
        "\n",
        "Write a program using `map`, `filter`, and `reduce` to generate a list of employees (first name + last name) who are highly skilled.\n",
        "\n",
        "#### 📌 **Example:**\n",
        "\n",
        "**Input:**\n",
        "\n",
        "```python\n",
        "employees = [\n",
        "    {'first_name': 'John', 'last_name': 'Doe', 'age': 28, 'grade': 'Highly skilled'},\n",
        "    {'first_name': 'Jane', 'last_name': 'Smith', 'age': 34, 'grade': 'Skilled'},\n",
        "    {'first_name': 'Alice', 'last_name': 'Johnson', 'age': 29, 'grade': 'Highly skilled'},\n",
        "    {'first_name': 'Bob', 'last_name': 'Brown', 'age': 45, 'grade': 'Semi-skilled'},\n",
        "    {'first_name': 'Charlie', 'last_name': 'Davis', 'age': 40, 'grade': 'Highly skilled'}\n",
        "]\n",
        "```\n",
        "\n",
        "**Output:**\n",
        "\n",
        "```python\n",
        "['John Doe', 'Alice Johnson', 'Charlie Davis']\n",
        "```"
      ]
    },
    {
      "cell_type": "code",
      "execution_count": 13,
      "metadata": {
        "id": "OLvptttLs6OU"
      },
      "outputs": [
        {
          "name": "stdout",
          "output_type": "stream",
          "text": [
            "['John Doe', 'Alice Johnson', 'Charlie Davis']\n"
          ]
        }
      ],
      "source": [
        "# Solution - Problem 15\n",
        "\n",
        "from functools import reduce\n",
        "employees = [\n",
        "    {'first_name': 'John', 'last_name': 'Doe', 'age': 28, 'grade': 'Highly skilled'},\n",
        "    {'first_name': 'Jane', 'last_name': 'Smith', 'age': 34, 'grade': 'Skilled'},\n",
        "    {'first_name': 'Alice', 'last_name': 'Johnson', 'age': 29, 'grade': 'Highly skilled'},\n",
        "    {'first_name': 'Bob', 'last_name': 'Brown', 'age': 45, 'grade': 'Semi-skilled'},\n",
        "    {'first_name': 'Charlie', 'last_name': 'Davis', 'age': 40, 'grade': 'Highly skilled'}\n",
        "]\n",
        "\n",
        "highly_skilled_employees = map(lambda x : x[0]+' '+x[1], list(map(lambda x : (x['first_name'], x['last_name']), list(filter(lambda x : x['grade'] == 'Highly skilled', employees)))))\n",
        "\n",
        "print(list(highly_skilled_employees))"
      ]
    }
  ],
  "metadata": {
    "colab": {
      "provenance": []
    },
    "kernelspec": {
      "display_name": "Python 3",
      "name": "python3"
    },
    "language_info": {
      "codemirror_mode": {
        "name": "ipython",
        "version": 3
      },
      "file_extension": ".py",
      "mimetype": "text/x-python",
      "name": "python",
      "nbconvert_exporter": "python",
      "pygments_lexer": "ipython3",
      "version": "3.12.5"
    }
  },
  "nbformat": 4,
  "nbformat_minor": 0
}
