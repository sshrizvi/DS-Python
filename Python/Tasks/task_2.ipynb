{
  "cells": [
    {
      "cell_type": "markdown",
      "metadata": {},
      "source": [
        "# **Task 2 - (Article 11 to 15)** \n",
        "\n",
        "|🔴 **WARNING** 🔴|\n",
        "|:-----------:|\n",
        "|If you have not studied article 11 to 15. Do checkout the articles before attempting the task.|\n",
        "| Here is [Article 11 - Operators](../Articles/11_operators.md) |"
      ]
    },
    {
      "cell_type": "markdown",
      "metadata": {
        "id": "w6RlOAXV2PWh"
      },
      "source": [
        "## 🎯 **Question 01**\n",
        "\n",
        "#### Write a program that will give you ***in hand monthly salary*** after deduction on CTC - ***HRA(10%), DA(5%), PF(3%)*** and ***taxes deduction*** as below:\n",
        "\n",
        "| Salary (Lakhs) | Tax (%) |\n",
        "|:--------------:|:-------:|\n",
        "| Below or equal to 5 | 0 |\n",
        "| 5 to 10 | 10 |\n",
        "| 10 to 20 | 20 |\n",
        "| Above 20 | 30 |  \n",
        "\n",
        "<br>\n",
        "\n",
        "|**INPUT**|\n",
        "|:-------:|\n",
        "| CTC = Rs. 500000 |  \n",
        "\n",
        "<br>\n",
        "\n",
        "|**OUTPUT**|\n",
        "|:-------:|\n",
        "| Monthly Salary = Rs. 23916 |\n",
        "\n",
        "***HINT*** - Use `sep` attribute of `print` function."
      ]
    },
    {
      "cell_type": "code",
      "execution_count": 3,
      "metadata": {
        "id": "7tMHvKYO2etI"
      },
      "outputs": [
        {
          "name": "stdout",
          "output_type": "stream",
          "text": [
            "Monthly Salary = Rs. 23916\n"
          ]
        }
      ],
      "source": [
        "# Solution - Question 01\n",
        "ctc = float(input(\"Enter your CTC (Annual): \"))\n",
        "\n",
        "# Performing deductions on the CTC\n",
        "hra = 0.1 * ctc\n",
        "da = 0.05 * ctc\n",
        "pf = 0.03 * ctc\n",
        "\n",
        "ctc = ctc - (hra + da + pf)\n",
        "\n",
        "tax = 0.0\n",
        "if (ctc <= 5):\n",
        "    tax = 0.0\n",
        "elif (5 < ctc <= 10):\n",
        "    tax = 0.1 * ctc\n",
        "elif (10 < ctc <= 20):\n",
        "    tax = 0.2 * ctc\n",
        "else:\n",
        "    tax = 0.3 * ctc\n",
        "\n",
        "monthly_salary = (ctc - tax) / 12\n",
        "\n",
        "print(f\"Monthly Salary = Rs. {int(monthly_salary)}\")"
      ]
    },
    {
      "cell_type": "markdown",
      "metadata": {
        "id": "tYzCGqwl2hfN"
      },
      "source": [
        "## 🎯 **Question 02**\n",
        "\n",
        "#### Write a program that take a user input of ***three angles*** and will find out whether it ***can form a triangle or not***.\n",
        "\n",
        "|**INPUT**|\n",
        "|:-------:|\n",
        "| Angle A = 100 <br> Angle B = 30 <br> Angle C = 50 |  \n",
        "\n",
        "<br>\n",
        "\n",
        "|**OUTPUT**|\n",
        "|:-------:|\n",
        "| Yes! It can form a triangle. |\n",
        "\n",
        "***HINT*** - Use `angle sum property` of triangle. i.e., $\\angle A + \\angle B + \\angle C = 180^\\circ\n",
        "$"
      ]
    },
    {
      "cell_type": "code",
      "execution_count": 5,
      "metadata": {
        "id": "FYEqln-I2kxV"
      },
      "outputs": [
        {
          "name": "stdout",
          "output_type": "stream",
          "text": [
            "No :( It cannot form a triangle.\n"
          ]
        }
      ],
      "source": [
        "# Solution - Question 02\n",
        "angle_1 = int(input(\"Enter value of Angle 1 : \"))\n",
        "angle_2 = int(input(\"Enter value of Angle 2 : \"))\n",
        "angle_3 = int(input(\"Enter value of Angle 3 : \"))\n",
        "\n",
        "if (angle_1 + angle_2 + angle_3 == 180):\n",
        "    print(f\"Yes! It can form a triangle.\")\n",
        "else:\n",
        "    print(f\"No :( It cannot form a triangle.\")"
      ]
    },
    {
      "cell_type": "markdown",
      "metadata": {
        "id": "5vEpPh8C2pE4"
      },
      "source": [
        "## 🎯 **Question 03**\n",
        "\n",
        "#### Write a program that will take user input of ***cost price*** and ***selling price*** and determines whether its a ***loss*** or a ***profit***.\n",
        "\n",
        "|**INPUT**|\n",
        "|:-------:|\n",
        "| CP = Rs. 100 <br> SP = Rs. 125 |  \n",
        "\n",
        "<br>\n",
        "\n",
        "|**OUTPUT**|\n",
        "|:-------:|\n",
        "| Hurray! You have earned a profit of Rs. 25. |\n",
        "\n",
        "***HINT*** - Check if `CP` or `SP` is greater."
      ]
    },
    {
      "cell_type": "code",
      "execution_count": 8,
      "metadata": {
        "id": "jDwBXlkO2sfl"
      },
      "outputs": [
        {
          "name": "stdout",
          "output_type": "stream",
          "text": [
            "Hurray! You have earned a profit of Rs. 25.0\n"
          ]
        }
      ],
      "source": [
        "# Solution - Question 03\n",
        "cp = float(input(\"Enter Cost Price of the Article : \"))\n",
        "sp = float(input(\"Enter Selling Price of the Article : \"))\n",
        "\n",
        "if (sp > cp):\n",
        "    print(f\"Hurray! You have earned a profit of Rs. {sp-cp}\")\n",
        "else:\n",
        "    print(f\"Alas! You have lost Rs. {cp-sp}\")"
      ]
    },
    {
      "cell_type": "markdown",
      "metadata": {
        "id": "J_FG_cJW2ugT"
      },
      "source": [
        "## 🎯 **Question 04**\n",
        "\n",
        "#### Write a ***menu-driven*** program for ***conversion of units***. The menu should look like -\n",
        "1. `cm` to `ft`\n",
        "2. `km` to `miles`\n",
        "3. `USD` to `INR`\n",
        "4. `Exit`\n",
        "\n",
        "***NOTE*** - The menu should be displayed repeatedly until user opts for ***Exit*** command.\n",
        "\n",
        "|**INPUT**|\n",
        "|:-------:|\n",
        "| choice = 1 <br> cm = 100 |  \n",
        "\n",
        "<br>\n",
        "\n",
        "|**OUTPUT**|\n",
        "|:-------:|\n",
        "| 100 cm = 3.28084 ft |\n",
        "\n",
        "***HINT*** - Use `Loops` and `if-elif-else` ladder."
      ]
    },
    {
      "cell_type": "code",
      "execution_count": 1,
      "metadata": {
        "id": "yBHhaCGQ2zpD"
      },
      "outputs": [
        {
          "name": "stdout",
          "output_type": "stream",
          "text": [
            "1. cm to ft\n",
            "2. km to miles\n",
            "3. USD to INR\n",
            "4. Exit\n",
            "100.0 cm = 3.2808398950131235 ft\n",
            "1. cm to ft\n",
            "2. km to miles\n",
            "3. USD to INR\n",
            "4. Exit\n",
            "1000.0 km = 621.5040397762585 miles\n",
            "1. cm to ft\n",
            "2. km to miles\n",
            "3. USD to INR\n",
            "4. Exit\n",
            "3000.0 USD = 250560.0 INR\n",
            "1. cm to ft\n",
            "2. km to miles\n",
            "3. USD to INR\n",
            "4. Exit\n",
            "You entered a wrong choice :(\n",
            "1. cm to ft\n",
            "2. km to miles\n",
            "3. USD to INR\n",
            "4. Exit\n",
            "We are terminating the program as per your choice :)\n",
            "Program Terminated Successfully :)\n"
          ]
        }
      ],
      "source": [
        "# Solution - Question 04\n",
        "import time\n",
        "choices = [\"1. cm to ft\", \"2. km to miles\", \"3. USD to INR\", \"4. Exit\"]\n",
        "choice = 0\n",
        "while (choice != 4):\n",
        "    if (choice in [0,1,2,3]):\n",
        "        for choice in choices:\n",
        "            print(choice)\n",
        "        choice = int(input(\"Enter your Choice : \"))\n",
        "    if (choice == 1):\n",
        "        cm = float(input(\"Enter Length (cm) : \"))\n",
        "        print(f\"{cm} cm = {cm / 30.48} ft\")\n",
        "    elif (choice == 2):\n",
        "        km = float(input(\"Enter Distance (km) : \"))\n",
        "        print(f\"{km} km = {km / 1.609} miles\")\n",
        "    elif (choice == 3):\n",
        "        usd = float(input(\"Enter Amount (USD) : \"))\n",
        "        print(f\"{usd} USD = {usd * 83.52} INR\")\n",
        "    elif (choice == 4):\n",
        "        print(f\"We are terminating the program as per your choice :)\")\n",
        "    else:\n",
        "        print(f\"You entered a wrong choice :(\")\n",
        "        choice = 0\n",
        "else:\n",
        "    for i in range(101):\n",
        "        print(f\"Terminating... {i}\", end = \"\\r\", flush = True)\n",
        "        time.sleep(0.1)\n",
        "    else:\n",
        "        print(f\"Program Terminated Successfully :)\")"
      ]
    },
    {
      "cell_type": "markdown",
      "metadata": {
        "id": "pk_I_S4m3PT5"
      },
      "source": [
        "## 🎯 **Question 05**\n",
        "\n",
        "#### Find the ***factorial*** of a given number.\n",
        "\n",
        "***NOTE*** - The factorial (`symbol : !`) means to multiply all whole numbers from the chosen number down to 1.\n",
        "\n",
        "***EXAMPLE***\n",
        "- Factorial of 5. Symbolically, `5!` can be find as :\n",
        "  ```bash\n",
        "    5! = 5 X 4 X 3 X 2 X 1 = 120\n",
        "  ```\n",
        "\n",
        "\n",
        "|**INPUT**|\n",
        "|:-------:|\n",
        "| N = 5 |  \n",
        "\n",
        "<br>\n",
        "\n",
        "|**OUTPUT**|\n",
        "|:-------:|\n",
        "| Factorial of 5 : 120 |\n",
        "\n",
        "***HINT*** - Use `Loop`."
      ]
    },
    {
      "cell_type": "code",
      "execution_count": 2,
      "metadata": {
        "id": "lzXxHegx3Rkc"
      },
      "outputs": [
        {
          "name": "stdout",
          "output_type": "stream",
          "text": [
            " Factorial of 5 : 120\n"
          ]
        }
      ],
      "source": [
        "# Solution - Question 05\n",
        "num = int(input(\"Enter a number : \"))\n",
        "factorial = 1\n",
        "i = num\n",
        "# Logic\n",
        "while (i > 0):\n",
        "    factorial = factorial * i\n",
        "    i = i - 1\n",
        "else:\n",
        "    print(f\" Factorial of {num} : {factorial}\")"
      ]
    },
    {
      "cell_type": "markdown",
      "metadata": {
        "id": "-17IOi-g3UpU"
      },
      "source": [
        "## 🎯 **Question 06**\n",
        "\n",
        "#### ***Reverse*** a given number.\n",
        "\n",
        "***EXAMPLE*** - Reverse of 12345 = 54321.\n",
        "\n",
        "|**INPUT**|\n",
        "|:-------:|\n",
        "| N = 7267 |  \n",
        "\n",
        "<br>\n",
        "\n",
        "|**OUTPUT**|\n",
        "|:-------:|\n",
        "| Reverse of 7267 is 7627. |\n",
        "\n",
        "***HINT*** - Use `Loop` and `%` operator."
      ]
    },
    {
      "cell_type": "code",
      "execution_count": 4,
      "metadata": {
        "id": "wJwLpKCr3aVA"
      },
      "outputs": [
        {
          "name": "stdout",
          "output_type": "stream",
          "text": [
            "Reverse of 7267 is 7627.\n"
          ]
        }
      ],
      "source": [
        "# Solution - Question 06\n",
        "num = int(input(\"Enter a number : \"))\n",
        "rev = 0\n",
        "i = num\n",
        "while (i > 0):\n",
        "    rev = rev * 10 + (i % 10)\n",
        "    i = i // 10\n",
        "else:\n",
        "    print(f\"Reverse of {num} is {rev}.\")"
      ]
    },
    {
      "cell_type": "markdown",
      "metadata": {
        "id": "-t8PJQaY3sHf"
      },
      "source": [
        "## 🎯 **Question 07**\n",
        "\n",
        "#### Take a user input as ***integer N***. Find out the ***sum from 1 to N***. If any number is ***divisible by 5***, then ***skip*** that number. And if the ***sum is greater than 300***, do not calculate the sum further more. Print the final result. And don't use `for` loop to solve this problem.\n",
        "\n",
        "|**INPUT**|\n",
        "|:-------:|\n",
        "| N = 30 |  \n",
        "\n",
        "<br>\n",
        "\n",
        "|**OUTPUT**|\n",
        "|:-------:|\n",
        "| 276 |\n",
        "\n",
        "***HINT*** - Use `while` loop and `%` operator."
      ]
    },
    {
      "cell_type": "code",
      "execution_count": 6,
      "metadata": {
        "id": "GZB6mGMP3ujT"
      },
      "outputs": [
        {
          "name": "stdout",
          "output_type": "stream",
          "text": [
            "276\n"
          ]
        }
      ],
      "source": [
        "# Solution - Question 07\n",
        "n = int(input(\"Enter a positive integer : \"))\n",
        "i = 1\n",
        "sum = 0\n",
        "\n",
        "# Logic\n",
        "while (i <= n):\n",
        "    if (i % 5 == 0):\n",
        "        i += 1\n",
        "        continue # Skipping the multiple of 5\n",
        "    sum += i\n",
        "    if (sum > 300):\n",
        "        sum = sum - i\n",
        "        break\n",
        "    i += 1\n",
        "\n",
        "print(f\"{sum}\")"
      ]
    },
    {
      "cell_type": "markdown",
      "metadata": {
        "id": "Q7ggImeA3xm4"
      },
      "source": [
        "## 🎯 **Question 08**\n",
        "\n",
        "#### Write a program that ***keeps on accepting a number*** from the user ***until the user enters Zero***. Display the ***sum*** and ***average*** of all the numbers.\n",
        "\n",
        "***CHALLENGE*** - ***Do not use a List*** to store the accepted numbers.\n",
        "\n",
        "|**INPUT**|\n",
        "|:-------:|\n",
        "| N = 1, 2, 3, 4, 5, ***0*** |  \n",
        "\n",
        "<br>\n",
        "\n",
        "|**OUTPUT**|\n",
        "|:-------:|\n",
        "| Sum = 15 <br> Average = 3 |\n",
        "\n",
        "***HINT*** - Use `while` loop and `break` statement."
      ]
    },
    {
      "cell_type": "code",
      "execution_count": 7,
      "metadata": {
        "id": "t_YDSZDe4Kdo"
      },
      "outputs": [
        {
          "name": "stdout",
          "output_type": "stream",
          "text": [
            "Sum = 15\n",
            "Average = 3.0\n"
          ]
        }
      ],
      "source": [
        "# Solution - Question 08\n",
        "count = 0\n",
        "sum = 0\n",
        "average = 0\n",
        "while (n != 0):\n",
        "    n = int(input(f\"Enter a number (Enter 0 to STOP [X]) : \"))\n",
        "    sum += n\n",
        "    count += 1\n",
        "else:\n",
        "    print(f\"Sum = {sum}\")\n",
        "    print(f\"Average = {sum / (count-1)}\")"
      ]
    },
    {
      "cell_type": "markdown",
      "metadata": {
        "id": "6EhvEMvm4R7s"
      },
      "source": [
        "## 🎯 **Question 09**\n",
        "\n",
        "#### Write a program which will ***find all such numbers*** which are ***divisible by 7*** but are ***not a multiple of 5***, between 2000 and 3200 (both included). The numbers obtained should be ***printed in a comma-separated sequence*** on a single line.\n",
        "\n",
        "|**OUTPUT**|\n",
        "|:-------:|\n",
        "| 2002, 2009, 2016, 2023, 2037, 2044, 2051, 2058, 2072, 2079, 2086, ... |\n",
        "\n",
        "***HINT*** - Use `while` loop and `logical` operators."
      ]
    },
    {
      "cell_type": "code",
      "execution_count": 10,
      "metadata": {
        "id": "d6RgP1B34T6c"
      },
      "outputs": [
        {
          "name": "stdout",
          "output_type": "stream",
          "text": [
            "2002, 2009, 2016, 2023, 2037, 2044, 2051, 2058, 2072, 2079, 2086, 2093, 2107, 2114, 2121, 2128, 2142, 2149, 2156, 2163, 2177, 2184, 2191, 2198, 2212, 2219, 2226, 2233, 2247, 2254, 2261, 2268, 2282, 2289, 2296, 2303, 2317, 2324, 2331, 2338, 2352, 2359, 2366, 2373, 2387, 2394, 2401, 2408, 2422, 2429, 2436, 2443, 2457, 2464, 2471, 2478, 2492, 2499, 2506, 2513, 2527, 2534, 2541, 2548, 2562, 2569, 2576, 2583, 2597, 2604, 2611, 2618, 2632, 2639, 2646, 2653, 2667, 2674, 2681, 2688, 2702, 2709, 2716, 2723, 2737, 2744, 2751, 2758, 2772, 2779, 2786, 2793, 2807, 2814, 2821, 2828, 2842, 2849, 2856, 2863, 2877, 2884, 2891, 2898, 2912, 2919, 2926, 2933, 2947, 2954, 2961, 2968, 2982, 2989, 2996, 3003, 3017, 3024, 3031, 3038, 3052, 3059, 3066, 3073, 3087, 3094, 3101, 3108, 3122, 3129, 3136, 3143, 3157, 3164, 3171, 3178, 3192, 3199, "
          ]
        }
      ],
      "source": [
        "# Solution - Question 09\n",
        "i = 2000\n",
        "while (i <= 3200):\n",
        "    if (i % 7 == 0 and i % 5 != 0):\n",
        "        print(f\"{i}\", end = \", \")\n",
        "    i += 1"
      ]
    },
    {
      "cell_type": "markdown",
      "metadata": {
        "id": "tYvmRR-G4Vp4"
      },
      "source": [
        "## 🎯 **Question 10**\n",
        "\n",
        "#### Write a program, which will ***find all such numbers between 1000 and 3000*** (both included) such that **each digit of the number is an even number**. The numbers obtained should be printed in a ***space-separated sequence*** on a single line.\n",
        "\n",
        "|**OUTPUT**|\n",
        "|:-------:|\n",
        "| 2000 2002 2004 2006 2008 2020 2022 2024 2026 2028 2040 2042 2044 2046 2048 2060 2062 ... |\n",
        "\n",
        "***HINT*** - Use `while-else` loop and `break` statement.\n"
      ]
    },
    {
      "cell_type": "code",
      "execution_count": 11,
      "metadata": {
        "id": "k6Gs1kIf4k19"
      },
      "outputs": [
        {
          "name": "stdout",
          "output_type": "stream",
          "text": [
            "2000 2002 2004 2006 2008 2020 2022 2024 2026 2028 2040 2042 2044 2046 2048 2060 2062 2064 2066 2068 2080 2082 2084 2086 2088 2200 2202 2204 2206 2208 2220 2222 2224 2226 2228 2240 2242 2244 2246 2248 2260 2262 2264 2266 2268 2280 2282 2284 2286 2288 2400 2402 2404 2406 2408 2420 2422 2424 2426 2428 2440 2442 2444 2446 2448 2460 2462 2464 2466 2468 2480 2482 2484 2486 2488 2600 2602 2604 2606 2608 2620 2622 2624 2626 2628 2640 2642 2644 2646 2648 2660 2662 2664 2666 2668 2680 2682 2684 2686 2688 2800 2802 2804 2806 2808 2820 2822 2824 2826 2828 2840 2842 2844 2846 2848 2860 2862 2864 2866 2868 2880 2882 2884 2886 2888 "
          ]
        }
      ],
      "source": [
        "# Solution - Question 10\n",
        "i = 1000\n",
        "while (i <= 3000):\n",
        "    num = i\n",
        "    while (num > 0):\n",
        "        if ((num % 10) % 2 != 0):\n",
        "            break\n",
        "        num = num // 10\n",
        "    else:\n",
        "        print(f\"{i}\", end = \" \")\n",
        "    i += 1"
      ]
    },
    {
      "cell_type": "markdown",
      "metadata": {
        "id": "GV18IINT4mf5"
      },
      "source": [
        "## 🎯 **Question 11**\n",
        "\n",
        "#### A ***robot*** moves in a plane starting from the ***original point (0,0)***. The robot can move toward ***UP***, ***DOWN***, ***LEFT*** and ***RIGHT*** with a given steps.\n",
        "The trace of robot movement is shown as the following :\n",
        "1. UP - 5\n",
        "2. DOWN - 3\n",
        "3. LEFT - 3\n",
        "4. RIGHT - 2\n",
        "5. `!`\n",
        "\n",
        "***NOTE***\n",
        "- The numbers after the direction are steps.\n",
        "- `!` means robot should stop there.\n",
        "\n",
        "***CHALLENGE***\n",
        "- Write a program to ***compute the distance from current position after a sequence of movement and original point***.\n",
        "- If the distance is a ***float***, then just print the ***nearest integer***.\n",
        "\n",
        "\n",
        "| **INPUT** |\n",
        "|:-------:|\n",
        "| UP - 5 <br> DOWN - 3 <br> LEFT - 3 <br> RIGHT - 2 <br> `!`|  \n",
        "\n",
        "<br>\n",
        "\n",
        "|**OUTPUT**|\n",
        "|:-------:|\n",
        "| 2 |\n",
        "\n",
        "***HINT***\n",
        "- ***UP*** movement means ***increase in value of y coordinate***.\n",
        "- ***DOWN*** movement means ***decrease in value of y coordinate***.\n",
        "- ***LEFT*** movement means ***decrease in value of x coordinate***.\n",
        "- ***RIGHT*** movement means ***increase in value of x coordinate***."
      ]
    },
    {
      "cell_type": "code",
      "execution_count": 15,
      "metadata": {
        "id": "6UNMC2aR4w5x"
      },
      "outputs": [
        {
          "name": "stdout",
          "output_type": "stream",
          "text": [
            "--------------------------\n",
            "           MENU           \n",
            "--------------------------\n",
            "1. UP\n",
            "2. DOWN\n",
            "3. LEFT\n",
            "4. RIGHT\n",
            "5. ! - To Stop\n",
            "--------------------------\n",
            "Stopping the movement of Robot !!!\n",
            "Robot stopped successfully :)\n",
            "UP - 5\n",
            "DOWN - 3\n",
            "LEFT - 3\n",
            "RIGHT - 2\n",
            "Distance = 2\n"
          ]
        }
      ],
      "source": [
        "# Solution - Question 11\n",
        "x = 0\n",
        "y = 0\n",
        "\n",
        "options = [\n",
        "           \"--------------------------\",\\\n",
        "           \"           MENU           \",\\\n",
        "           \"--------------------------\",\\\n",
        "           \"1. UP\",\\\n",
        "           \"2. DOWN\",\\\n",
        "           \"3. LEFT\",\\\n",
        "           \"4. RIGHT\",\\\n",
        "           \"5. ! - To Stop\",\\\n",
        "           \"--------------------------\"\n",
        "           ]\n",
        "choice = 0\n",
        "traces = []\n",
        "\n",
        "for option in options:\n",
        "    print(option)\n",
        "\n",
        "while (choice != 5):\n",
        "    if (choice in [0,1,2,3,4]):\n",
        "        choice = int(input(\"Enter your Choice : \"))\n",
        "    if (choice == 1):\n",
        "        steps = int(input(\"Enter no. of steps (UP) : \"))\n",
        "        y += steps\n",
        "        traces.append(f\"UP - {steps}\")\n",
        "    elif (choice == 2):\n",
        "        steps = int(input(\"Enter no. of steps (DOWN) : \"))\n",
        "        y -= steps\n",
        "        traces.append(f\"DOWN - {steps}\")\n",
        "    elif (choice == 3):\n",
        "        steps = int(input(\"Enter no. of steps (LEFT) : \"))\n",
        "        x -= steps\n",
        "        traces.append(f\"LEFT - {steps}\")\n",
        "    elif (choice == 4):\n",
        "        steps = int(input(\"Enter no. of steps (RIGHT) : \"))\n",
        "        x += steps\n",
        "        traces.append(f\"RIGHT - {steps}\")\n",
        "    elif (choice == 5):\n",
        "        print(f\"Stopping the movement of Robot !!!\")\n",
        "    else:\n",
        "        print(f\"You entered a wrong choice :(\")\n",
        "        choice = 0\n",
        "else:\n",
        "    for i in range(101):\n",
        "        print(f\"Stopping... {i}%\", end = \"\\r\", flush = True)\n",
        "        time.sleep(0.1)\n",
        "    else:\n",
        "        print(f\"Robot stopped successfully :)\")\n",
        "\n",
        "for trace in traces:\n",
        "    print(trace)\n",
        "distance = ((x - 0)**2 + (y - 0)** 2)**(1/2)\n",
        "print(f\"Distance = {int(distance)}\")"
      ]
    },
    {
      "cell_type": "markdown",
      "metadata": {
        "id": "LJJ30_Yw27ZU"
      },
      "source": [
        "## 🎯 **Question 12**\n",
        "\n",
        "#### Display ***Fibonacci Series*** up to ***10*** terms.\n",
        "\n",
        "***NOTE***\n",
        "- The Fibonacci Sequence is a series of numbers.\n",
        "- The next number is found by adding up the two numbers before it.\n",
        "- The first two numbers are 0 and 1.\n",
        "- For example :  0, 1, 1, 2, 3, 5, 8, 13, 21.\n",
        "  - The next number in this series above is 13 + 21 = 34.\n",
        "\n",
        "|**INPUT**|\n",
        "|:-------:|\n",
        "| N = 10 |  \n",
        "\n",
        "<br>\n",
        "\n",
        "|**OUTPUT**|\n",
        "|:-------:|\n",
        "| 0, 1, 1, 2, 3, 5, 8, 13, 21, 34 |\n",
        "\n",
        "***HINT*** - Use `Loops`, `Operators` and `Variables`."
      ]
    },
    {
      "cell_type": "code",
      "execution_count": 17,
      "metadata": {},
      "outputs": [
        {
          "name": "stdout",
          "output_type": "stream",
          "text": [
            "0 1 1 2 3 5 8 13 21 34 "
          ]
        }
      ],
      "source": [
        "# Solution - Question 12\n",
        "\n",
        "f = 0\n",
        "s = 1\n",
        "print(f\"{f} {s}\", end = \" \")\n",
        "i = 1\n",
        "while (i <= 8):\n",
        "    t = f + s\n",
        "    print(f\"{t}\", end = \" \")\n",
        "    f = s\n",
        "    s = t\n",
        "    i = i + 1"
      ]
    },
    {
      "cell_type": "markdown",
      "metadata": {
        "id": "3fsAIAhK5GYY"
      },
      "source": [
        "## 🎯 **Question 13**\n",
        "\n",
        "#### Write a program to print whether a ***given number*** is a ***prime*** number or not.\n",
        "\n",
        "| **INPUT** |\n",
        "|:-------:|\n",
        "| num = 121 |  \n",
        "\n",
        "<br>\n",
        "\n",
        "|**OUTPUT**|\n",
        "|:-------:|\n",
        "| 121 is not prime. |\n",
        "\n",
        "***HINT*** - If any number other than `1` and `num` divides the `num`, then obviously, it is not prime."
      ]
    },
    {
      "cell_type": "code",
      "execution_count": 41,
      "metadata": {
        "id": "j6y91lxy5LZs"
      },
      "outputs": [
        {
          "name": "stdout",
          "output_type": "stream",
          "text": [
            "121 is not prime.\n"
          ]
        }
      ],
      "source": [
        "# Solution - Question 13\n",
        "n = int(input(\"Enter a number : \"))\n",
        "\n",
        "for i in range(2, (n//2)+2):\n",
        "    if (n % i == 0):\n",
        "        print(f\"{n} is not prime.\")\n",
        "        break\n",
        "else:\n",
        "    print(f\"{n} is prime.\")"
      ]
    },
    {
      "cell_type": "markdown",
      "metadata": {
        "id": "asAbmbK-5NHv"
      },
      "source": [
        "## 🎯 **Question 14**\n",
        "\n",
        "#### Print all the ***Armstrong*** numbers in a ***given range***. Range will be provided by the user.\n",
        "\n",
        "***NOTE***\n",
        "- Armstrong number is a number that is *equal to the sum of cubes of its digits*.\n",
        "- For example 0, 1, 153, 370, 371 and 407 are the Armstrong numbers.\n",
        "\n",
        "| **INPUT** |\n",
        "|:-------:|\n",
        "| num = 371 |  \n",
        "\n",
        "<br>\n",
        "\n",
        "|**OUTPUT**|\n",
        "|:-------:|\n",
        "| 371 is an Armstrong Number. |\n",
        "\n",
        "***HINT*** - Use `%` operator."
      ]
    },
    {
      "cell_type": "code",
      "execution_count": 17,
      "metadata": {
        "id": "PZuI67pm5jCT"
      },
      "outputs": [
        {
          "name": "stdout",
          "output_type": "stream",
          "text": [
            "0 1 153 370 371 407 "
          ]
        }
      ],
      "source": [
        "# Solution - Question 14\n",
        "start_range = int(input(\"Enter starting of range : \"))\n",
        "end_range = int(input(\"Enter ending of range : \"))\n",
        "\n",
        "while(start_range <= end_range):\n",
        "    num = start_range\n",
        "    sum = 0\n",
        "    while(num > 0):\n",
        "        sum += ((num % 10) ** 3)\n",
        "        num = num // 10\n",
        "    if(sum == start_range):\n",
        "        print(f\"{start_range}\", end = \" \", flush = True)\n",
        "    start_range += 1"
      ]
    },
    {
      "cell_type": "markdown",
      "metadata": {
        "id": "ClCQZMqT7gK0"
      },
      "source": [
        "## 🎯 **Question 15**\n",
        "\n",
        "#### Calculate the ***angle between the hour hand and minute hand***.\n",
        "\n",
        "***NOTE***\n",
        "- There can be two angles between hands, we need to print a minimum of the two.\n",
        "- Also, we need to print the floor of the final result angle.\n",
        "- For example, if the final angle is 10.61, we need to print 10.\n",
        "\n",
        "| **INPUT** |\n",
        "|:-------:|\n",
        "| H = 9 <br> M = 0 |  \n",
        "\n",
        "<br>\n",
        "\n",
        "|**OUTPUT**|\n",
        "|:-------:|\n",
        "| 90 |\n",
        "\n",
        "***EXPLANATION*** - The minimum angle between hour and minute hand when the time is `9` is 90 degress.\n",
        "\n",
        "***HINT*** - Angle between 2 numbers on clock is 30 degree."
      ]
    },
    {
      "cell_type": "code",
      "execution_count": 11,
      "metadata": {
        "id": "tNBTCZML7jy_"
      },
      "outputs": [
        {
          "name": "stdout",
          "output_type": "stream",
          "text": [
            "Angle = 90\n"
          ]
        }
      ],
      "source": [
        "# Solution - Question 15\n",
        "hour = int(input(\"Enter position of hour hand : \"))\n",
        "minute = int(input(\"Enter position of minute hand : \"))\n",
        "\n",
        "if (minute == 0):\n",
        "    minute = 12\n",
        "if (hour == 0):\n",
        "    hour = 12\n",
        "\n",
        "d1 = max(hour, minute) - min(hour, minute)\n",
        "d2 = 12 - d1\n",
        "\n",
        "angle = 30 * min(d1, d2)\n",
        "\n",
        "print(f\"Angle = {angle}\")"
      ]
    },
    {
      "cell_type": "markdown",
      "metadata": {
        "id": "GwacF9Co72Qc"
      },
      "source": [
        "## 🎯 **Question 16**\n",
        "\n",
        "#### Given two ***rectangles***, find if the given two rectangles ***overlap*** or not.\n",
        "- A rectangle is denoted by providing the `x` and `y` coordinates of two points :\n",
        "  - the ***left top corner*** and,\n",
        "  - the ***right bottom corner*** of the rectangle.\n",
        "- Two rectangles sharing a side are considered overlapping.\n",
        "- (***L1*** and ***R1*** are the extreme points of the ***first rectangle*** and ***L2*** and ***R2*** are the extreme points of the ***second rectangle***).\n",
        "\n",
        "***NOTE***\n",
        "- It may be assumed that the ***rectangles are parallel to the coordinate axis***.\n",
        "\n",
        "<center> <img src='https://www.geeksforgeeks.org/wp-content/uploads/rectanglesOverlap.png' width='300' height='200'> </center>\n",
        "\n",
        "| **INPUT** |\n",
        "|:-------:|\n",
        "| l1 = ( 0, 10 ) <br> r1 = ( 10, 0 ) <br> l2 = ( 5, 5 ) <br> r2 = ( 15, 0 ) |  \n",
        "\n",
        "<br>\n",
        "\n",
        "|**OUTPUT**|\n",
        "|:-------:|\n",
        "| Rectangles Overlap |\n",
        "\n",
        "***HINT*** - Two rectangles do not overlap if one of the following conditions is true. \n",
        "1. One rectangle is above top edge of other rectangle. \n",
        "2. One rectangle is on left side of left edge of other rectangle."
      ]
    },
    {
      "cell_type": "code",
      "execution_count": 4,
      "metadata": {
        "id": "6rrw_lpH78Rs"
      },
      "outputs": [
        {
          "name": "stdout",
          "output_type": "stream",
          "text": [
            "Rectangles Overlap :)\n"
          ]
        }
      ],
      "source": [
        "# Solution - Question \n",
        "\n",
        "l1 = eval(input(\"Enter the coordinates of Top Left Corner of Rectangle One (a,b) : \"))\n",
        "r1 = eval(input(\"Enter the coordinates of Bottom Right Corner of Rectangle One (a,b) : \"))\n",
        "l2 = eval(input(\"Enter the coordinates of Top Left Corner of Rectangle Two (a,b) :  \"))\n",
        "r2 = eval(input(\"Enter the coordinates of Bottom Right Corner of Rectangle One (a,b) : \"))\n",
        "\n",
        "if (l1[0] == r1[0] or l1[1] == r1[1] or l2[0] == r2[0] or l2[1] == r2[1]):\n",
        "    flag = False\n",
        "elif (l1[1] < r2[1] or l2[1] < r1[1]):\n",
        "    flag = False\n",
        "elif (r1[0] < l1[0] or r2[0] < l2[0]):\n",
        "    flag = False\n",
        "else:\n",
        "    flag = True\n",
        "\n",
        "if flag == True:\n",
        "    print(\"Rectangles Overlap :)\")\n",
        "else:\n",
        "    print(\"Rectangles do not Overlap :(\")\n",
        "    "
      ]
    }
  ],
  "metadata": {
    "colab": {
      "provenance": []
    },
    "kernelspec": {
      "display_name": "Python 3",
      "name": "python3"
    },
    "language_info": {
      "codemirror_mode": {
        "name": "ipython",
        "version": 3
      },
      "file_extension": ".py",
      "mimetype": "text/x-python",
      "name": "python",
      "nbconvert_exporter": "python",
      "pygments_lexer": "ipython3",
      "version": "3.12.1"
    }
  },
  "nbformat": 4,
  "nbformat_minor": 0
}
