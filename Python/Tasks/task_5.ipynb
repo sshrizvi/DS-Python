{
  "cells": [
    {
      "cell_type": "markdown",
      "metadata": {},
      "source": [
        "# **Task 5 - (Article 25 to 33)** [![Static Badge](https://img.shields.io/badge/Open%20in%20Colab%20-%20orange?style=plastic&logo=googlecolab&labelColor=grey)](https://colab.research.google.com/github/sshrizvi/DS-Python/blob/main/Python/Tasks/task_5.ipynb)\n",
        "\n",
        "|🔴 **WARNING** 🔴|\n",
        "|:-----------:|\n",
        "|If you have not studied article 25 to 33. Do checkout the articles before attempting the task. <br> Here is [Article 25 - Tuples](../Articles/25_tuples.md) |"
      ]
    },
    {
      "cell_type": "markdown",
      "metadata": {
        "id": "limD5IAfl-tz"
      },
      "source": [
        "# **Questions on Tuples**\n"
      ]
    },
    {
      "cell_type": "markdown",
      "metadata": {
        "id": "nSTn3CjbmB7q"
      },
      "source": [
        "## 🎯 **Question 01**\n",
        "\n",
        "#### ***Join Tuples*** if similar initial element.\n",
        "\n",
        "#### ***Statement :*** While working with Python tuples, we can have a problem in which we need to perform concatenation of records from the similarity of initial element. This problem can have applications in data domains such as Data Science.\n",
        "\n",
        "| **INPUT** |\n",
        "|:---------:|\n",
        "| test_list = [(5, 6), (5, 7), (5, 8), (6, 10), (7, 13)] |\n",
        "\n",
        "<br>\n",
        "\n",
        "| **OUTPUT** |\n",
        "|:---------:|\n",
        "| [(5, 6, 7, 8), (6, 10), (7, 13)] |"
      ]
    },
    {
      "cell_type": "code",
      "execution_count": 15,
      "metadata": {
        "id": "hwVeEvH9rJzU"
      },
      "outputs": [
        {
          "name": "stdout",
          "output_type": "stream",
          "text": [
            "[(5, 6, 7, 8), (6, 10), (7, 13, 14, 15)]\n"
          ]
        }
      ],
      "source": [
        "# Solution - Question 01\n",
        "\n",
        "test_list = [(5, 6), (5, 7), (5, 8), (6, 10), (7, 13)]\n",
        "\n",
        "output_list = []\n",
        "l = []\n",
        "for i in test_list:\n",
        "    if(l == []):\n",
        "        l.extend(list(i)) # 5,6\n",
        "    elif(l[0] == i[0]):\n",
        "        l.append(i[1])\n",
        "    elif(l[0] != i[0]):\n",
        "        output_list.append(tuple(l))\n",
        "        l.clear()\n",
        "        l.extend(list(i))\n",
        "output_list.append(tuple(l))\n",
        "\n",
        "print(output_list)"
      ]
    },
    {
      "cell_type": "markdown",
      "metadata": {
        "id": "ujQpZOFFmeha"
      },
      "source": [
        "## 🎯 **Question 02**\n",
        "\n",
        "#### ***Statement :*** Multiply ***adjacent elements (both side)*** and take sum of right and left side multiplication result.\n",
        "\n",
        "EXAMPLE : \n",
        "- The original tuple : (1, 5, 7, 8, 10)\n",
        "- Resultant tuple after multiplication :\n",
        "- (1 X 5, 1 X 5 + 5 X 7, 5 X 7 + 7 X 8, 7 X 8 + 8 X 10, 8 X 10) -> (5, 40, 91, 136, 80)\n",
        "\n",
        "| **INPUT** |\n",
        "|:---------:|\n",
        "| (1, 5, 7, 8, 10) |\n",
        "\n",
        "<br>\n",
        "\n",
        "| **OUTPUT** |\n",
        "|:---------:|\n",
        "| (5, 40, 91, 136, 80) |"
      ]
    },
    {
      "cell_type": "code",
      "execution_count": 16,
      "metadata": {
        "id": "N9lveEsArNVc"
      },
      "outputs": [
        {
          "name": "stdout",
          "output_type": "stream",
          "text": [
            "[5, 40, 91, 136, 80]\n"
          ]
        }
      ],
      "source": [
        "# Solution - Question 02\n",
        "\n",
        "input = (1, 5, 7, 8, 10)\n",
        "\n",
        "output = []\n",
        "i = 0\n",
        "while(i < len(input)):\n",
        "    if(i == 0):\n",
        "        sop = input[i] * input[i+1]\n",
        "    elif(i == len(input)-1):\n",
        "        sop = input[i-1] * input[i]\n",
        "    else:\n",
        "        sop = input[i-1] * input[i] + input[i] * input[i+1]\n",
        "    output.append(sop)\n",
        "    i += 1\n",
        "\n",
        "print(output)"
      ]
    },
    {
      "cell_type": "markdown",
      "metadata": {
        "id": "x0psnUiu2ZVp"
      },
      "source": [
        "## 🎯 **Question 03**\n",
        "\n",
        "#### Check is tuples are ***same*** or not ?\n",
        "#### ***Statement :*** Two tuples would be same if both tuples have ***same element at same index***.\n",
        "\n",
        "EXAMPLE : \n",
        "- The original tuple : (1, 5, 7, 8, 10)\n",
        "- Resultant tuple after multiplication :\n",
        "- (1 X 5, 1 X 5 + 5 X 7, 5 X 7 + 7 X 8, 7 X 8 + 8 X 10, 8 X 10) -> (5, 40, 91, 136, 80)\n",
        "\n",
        "| **INPUT** |\n",
        "|:---------:|\n",
        "| t1 = (1,2,3,0) <br> t2 = (0,1,2,3) |\n",
        "\n",
        "<br>\n",
        "\n",
        "| **OUTPUT** |\n",
        "|:---------:|\n",
        "| The tuples are not same. |"
      ]
    },
    {
      "cell_type": "code",
      "execution_count": 19,
      "metadata": {
        "id": "JMVw9EhSrPEc"
      },
      "outputs": [
        {
          "name": "stdout",
          "output_type": "stream",
          "text": [
            "The tuples are not same.\n"
          ]
        }
      ],
      "source": [
        "# Solution - Quetion 03\n",
        "\n",
        "t1 = (1,2,3,0)\n",
        "t2 = (0,1,2,3)\n",
        "\n",
        "for x,y in zip(t1, t2):\n",
        "    if x == y:\n",
        "        continue\n",
        "    print(\"The tuples are not same.\")\n",
        "    break\n",
        "else:\n",
        "    print(\"The tuples are same.\")"
      ]
    },
    {
      "cell_type": "markdown",
      "metadata": {
        "id": "aZ4rObHK4fCN"
      },
      "source": [
        "## 🎯 **Question 04**\n",
        "\n",
        "#### ***Statement :*** Count no. of ***tuples***, ***list*** and ***set*** from a list.\n",
        "\n",
        "EXAMPLE : \n",
        "- The original tuple : (1, 5, 7, 8, 10)\n",
        "- Resultant tuple after multiplication :\n",
        "- (1 X 5, 1 X 5 + 5 X 7, 5 X 7 + 7 X 8, 7 X 8 + 8 X 10, 8 X 10) -> (5, 40, 91, 136, 80)\n",
        "\n",
        "| **INPUT** |\n",
        "|:---------:|\n",
        "| list1 = [ {'hi', 'bye'}, {'Geeks', 'forGeeks'}, ('a', 'b'), ['hi', 'bye'], ['a', 'b'] ] |\n",
        "\n",
        "<br>\n",
        "\n",
        "| **OUTPUT** |\n",
        "|:---------:|\n",
        "| List - 2 <br> Set - 2 <br> Tuples - 1 |"
      ]
    },
    {
      "cell_type": "code",
      "execution_count": 22,
      "metadata": {
        "id": "g_Bnuczk69tG"
      },
      "outputs": [
        {
          "name": "stdout",
          "output_type": "stream",
          "text": [
            "List - 2\n",
            "Set - 2\n",
            "Tuples - 1\n"
          ]
        }
      ],
      "source": [
        "# Solution - Question 04\n",
        "\n",
        "list1 = [\n",
        "            {'hi', 'bye'},\n",
        "            {'Geeks', 'forGeeks'},\n",
        "            ('a', 'b'),\n",
        "            ['hi', 'bye'],\n",
        "            ['a', 'b']\n",
        "        ]\n",
        "\n",
        "output = {\n",
        "    'List' : 0,\n",
        "    'Set' : 0,\n",
        "    'Tuples' : 0\n",
        "}\n",
        "for i in list1:\n",
        "    if type(i) == list:\n",
        "        output['List'] += 1\n",
        "    elif type(i) == set:\n",
        "        output['Set'] += 1\n",
        "    elif type(i) == tuple:\n",
        "        output['Tuples'] += 1\n",
        "\n",
        "for key,value in output.items():\n",
        "    print(\"{} - {}\".format(key,value))"
      ]
    },
    {
      "cell_type": "markdown",
      "metadata": {
        "id": "jInFNuit8hf1"
      },
      "source": [
        "## 🎯 **Question 05**\n",
        "\n",
        "#### ***Shortlist Students*** for a Job role.\n",
        "\n",
        "#### ***Statement :*** Ask user to input students record and store in tuples for each record. Then Ask user to input three things he wants in the candidate - Primary Skill, Higher Education, Year of Graduation.\n",
        "- Show every students record in form of tuples if matches all required criteria.\n",
        "- It is assumed that there will be only one primary skill.\n",
        "- If no such candidate found, print `No such candidate`.\n",
        "\n",
        "| **INPUT** |\n",
        "|:---------|\n",
        "| Enter No of records- 2 <br> Enter Details of student-1 <br> Enter Student name- Manohar <br> Enter Higher Education- B.Tech <br> Enter Primary Skill- Python <br> Enter Year of Graduation- 2022 <br> Enter Details of student-2 <br> Enter Student name- Ponian <br> Enter Higher Education- B.Sc. <br> Enter Primary Skill- C++ <br> Enter Year of Graduation- 2020 <br> <br> Enter Job Role Requirement <br> Enter Skill- Python <br> Enter Higher Education- B.Tech <br> Enter Year of Graduation- 2022 |\n",
        "\n",
        "<br>\n",
        "\n",
        "| **OUTPUT** |\n",
        "|:---------:|\n",
        "| ('Manohar', 'B.tech', 'Python', '2022') |"
      ]
    },
    {
      "cell_type": "code",
      "execution_count": 2,
      "metadata": {
        "id": "erh9QZaerSHk"
      },
      "outputs": [
        {
          "name": "stdout",
          "output_type": "stream",
          "text": [
            "Enter details of student no. 1 : \n",
            "Enter details of student no. 2 : \n",
            "Enter Job Role Requirement : \n",
            "('Manohar', 'Python', 'B.Tech', 2022)\n"
          ]
        }
      ],
      "source": [
        "# Solution - Question 05\n",
        "\n",
        "records = []\n",
        "n = int(input(\"Enter no. of records : \"))\n",
        "for i in range(n):\n",
        "    print(\"Enter details of student no. {}\".format(i+1))\n",
        "    name = input(\"Enter Student Name : \")\n",
        "    skill = input(\"Enter Primary Skill : \")\n",
        "    edu = input(\"Enter Higher Education : \")\n",
        "    year_of_grad = int(input(\"Enter Year of Graduation : \"))\n",
        "    records.append(tuple([name, skill, edu, year_of_grad]))\n",
        "print(\"Enter Job Role Requirement : \")\n",
        "skill = input(\"Enter Primary Skill : \")\n",
        "edu = input(\"Enter Higher Education : \")\n",
        "year_of_grad = int(input(\"Enter Year of Graduation : \"))\n",
        "\n",
        "for i in records:\n",
        "    if tuple([skill, edu, year_of_grad]) == tuple([i[1], i[2], i[3]]):\n",
        "        print(i)"
      ]
    },
    {
      "cell_type": "markdown",
      "metadata": {
        "id": "l4hLvwD2BeIN"
      },
      "source": [
        "# **Questions on Set**"
      ]
    },
    {
      "cell_type": "markdown",
      "metadata": {
        "id": "zCX0Sk2IBfu8"
      },
      "source": [
        "## 🎯 **Question 01**\n",
        "\n",
        "#### ***Statement :*** Write a program to find set of ***common elements*** in three lists using sets.\n",
        "\n",
        "| **INPUT** |\n",
        "|:---------:|\n",
        "| ar1 = [1, 5, 10, 20, 40, 80] <br> ar2 = [6, 7, 20, 80, 100] <br> ar3 = [3, 4, 15, 20, 30, 70, 80, 120] |\n",
        "\n",
        "<br>\n",
        "\n",
        "| **OUTPUT** |\n",
        "|:---------:|\n",
        "| [80, 20] |"
      ]
    },
    {
      "cell_type": "code",
      "execution_count": 3,
      "metadata": {
        "id": "rqATYpBUrUQU"
      },
      "outputs": [
        {
          "name": "stdout",
          "output_type": "stream",
          "text": [
            "{80, 20}\n"
          ]
        }
      ],
      "source": [
        "# Solution - Question 01\n",
        "\n",
        "arr1 = [1,5,10,20,40,80]\n",
        "arr2 = [6,7,20,80,100]\n",
        "arr3 = [3,4,15,20,30,70,80,120]\n",
        "\n",
        "common = set(arr1) & set(arr2) & set(arr3)\n",
        "\n",
        "print(common)"
      ]
    },
    {
      "cell_type": "markdown",
      "metadata": {
        "id": "0gOVS-0yCYrK"
      },
      "source": [
        "## 🎯 **Question 02**\n",
        "\n",
        "#### ***Statement :*** Write a program to ***count unique number of vowels using sets*** in a given string.\n",
        "***NOTE :*** Lowercase and Uppercase vowels will be taken as different.\n",
        "\n",
        "| **INPUT** |\n",
        "|:---------:|\n",
        "| str = \"hands-on data science mentorship progrAm with live classes at affordable fee only on CampusX\" |\n",
        "\n",
        "<br>\n",
        "\n",
        "| **OUTPUT** |\n",
        "|:---------:|\n",
        "| No. of unique vowels : 6 |"
      ]
    },
    {
      "cell_type": "code",
      "execution_count": 4,
      "metadata": {
        "id": "0vAlEAOzDihm"
      },
      "outputs": [
        {
          "name": "stdout",
          "output_type": "stream",
          "text": [
            "No. of unique vowels : 6\n"
          ]
        }
      ],
      "source": [
        "# Solution - Question 02\n",
        "\n",
        "str = \"hands-on data science mentorship progrAm with live classes at affordable fee only on CampusX\"\n",
        "\n",
        "vowels = {char for char in str if char in ['a','e','i','o','u','A','E','I','O','U']}\n",
        "no_of_unique_vowels = len(vowels)\n",
        "\n",
        "print(\"No. of unique vowels : {}\".format(no_of_unique_vowels))"
      ]
    },
    {
      "cell_type": "markdown",
      "metadata": {
        "id": "fqLZxiarEne5"
      },
      "source": [
        "## 🎯 **Question 03**\n",
        "\n",
        "#### ***Statement :*** Write a program to check if a given string is ***binary string*** of or not.\n",
        "***NOTE :*** A string is said to be binary if it's consists of ***only two unique characters***. Take string input from the user.\n",
        "\n",
        "| **INPUT** | **OUTPUT** |\n",
        "|:---------:|:---------:|\n",
        "| 01010101010 | Yes |\n",
        "| 1222211 | Yes |\n",
        "| Campusx | No |"
      ]
    },
    {
      "cell_type": "code",
      "execution_count": 6,
      "metadata": {
        "id": "5M5v8LoYrXkE"
      },
      "outputs": [
        {
          "name": "stdout",
          "output_type": "stream",
          "text": [
            "No\n"
          ]
        }
      ],
      "source": [
        "# Solution - Question 03\n",
        "\n",
        "str = input(\"Enter the string : \")\n",
        "\n",
        "characters = {char for char in str}\n",
        "no_of_unique_characters = len(characters)\n",
        "\n",
        "if(no_of_unique_characters == 2):\n",
        "    print(\"Yes\")\n",
        "else:\n",
        "    print(\"No\")"
      ]
    },
    {
      "cell_type": "markdown",
      "metadata": {
        "id": "xXS8wYH1mDqx"
      },
      "source": [
        "## 🎯 **Question 04**\n",
        "\n",
        "#### ***Statement :*** Find ***union*** of `n` arrays.\n",
        "\n",
        "| **INPUT** |\n",
        "|:---------:|\n",
        "| `[ [1, 2, 2, 4, 3, 6], [5, 1, 3, 4], [9, 5, 7, 1], [2, 4, 1, 3] ]` |\n",
        "\n",
        "<br>\n",
        "\n",
        "| **OUTPUT** |\n",
        "|:---------:|\n",
        "| `[1, 2, 3, 4, 5, 6, 7, 9]` |"
      ]
    },
    {
      "cell_type": "code",
      "execution_count": 7,
      "metadata": {
        "id": "FVNyK6MbncU8"
      },
      "outputs": [
        {
          "name": "stdout",
          "output_type": "stream",
          "text": [
            "[1, 2, 3, 4, 5, 6, 7, 9]\n"
          ]
        }
      ],
      "source": [
        "# Solution - Question 04\n",
        "\n",
        "arrays = [\n",
        "            [1, 2, 2, 4, 3, 6],\n",
        "            [5, 1, 3, 4],\n",
        "            [9, 5, 7, 1],\n",
        "            [2, 4, 1, 3]\n",
        "         ]\n",
        "\n",
        "union = set()\n",
        "for array in arrays:\n",
        "    union |= set(array)\n",
        "\n",
        "print(list(union))"
      ]
    },
    {
      "cell_type": "markdown",
      "metadata": {
        "id": "T_Re21BdndOz"
      },
      "source": [
        "## 🎯 **Question 05**\n",
        "\n",
        "#### ***Intersection*** of two sets.\n",
        "#### ***Statement :*** Intersection of two sets means we need to take all those elements which are common to both of the initial sets and store them into another set. Only using ***set-comprehension***.\n",
        "\n",
        "| **INPUT** | **OUTPUT** |\n",
        "|:---------:|:---------:|\n",
        "| `s1 = {15, 9, 10, 56, 23, 78, 5, 4, 9}` <br> `s2 = {9, 4, 5, 36, 47, 26, 10, 45, 87}` | `{9, 10, 4, 5}` |\n",
        "| `s1 = {4, 9, 1, 17, 11, 26, 28, 54, 69}` <br> `s2 = {9, 9, 74, 21, 45, 11, 63, 28, 26}` | `{9, 11, 26, 28}` |"
      ]
    },
    {
      "cell_type": "code",
      "execution_count": 8,
      "metadata": {
        "id": "nWnL25ftoLVT"
      },
      "outputs": [
        {
          "name": "stdout",
          "output_type": "stream",
          "text": [
            "{9, 10, 4, 5}\n"
          ]
        }
      ],
      "source": [
        "# Solution - Question 05\n",
        "\n",
        "s1 = {int(x) for x in input(\"Enter the elements of first set (space-separated) : \").split()}\n",
        "s2 = {int(x) for x in input(\"Enter the elements of second set (space-separated) : \").split()}\n",
        "\n",
        "intersection = {x for x in s1 if x in s2}\n",
        "\n",
        "print(intersection)"
      ]
    },
    {
      "cell_type": "markdown",
      "metadata": {
        "id": "tD2RSYn1a8oA"
      },
      "source": [
        "# **Questions on Dictionary**"
      ]
    },
    {
      "cell_type": "markdown",
      "metadata": {
        "id": "7tUjHhcPbQzQ"
      },
      "source": [
        "## 🎯 **Question 01**\n",
        "\n",
        "#### Key with ***maximum unique values***.\n",
        "#### ***Statement :*** Given a dictionary with values ***list***, extract key whose value has ***most unique values***.\n",
        "\n",
        "***INPUT :***\n",
        "```python\n",
        "test_dict = {\n",
        "                \"CampusX\" : [5, 7, 9, 4, 0],\n",
        "                \"is\" : [6, 7, 4, 3, 3],\n",
        "                \"Best\" : [9, 9, 6, 5, 5]\n",
        "            }\n",
        "```\n",
        "***OUTPUT :***\n",
        "```shell\n",
        "CampusX\n",
        "```\n",
        "***INPUT :***\n",
        "```python\n",
        "test_dict = {\n",
        "                \"CampusX\" : [5, 7, 7, 7, 7],\n",
        "                \"is\" : [6, 7, 7, 7],\n",
        "                \"Best\" : [9, 9, 6, 5, 5]\n",
        "            }\n",
        "```\n",
        "***OUTPUT :***\n",
        "```shell\n",
        "Best\n",
        "```"
      ]
    },
    {
      "cell_type": "code",
      "execution_count": 10,
      "metadata": {
        "id": "N8KHX863lNxL"
      },
      "outputs": [
        {
          "name": "stdout",
          "output_type": "stream",
          "text": [
            "Best\n"
          ]
        }
      ],
      "source": [
        "# Solution - Question 01\n",
        "\n",
        "test_dict = {\n",
        "                \"CampusX\" : [5, 7, 7, 7, 7],\n",
        "                \"is\" : [6, 7, 7, 7],\n",
        "                \"Best\" : [9, 9, 6, 5, 5]\n",
        "            }\n",
        "\n",
        "max = -1\n",
        "max_key = ''\n",
        "for key,value in test_dict.items():\n",
        "    s = set(test_dict[key])\n",
        "    unique_count = len(s)\n",
        "    if max < unique_count:\n",
        "        max = unique_count\n",
        "        max_key = key\n",
        "    \n",
        "print(max_key)"
      ]
    },
    {
      "cell_type": "markdown",
      "metadata": {
        "id": "_S5X6C84dWdJ"
      },
      "source": [
        "## 🎯 **Question 02**\n",
        "\n",
        "#### ***Statement :*** ***Replace words*** from dictionary. Given string, replace it’s words from lookup dictionary.\n",
        "\n",
        "***INPUT :***\n",
        "```python\n",
        "test_str = 'CampusX best for DS students.'\n",
        "repl_dict = {\n",
        "                \"best\" : \"is the best channel\",\n",
        "                \"DS\" : \"Data-Science\"\n",
        "            }\n",
        "```\n",
        "***OUTPUT :***\n",
        "```shell\n",
        "CampusX is the best channel for Data-Science students.\n",
        "```\n",
        "***INPUT :***\n",
        "```python\n",
        "test_str = 'CampusX best for DS students.'\n",
        "repl_dict = {\n",
        "                \"good\" : \"is the best channel\",\n",
        "                \"ds\" : \"Data-Science\"\n",
        "            }\n",
        "```\n",
        "***OUTPUT :***\n",
        "```shell\n",
        "CampusX best for DS students.\n",
        "```"
      ]
    },
    {
      "cell_type": "code",
      "execution_count": 13,
      "metadata": {
        "id": "BTAQ8qnrlOxr"
      },
      "outputs": [
        {
          "name": "stdout",
          "output_type": "stream",
          "text": [
            "CampusX is the best channel for Data-Science students.\n"
          ]
        }
      ],
      "source": [
        "# Solution - Question 02\n",
        "\n",
        "test_str = 'CampusX best for DS students.'\n",
        "repl_dict = {\n",
        "                \"best\" : \"is the best channel\",\n",
        "                \"DS\" : \"Data-Science\"\n",
        "            }\n",
        "\n",
        "words = test_str.split()\n",
        "output_words = []\n",
        "for word in words:\n",
        "    try:\n",
        "        output_words.append(repl_dict[word])\n",
        "    except KeyError:\n",
        "        output_words.append(word)\n",
        "output_str = ' '.join(output_words)\n",
        "\n",
        "print(output_str)"
      ]
    },
    {
      "cell_type": "markdown",
      "metadata": {
        "id": "55xgap3zfbcR"
      },
      "source": [
        "## 🎯 **Question 03**\n",
        "\n",
        "#### ***Statement :*** Convert ***list to list of dictionaries***. Given list values and keys list, convert these values to key value pairs in form of list of dictionaries.\n",
        "\n",
        "***INPUT :***\n",
        "```python\n",
        "test_list = [\"DataScience\", 3, \"is\", 8]\n",
        "key_list = [\"name\", \"id\"]\n",
        "```\n",
        "***OUTPUT :***\n",
        "```shell\n",
        "[   \n",
        "    {\n",
        "        'name': 'DataScience',\n",
        "        'id': 3\n",
        "    },\n",
        "    {\n",
        "        'name': 'is',\n",
        "        'id': 8\n",
        "    }\n",
        "]\n",
        "```\n",
        "***INPUT :***\n",
        "```python\n",
        "test_list = [\"CampusX\", 10]\n",
        "key_list = [\"name\", \"id\"]\n",
        "```\n",
        "***OUTPUT :***\n",
        "```shell\n",
        "[\n",
        "    {\n",
        "        'name': 'CampusX',\n",
        "        'id': 10\n",
        "    }\n",
        "]\n",
        "```"
      ]
    },
    {
      "cell_type": "code",
      "execution_count": 19,
      "metadata": {
        "id": "jbCajI87lQFr"
      },
      "outputs": [
        {
          "name": "stdout",
          "output_type": "stream",
          "text": [
            "[{'name': 'DataScience', 'id': 3}, {'name': 'is', 'id': 8}]\n"
          ]
        }
      ],
      "source": [
        "# Solution - Question 03\n",
        "\n",
        "test_list = [\"DataScience\", 3, \"is\", 8]\n",
        "key_list = [\"name\", \"id\"]\n",
        "\n",
        "output_list = []\n",
        "output_dict = {}\n",
        "i = 0\n",
        "while(i < len(test_list)):\n",
        "    for key in key_list:\n",
        "        output_dict[key] = test_list[i]\n",
        "        i += 1\n",
        "    output_list.append(output_dict)\n",
        "    output_dict = {}\n",
        "\n",
        "print(output_list)"
      ]
    },
    {
      "cell_type": "markdown",
      "metadata": {
        "id": "5RxBlLQahLkB"
      },
      "source": [
        "## 🎯 **Question 04**\n",
        "\n",
        "#### ***Statement :*** Convert a ***list of Tuples*** into Dictionary.\n",
        "\n",
        "***INPUT :***\n",
        "```python\n",
        "[\n",
        "    (\"akash\", 10),\n",
        "    (\"gaurav\", 12),\n",
        "    (\"anand\", 14),\n",
        "    (\"suraj\", 20),\n",
        "    (\"akhil\", 25),\n",
        "    (\"ashish\", 30)\n",
        "]\n",
        "```\n",
        "***OUTPUT :***\n",
        "```python\n",
        "{\n",
        "    'akash': [10],\n",
        "    'gaurav': [12],\n",
        "    'anand': [14],\n",
        "    'suraj': [20],\n",
        "    'akhil': [25],\n",
        "    'ashish': [30]\n",
        "}\n",
        "```\n",
        "***INPUT :***\n",
        "```python\n",
        "[\n",
        "    ('A', 1),\n",
        "    ('B', 2),\n",
        "    ('C', 3)\n",
        "]\n",
        "```\n",
        "***OUTPUT :***\n",
        "```python\n",
        "{\n",
        "    'A': [1],\n",
        "    'B': [2],\n",
        "    'C': [3]\n",
        "}\n",
        "```"
      ]
    },
    {
      "cell_type": "code",
      "execution_count": 20,
      "metadata": {
        "id": "f1yz7inMlQ5N"
      },
      "outputs": [
        {
          "name": "stdout",
          "output_type": "stream",
          "text": [
            "{'akash': [10], 'gaurav': [12], 'anand': [14], 'suraj': [20], 'akhil': [25], 'ashish': [30]}\n"
          ]
        }
      ],
      "source": [
        "# Solution - Question 04\n",
        "\n",
        "l = [\n",
        "        (\"akash\", 10),\n",
        "        (\"gaurav\", 12),\n",
        "        (\"anand\", 14),\n",
        "        (\"suraj\", 20),\n",
        "        (\"akhil\", 25),\n",
        "        (\"ashish\", 30)\n",
        "    ]\n",
        "\n",
        "d = {}\n",
        "for t in l:\n",
        "    d[t[0]] = [t[1]]\n",
        "\n",
        "print(d)"
      ]
    },
    {
      "cell_type": "markdown",
      "metadata": {
        "id": "Fz8EzJD-kBkS"
      },
      "source": [
        "## 🎯 **Question 05**\n",
        "\n",
        "#### ***Statement :*** Sort Dictionary key and values List.\n",
        "\n",
        "***INPUT :***\n",
        "```python\n",
        "{\n",
        "    'c': [3],\n",
        "    'b': [12, 10],\n",
        "    'a': [19, 4]\n",
        "}\n",
        "```\n",
        "***OUTPUT :***\n",
        "```python\n",
        "{\n",
        "    'a': [4, 19],\n",
        "    'b': [10, 12],\n",
        "    'c': [3]\n",
        "}\n",
        "```\n",
        "***INPUT :***\n",
        "```python\n",
        "{\n",
        "    'c': [10, 34, 3]\n",
        "}\n",
        "```\n",
        "***OUTPUT :***\n",
        "```python\n",
        "{\n",
        "    'c': [3, 10, 34]\n",
        "}\n",
        "```"
      ]
    },
    {
      "cell_type": "code",
      "execution_count": 26,
      "metadata": {
        "id": "x9UmJ4EQk7Pp"
      },
      "outputs": [
        {
          "name": "stdout",
          "output_type": "stream",
          "text": [
            "{'a': [4, 19], 'b': [10, 12], 'c': [3]}\n"
          ]
        }
      ],
      "source": [
        "# Solution - Question 05\n",
        "\n",
        "d = {\n",
        "        'c': [3],\n",
        "        'b': [12, 10],\n",
        "        'a': [19, 4]\n",
        "    }\n",
        "\n",
        "keys = list(d.keys())\n",
        "output_dict = {}\n",
        "keys.sort()\n",
        "for key in keys:\n",
        "    output_dict[key] = sorted(d[key])\n",
        "\n",
        "print(output_dict)"
      ]
    }
  ],
  "metadata": {
    "colab": {
      "provenance": []
    },
    "kernelspec": {
      "display_name": "Python 3",
      "name": "python3"
    },
    "language_info": {
      "codemirror_mode": {
        "name": "ipython",
        "version": 3
      },
      "file_extension": ".py",
      "mimetype": "text/x-python",
      "name": "python",
      "nbconvert_exporter": "python",
      "pygments_lexer": "ipython3",
      "version": "3.12.1"
    }
  },
  "nbformat": 4,
  "nbformat_minor": 0
}
