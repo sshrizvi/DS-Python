{
  "cells": [
    {
      "cell_type": "markdown",
      "metadata": {},
      "source": [
        "# **Task 3 - (Article 16 to 19)** [![Static Badge](https://img.shields.io/badge/Open%20in%20Colab%20-%20orange?style=plastic&logo=googlecolab&labelColor=grey)](https://colab.research.google.com/github/sshrizvi/DS-Python/blob/main/Python/Tasks/task_3.ipynb)\n",
        "\n",
        "|🔴 **WARNING** 🔴|\n",
        "|:-----------:|\n",
        "|If you have not studied article 16 to 19. Do checkout the articles before attempting the task.|\n",
        "| Here is [Article 16 - Strings](../Articles/16_strings.md) |"
      ]
    },
    {
      "cell_type": "markdown",
      "metadata": {
        "id": "2Yeb66OvFRiP"
      },
      "source": [
        "## 🎯 **Question 01**\n",
        "\n",
        "#### Print the ***following*** pattern. Write a program to using `for` loop to print the following ***reverse number pattern***.\n",
        "\n",
        "```bash\n",
        "5 4 3 2 1\n",
        "4 3 2 1\n",
        "3 2 1\n",
        "2 1\n",
        "1\n",
        "```"
      ]
    },
    {
      "cell_type": "code",
      "execution_count": 1,
      "metadata": {
        "id": "I_rywD-UFTkY"
      },
      "outputs": [
        {
          "name": "stdout",
          "output_type": "stream",
          "text": [
            "5 4 3 2 1 \n",
            "4 3 2 1 \n",
            "3 2 1 \n",
            "2 1 \n",
            "1 \n"
          ]
        }
      ],
      "source": [
        "# Solution - Question 01\n",
        "for i in range(5, 0, -1):\n",
        "    for j in range(i, 0, -1):\n",
        "        print(j, end = \" \")\n",
        "    print()"
      ]
    },
    {
      "cell_type": "markdown",
      "metadata": {
        "id": "n0baB62wFVV5"
      },
      "source": [
        "## 🎯 **Question 02**\n",
        "#### Print the ***following*** pattern.\n",
        "\n",
        "```\n",
        "*\n",
        "* *\n",
        "* * *\n",
        "* * * *\n",
        "* * * * *\n",
        "* * * *\n",
        "* * *\n",
        "* *\n",
        "*\n",
        "```"
      ]
    },
    {
      "cell_type": "code",
      "execution_count": 4,
      "metadata": {
        "id": "wTD92u-bFbVT"
      },
      "outputs": [
        {
          "name": "stdout",
          "output_type": "stream",
          "text": [
            "* \n",
            "* * \n",
            "* * * \n",
            "* * * * \n",
            "* * * * * \n",
            "* * * * \n",
            "* * * \n",
            "* * \n",
            "* \n",
            "\n"
          ]
        }
      ],
      "source": [
        "# Solution - Question 02\n",
        "n = 5\n",
        "i = 0\n",
        "\n",
        "while(i < n):\n",
        "    for j in range(0,i+1):\n",
        "        print('*', end = ' ')\n",
        "    print()\n",
        "    i += 1\n",
        "else:\n",
        "    while(i > 0):\n",
        "        for j in range(1,i):\n",
        "            print('*', end = ' ')\n",
        "        print()\n",
        "        i -= 1"
      ]
    },
    {
      "cell_type": "markdown",
      "metadata": {
        "id": "M7MzBABdFc8b"
      },
      "source": [
        "## 🎯 **Question 03**\n",
        "\n",
        "#### Print the ***following*** pattern.\n",
        "\n",
        "```\n",
        "        *\n",
        "      * * *\n",
        "    * * * * *\n",
        "  * * * * * * * \n",
        "* * * * * * * * *\n",
        "```\n",
        "\n"
      ]
    },
    {
      "cell_type": "code",
      "execution_count": 9,
      "metadata": {
        "id": "ul-tJ0meF2Jr"
      },
      "outputs": [
        {
          "name": "stdout",
          "output_type": "stream",
          "text": [
            "        * \n",
            "      * * * \n",
            "    * * * * * \n",
            "  * * * * * * * \n",
            "* * * * * * * * * \n"
          ]
        }
      ],
      "source": [
        "# Solution - Question 03\n",
        "n = 5\n",
        "stars = 1\n",
        "spaces = n-1\n",
        "\n",
        "while(stars <= n):\n",
        "    for i in range(1, spaces+1): # Printing Starting Spaces\n",
        "        print(' ', end = ' ')\n",
        "    for i in range(1, stars+1): # Printing Left Stars\n",
        "        print('*', end = ' ')\n",
        "    for i in range(1, stars): # Printing Right Stars\n",
        "        print('*', end = ' ')\n",
        "    print()\n",
        "    stars += 1\n",
        "    spaces = n - stars\n",
        "\n",
        "    "
      ]
    },
    {
      "cell_type": "markdown",
      "metadata": {
        "id": "gU4m8eC3GHqH"
      },
      "source": [
        "## 🎯 **Question 04**\n",
        "\n",
        "#### Print the ***following*** pattern.\n",
        "\n",
        "```bash\n",
        "1\n",
        "2 1\n",
        "3 2 1\n",
        "4 3 2 1\n",
        "5 4 3 2 1\n",
        "```\n"
      ]
    },
    {
      "cell_type": "code",
      "execution_count": 10,
      "metadata": {
        "id": "HfGPUtmJGQf6"
      },
      "outputs": [
        {
          "name": "stdout",
          "output_type": "stream",
          "text": [
            "1 \n",
            "2 1 \n",
            "3 2 1 \n",
            "4 3 2 1 \n",
            "5 4 3 2 1 \n"
          ]
        }
      ],
      "source": [
        "# Solution - Question 04\n",
        "n = 5\n",
        "i = 1\n",
        "while(i <= n):\n",
        "    for j in range(i, 0, -1):\n",
        "        print(j, end = ' ')\n",
        "    print()\n",
        "    i += 1"
      ]
    },
    {
      "cell_type": "markdown",
      "metadata": {
        "id": "98TZ1X0hGSI-"
      },
      "source": [
        "## 🎯 **Question 05**\n",
        "\n",
        "#### Write a program to find the ***sum of the series*** till the nth term :  \n",
        "\n",
        "$$\n",
        "1 + \\frac{x^2}{2} + \\frac{x^3}{3} + \\cdots + \\frac{x^n}{n}\n",
        "$$\n",
        "\n",
        "***NOTE :***  `x, n` will be provided by the user.\n",
        "\n",
        "| **INPUT** |\n",
        "|:---------:|\n",
        "| n = 3 <br> x = 1 |\n",
        "\n",
        "<br>\n",
        "\n",
        "\n",
        "| **OUTPUT** |\n",
        "|:---------:|\n",
        "| Sum is 1.8333333... |\n"
      ]
    },
    {
      "cell_type": "code",
      "execution_count": 11,
      "metadata": {
        "id": "3ZWu99XUGuhU"
      },
      "outputs": [
        {
          "name": "stdout",
          "output_type": "stream",
          "text": [
            "Sum is 1.8333333333333333.\n"
          ]
        }
      ],
      "source": [
        "# Solution - Question 05\n",
        "n = int(input(\"Enter the value of n : \"))\n",
        "x = int(input(\"Enter the value of x : \"))\n",
        "series_sum = 1\n",
        "\n",
        "for i in range(2, n+1):\n",
        "    series_sum += (x ** i) / i\n",
        "else:\n",
        "    print(\"Sum is {}.\".format(series_sum))"
      ]
    },
    {
      "cell_type": "markdown",
      "metadata": {
        "id": "eypsjli6HGzX"
      },
      "source": [
        "## 🎯 **Question 06**\n",
        "\n",
        "#### The ***natural logarithm*** can be approximated by the following series.\n",
        "\n",
        "$$\n",
        "\\frac{x-1}{x} + \\frac{1}{2} \\left( \\frac{x-1}{x} \\right)^2 + \\frac{1}{2} \\left( \\frac{x-1}{x} \\right)^3 + \\frac{1}{2} \\left( \\frac{x-1}{x} \\right)^4 + \\cdots\n",
        "$$\n",
        "\n",
        "#### If `x` is input through the keyboard, write a program to calculate the ***sum of the first seven terms of this series***.\n",
        "\n",
        "| **INPUT** |\n",
        "|:---------:|\n",
        "| x = 2 |\n",
        "\n",
        "<br>\n",
        "\n",
        "| **OUTPUT** |\n",
        "|:---------:|\n",
        "| Sum of first 7 terms of natural logarithm series is 0.74609375. |\n"
      ]
    },
    {
      "cell_type": "code",
      "execution_count": 14,
      "metadata": {
        "id": "ZESw_FOCHpMP"
      },
      "outputs": [
        {
          "name": "stdout",
          "output_type": "stream",
          "text": [
            "Sum of first 7 terms of natural logarithm series is 0.74609375.\n"
          ]
        }
      ],
      "source": [
        "# Solution - Question 06\n",
        "x = int(input(\"Enter the value of x : \"))\n",
        "n = 7\n",
        "series_sum = (x - 1) / x\n",
        "for i in range(2, n+1):\n",
        "    series_sum += (1/2) * (((x - 1) / x) ** i)\n",
        "else:\n",
        "    print(\"Sum of first {} terms of natural logarithm series is {}.\".format(n, series_sum))"
      ]
    },
    {
      "cell_type": "markdown",
      "metadata": {
        "id": "matpUyxTH4hQ"
      },
      "source": [
        "## 🎯 **Question 07**\n",
        "#### Find the sum of the series upto `n` terms.\n",
        "$$\n",
        "2 + 22 + 222 + 2222 + 22222 = 24690\n",
        "$$\n",
        "***NOTE :*** Here in the above series the value of `n = 5`.  \n",
        "\n",
        "| **INPUT** |\n",
        "|:---------:|\n",
        "| n = 5 |\n",
        "\n",
        "<br>\n",
        "\n",
        "| **OUTPUT** |\n",
        "|:---------:|\n",
        "| Sum of above series is : 24690 |"
      ]
    },
    {
      "cell_type": "code",
      "execution_count": 15,
      "metadata": {
        "id": "jL68XMU8H3xM"
      },
      "outputs": [
        {
          "name": "stdout",
          "output_type": "stream",
          "text": [
            "Sum of above series is : 24690\n"
          ]
        }
      ],
      "source": [
        "# Solution - Question 07 \n",
        "n = int(input(\"Enter number of terms : \"))\n",
        "series_sum = 0\n",
        "\n",
        "for i in range(1, n+1):\n",
        "    num = int('2' * i)\n",
        "    series_sum += num\n",
        "else:\n",
        "    print(\"Sum of above series is : {}\".format(series_sum))"
      ]
    },
    {
      "cell_type": "markdown",
      "metadata": {
        "id": "l7Jpeuq7IeT-"
      },
      "source": [
        "## 🎯 **Question 08**\n",
        "#### Write a program to print all the ***unique combinations*** of digits ***1***, ***2***, ***3*** and ***4***.\n",
        "\n",
        "***OUTPUT***\n",
        "```bash\n",
        "1 2 3 4\n",
        "1 2 4 3\n",
        "1 3 2 4\n",
        "1 3 4 2\n",
        "1 4 2 3\n",
        "1 4 3 2\n",
        "2 1 3 4\n",
        "2 1 4 3\n",
        "2 3 1 4\n",
        "2 3 4 1\n",
        "2 4 1 3\n",
        "2 4 3 1\n",
        "3 1 2 4\n",
        "3 1 4 2\n",
        "3 2 1 4\n",
        "3 2 4 1\n",
        "3 4 1 2\n",
        "3 4 2 1\n",
        "4 1 2 3\n",
        "4 1 3 2\n",
        "4 2 1 3\n",
        "4 2 3 1\n",
        "4 3 1 2\n",
        "4 3 2 1\n",
        "```"
      ]
    },
    {
      "cell_type": "code",
      "execution_count": 31,
      "metadata": {
        "id": "Jiy1u7PvJRbb"
      },
      "outputs": [
        {
          "name": "stdout",
          "output_type": "stream",
          "text": [
            "1 2 3 4\n",
            "1 2 4 3\n",
            "1 3 2 4\n",
            "1 3 4 2\n",
            "1 4 2 3\n",
            "1 4 3 2\n",
            "2 1 3 4\n",
            "2 1 4 3\n",
            "2 3 1 4\n",
            "2 3 4 1\n",
            "2 4 1 3\n",
            "2 4 3 1\n",
            "3 1 2 4\n",
            "3 1 4 2\n",
            "3 2 1 4\n",
            "3 2 4 1\n",
            "3 4 1 2\n",
            "3 4 2 1\n",
            "4 1 2 3\n",
            "4 1 3 2\n",
            "4 2 1 3\n",
            "4 2 3 1\n",
            "4 3 1 2\n",
            "4 3 2 1\n"
          ]
        }
      ],
      "source": [
        "# Solution - Question 08\n",
        "        \n",
        "for i in range(1, 5):\n",
        "    for j in range(1, 5):\n",
        "        for k in range(1, 5):\n",
        "            for l in range(1, 5):\n",
        "                if i != j and i != k and i != l and j != k and j != l and k != l:\n",
        "                    print(i, j, k, l)"
      ]
    },
    {
      "cell_type": "markdown",
      "metadata": {
        "id": "jD6Mq1WwJS9a"
      },
      "source": [
        "## 🎯 **Question 09**\n",
        "\n",
        "#### Write a program that will take a ***decimal number*** as input and prints out the ***binary equivalent*** of the number.\n",
        "\n",
        "| **INPUT** |\n",
        "|:---------:|\n",
        "| decimal_number = 14 |\n",
        "\n",
        "<br>\n",
        "\n",
        "| **OUTPUT** |\n",
        "|:---------:|\n",
        "| binary_equivalent = 1110 |"
      ]
    },
    {
      "cell_type": "code",
      "execution_count": 38,
      "metadata": {
        "id": "ITSHHbuFJ0bR"
      },
      "outputs": [
        {
          "name": "stdout",
          "output_type": "stream",
          "text": [
            "binary_equivalent = 1110\n"
          ]
        }
      ],
      "source": [
        "# Solution - Question 09\n",
        "\n",
        "decimal_number = int(input(\"Enter a number : \"))\n",
        "remainder_list = []\n",
        "while(decimal_number >= 1):\n",
        "    remainder_list.append(decimal_number % 2)\n",
        "    decimal_number = decimal_number // 2\n",
        "else:\n",
        "    binary_equivalent = 0\n",
        "    for i in range(-1, -len(remainder_list)-1, -1):\n",
        "        binary_equivalent = binary_equivalent * 10 + remainder_list[i]\n",
        "    else:\n",
        "        print(\"binary_equivalent = {}\".format(binary_equivalent))"
      ]
    },
    {
      "cell_type": "markdown",
      "metadata": {
        "id": "efZreicIKKJt"
      },
      "source": [
        "## 🎯 **Question 10**\n",
        "\n",
        "#### Write a program that will take ***two numbers*** as input and prints the ***LCM*** and ***HCF*** of those two numbers.\n",
        "\n",
        "| **INPUT** |\n",
        "|:---------:|\n",
        "| num1 = 45 <br> num2 = 54 |\n",
        "\n",
        "<br>\n",
        "\n",
        "| **OUTPUT** |\n",
        "|:---------:|\n",
        "| LCM = 270 <br> HCF = 9 |"
      ]
    },
    {
      "cell_type": "code",
      "execution_count": 43,
      "metadata": {
        "id": "jaW6o1pOKYUi"
      },
      "outputs": [
        {
          "name": "stdout",
          "output_type": "stream",
          "text": [
            "LCM = 270 \n",
            "HCF = 9\n"
          ]
        }
      ],
      "source": [
        "# Solution - Question 10\n",
        "\n",
        "num1 = int(input(\"Enter first number : \"))\n",
        "num2 = int(input(\"Enter second number : \"))\n",
        "\n",
        "lcm = hcf = 0\n",
        "\n",
        "# Logic of HCF\n",
        "divisor = min(num1, num2)\n",
        "dividend = max(num1, num2)\n",
        "\n",
        "while(True):\n",
        "    if(dividend % divisor == 0):\n",
        "        hcf = divisor\n",
        "        break\n",
        "    else:\n",
        "        temp = divisor\n",
        "        divisor = dividend % divisor\n",
        "        dividend = temp\n",
        "\n",
        "# Logic of LCM\n",
        "lcm = (num1 * num2) // hcf\n",
        "\n",
        "print(\"LCM = {} \\nHCF = {}\".format(lcm, hcf))"
      ]
    },
    {
      "cell_type": "markdown",
      "metadata": {
        "id": "gY90o_oXKaZK"
      },
      "source": [
        "## 🎯 **Question 11**\n",
        "\n",
        "#### Create ***Short Form*** from ***initial*** character. Given a string, create short form of the string from initial character.\n",
        "***NOTE :*** Short Form should be ***capitalised***.\n",
        "\n",
        "| **INPUT** |\n",
        "|:---------:|\n",
        "| allahabad university |\n",
        "\n",
        "<br>\n",
        "\n",
        "| **OUTPUT** |\n",
        "|:---------:|\n",
        "| AU |"
      ]
    },
    {
      "cell_type": "code",
      "execution_count": 46,
      "metadata": {
        "id": "5rUZx7bILBzW"
      },
      "outputs": [
        {
          "name": "stdout",
          "output_type": "stream",
          "text": [
            "AU\n"
          ]
        }
      ],
      "source": [
        "# Solution - Question 11\n",
        "\n",
        "s = input(\"Enter a string : \")\n",
        "short_form = \"\"\n",
        "\n",
        "for i in range(0, len(s)):\n",
        "    if i == 0:\n",
        "        short_form += s[i].upper()\n",
        "    elif s[i-1] == ' ':\n",
        "        short_form += s[i].upper()\n",
        "else:\n",
        "    print(short_form)"
      ]
    },
    {
      "cell_type": "markdown",
      "metadata": {
        "id": "L8qKJ5xrLDat"
      },
      "source": [
        "## 🎯 **Question 12**\n",
        "\n",
        "#### Append ***second string in the middle*** of the first string.\n",
        "\n",
        "| **INPUT** |\n",
        "|:---------:|\n",
        "| campusx <br> data |\n",
        "\n",
        "<br>\n",
        "\n",
        "| **OUTPUT** |\n",
        "|:---------:|\n",
        "| camdatapusx |"
      ]
    },
    {
      "cell_type": "code",
      "execution_count": 47,
      "metadata": {
        "id": "PIiCBJiYLINe"
      },
      "outputs": [
        {
          "name": "stdout",
          "output_type": "stream",
          "text": [
            "camdatapusx\n"
          ]
        }
      ],
      "source": [
        "# Solution - Question 12\n",
        "\n",
        "s1 = input(\"Enter the first string : \")\n",
        "s2 = input(\"Enter the second string : \")\n",
        "\n",
        "middle = len(s1) // 2\n",
        "s2 = s1[:3] + s2 + s1[3:]\n",
        "\n",
        "print(s2)"
      ]
    },
    {
      "cell_type": "markdown",
      "metadata": {
        "id": "2aIi3ctTLJ-H"
      },
      "source": [
        "## 🎯 **Question 13**\n",
        "\n",
        "#### Given string ***contains a combination of the lower and upper case letters***. Write a program to ***arrange the characters of a string*** so that all lowercase letters should come first.\n",
        "\n",
        "| **INPUT** |\n",
        "|:---------:|\n",
        "| s = PyNaTive |\n",
        "\n",
        "<br>\n",
        "\n",
        "| **OUTPUT** |\n",
        "|:---------:|\n",
        "| yaivePNT |"
      ]
    },
    {
      "cell_type": "code",
      "execution_count": 48,
      "metadata": {
        "id": "-vV7FQUoLJNe"
      },
      "outputs": [
        {
          "name": "stdout",
          "output_type": "stream",
          "text": [
            "yaivePNT\n"
          ]
        }
      ],
      "source": [
        "# Solution - Question 13\n",
        "\n",
        "s = input(\"Enter a string : \")\n",
        "new_string = \"\"\n",
        "\n",
        "for char in s:\n",
        "    if char.islower():\n",
        "        new_string += char\n",
        "else:\n",
        "    for char in s:\n",
        "        if char.isupper():\n",
        "            new_string += char\n",
        "    else:\n",
        "        print(new_string)"
      ]
    },
    {
      "cell_type": "markdown",
      "metadata": {
        "id": "c5DhfvOOLQeI"
      },
      "source": [
        "## 🎯 **Question 14**\n",
        "\n",
        "#### Take a ***alphanumeric string*** input and print the ***sum*** and ***average*** of the ***digits*** that appear in the string, ***ignoring all other characters***.\n",
        "\n",
        "| **INPUT** |\n",
        "|:---------:|\n",
        "| hel123O4every093 |\n",
        "\n",
        "<br>\n",
        "\n",
        "| **OUTPUT** |\n",
        "|:---------:|\n",
        "| Sum: 22 <br> Avg: 3.142857142857143 |\n"
      ]
    },
    {
      "cell_type": "code",
      "execution_count": 49,
      "metadata": {
        "id": "cz69k9OELVa_"
      },
      "outputs": [
        {
          "name": "stdout",
          "output_type": "stream",
          "text": [
            "Sum : 22 \n",
            "Average : 3.142857142857143\n"
          ]
        }
      ],
      "source": [
        "# Solution - Question 14\n",
        "\n",
        "s = input(\"Enter a string : \")\n",
        "sum = avg = number_of_digits = 0\n",
        "\n",
        "for char in s:\n",
        "    if char.isnumeric():\n",
        "        sum += int(char)\n",
        "        number_of_digits += 1\n",
        "else:\n",
        "    avg = sum / number_of_digits\n",
        "    print(\"Sum : {} \\nAverage : {}\".format(sum, avg))"
      ]
    },
    {
      "cell_type": "markdown",
      "metadata": {
        "id": "hBnCuMkJLZjk"
      },
      "source": [
        "## 🎯 **Question 15**\n",
        "\n",
        "#### Write a program to ***remove all the characters*** from the string except the numbers.\n",
        "\n",
        "| **INPUT** |\n",
        "|:---------:|\n",
        "| I am 25 years and 10 months old |\n",
        "\n",
        "<br>\n",
        "\n",
        "| **OUTPUT** |\n",
        "|:---------:|\n",
        "| 2510 |"
      ]
    },
    {
      "cell_type": "code",
      "execution_count": 50,
      "metadata": {
        "id": "-N1Kksv8La7u"
      },
      "outputs": [
        {
          "name": "stdout",
          "output_type": "stream",
          "text": [
            "2510\n"
          ]
        }
      ],
      "source": [
        "# Solution - Question 15\n",
        "\n",
        "s = input(\"Enter a string : \")\n",
        "new_string = \"\"\n",
        "\n",
        "for char in s:\n",
        "    if char.isnumeric():\n",
        "        new_string += char\n",
        "else:\n",
        "    print(new_string)"
      ]
    },
    {
      "cell_type": "markdown",
      "metadata": {
        "id": "MRzwngmkLhgb"
      },
      "source": [
        "## 🎯 **Question 16**\n",
        "\n",
        "#### Check whether the string is ***Symmetrical***.\n",
        "\n",
        "#### **Statement :** Given a string. The task is to check if the string is symmetrical or not. A string is said to be symmetrical ***if both the halves of the string are the same***.\n",
        "\n",
        "| **INPUT** |\n",
        "|:---------:|\n",
        "| khokho |\n",
        "\n",
        "<br>\n",
        "\n",
        "| **OUTPUT** |\n",
        "|:---------:|\n",
        "| The entered string is symmetrical. |"
      ]
    },
    {
      "cell_type": "code",
      "execution_count": 53,
      "metadata": {
        "id": "__M2HSNSLsG2"
      },
      "outputs": [
        {
          "name": "stdout",
          "output_type": "stream",
          "text": [
            "The entered string is symmetrical.\n"
          ]
        }
      ],
      "source": [
        "# Solution - Question 16\n",
        "\n",
        "s = input(\"Enter a string : \")\n",
        "\n",
        "middle = len(s) // 2\n",
        "\n",
        "if(s[:middle] == s[middle:]):\n",
        "    print(\"The entered string is symmetrical.\")\n",
        "else:\n",
        "    print(\"The entered string is not symmetrical.\")"
      ]
    },
    {
      "cell_type": "markdown",
      "metadata": {
        "id": "OqjigUPXLub0"
      },
      "source": [
        "## 🎯 **Question 17**\n",
        "\n",
        "#### ***Reverse words*** in a given string.\n",
        "\n",
        "#### **Statement :** We are given a string and we need to ***reverse words*** of a given string.\n",
        "\n",
        "| **INPUT** |\n",
        "|:---------:|\n",
        "| geeks quiz practice code |\n",
        "\n",
        "<br>\n",
        "\n",
        "| **OUTPUT** |\n",
        "|:---------:|\n",
        "| code practice quiz geeks |"
      ]
    },
    {
      "cell_type": "code",
      "execution_count": 56,
      "metadata": {
        "id": "H3zHq-l_L1Vy"
      },
      "outputs": [
        {
          "name": "stdout",
          "output_type": "stream",
          "text": [
            "code practice quiz geeks\n"
          ]
        }
      ],
      "source": [
        "# Solution - Question 17\n",
        "\n",
        "s = input(\"Enter a string : \")\n",
        "\n",
        "words = s.split()\n",
        "words.reverse()\n",
        "reverse = ' '.join(words)\n",
        "\n",
        "print(reverse)"
      ]
    },
    {
      "cell_type": "markdown",
      "metadata": {
        "id": "-mAIi4TuL7Oq"
      },
      "source": [
        "## 🎯 **Question 18**\n",
        "\n",
        "#### Find ***uncommon words*** from two strings.\n",
        "\n",
        "#### **Statement :** Given two sentences as strings **A** and **B**. The task is to return a ***list of all uncommon words***. A word is uncommon if it appears exactly once in any one of the sentences, and does not appear in the other sentence.\n",
        "***Note :*** A sentence is a string of space-separated words. Each word consists only of lowercase letters.\n",
        "\n",
        "| **INPUT** |\n",
        "|:---------:|\n",
        "| A = apple banana mango <br> B = banana fruits mango |\n",
        "\n",
        "<br>\n",
        "\n",
        "| **OUTPUT** |\n",
        "|:---------:|\n",
        "| ['apple', 'fruits'] |"
      ]
    },
    {
      "cell_type": "code",
      "execution_count": 58,
      "metadata": {
        "id": "S9k1KiM-MFDC"
      },
      "outputs": [
        {
          "name": "stdout",
          "output_type": "stream",
          "text": [
            "['apple', 'fruits']\n"
          ]
        }
      ],
      "source": [
        "# Solution - Question 18\n",
        "\n",
        "a = input(\"Enter a senctence : \")\n",
        "b = input(\"Enter a senctence : \")\n",
        "\n",
        "words_of_a = a.split()\n",
        "words_of_b = b.split()\n",
        "uncommon = []\n",
        "\n",
        "for word_of_a in words_of_a:\n",
        "    if word_of_a in words_of_b:\n",
        "        words_of_b.remove(word_of_a)\n",
        "    else:\n",
        "        uncommon.append(word_of_a)\n",
        "else:\n",
        "    uncommon.extend(words_of_b)\n",
        "\n",
        "print(uncommon)"
      ]
    },
    {
      "cell_type": "markdown",
      "metadata": {
        "id": "AkGYE68cMGXh"
      },
      "source": [
        "## 🎯 **Question 19**\n",
        "\n",
        "#### Word location in String.\n",
        "\n",
        "#### **Statement :** Find the location of a word in a given sentence.\n",
        "\n",
        "| **INPUT** |\n",
        "|:---------:|\n",
        "| Sentence : We can learn data science through campusx mentorship program. <br> Word : campusx |\n",
        "\n",
        "<br>\n",
        "\n",
        "| **OUTPUT** |\n",
        "|:---------:|\n",
        "| Location of the word is 7. |"
      ]
    },
    {
      "cell_type": "code",
      "execution_count": 59,
      "metadata": {
        "id": "tpgkz1rIMQP2"
      },
      "outputs": [
        {
          "name": "stdout",
          "output_type": "stream",
          "text": [
            "Location of the word is 7.\n"
          ]
        }
      ],
      "source": [
        "# Solution - Question 19\n",
        "\n",
        "s = input(\"Enter a sentence : \")\n",
        "word = input(\"Enter a word : \")\n",
        "\n",
        "position = 0\n",
        "words = s.split()\n",
        "for i in words:\n",
        "    position += 1\n",
        "    if word == i:\n",
        "        break\n",
        "\n",
        "print(\"Location of the word is {}.\".format(position))"
      ]
    },
    {
      "cell_type": "markdown",
      "metadata": {
        "id": "6Cbsnuk5MRuv"
      },
      "source": [
        "## 🎯 **Question 20**\n",
        "\n",
        "#### Write a program that can ***remove all the duplicate characters*** from a string. User will provide the input."
      ]
    },
    {
      "cell_type": "code",
      "execution_count": 65,
      "metadata": {
        "id": "KeVq2OJkM6ye"
      },
      "outputs": [
        {
          "name": "stdout",
          "output_type": "stream",
          "text": [
            "abs\n"
          ]
        }
      ],
      "source": [
        "# Solution - Question 20\n",
        "\n",
        "s = input(\"Enter a string : \")\n",
        "\n",
        "unique_characters = []\n",
        "for x in s:\n",
        "    if x not in unique_characters:\n",
        "        unique_characters.append(x)\n",
        "\n",
        "new_string = ''.join(unique_characters)\n",
        "\n",
        "print(new_string)"
      ]
    }
  ],
  "metadata": {
    "colab": {
      "provenance": []
    },
    "kernelspec": {
      "display_name": "Python 3",
      "name": "python3"
    },
    "language_info": {
      "codemirror_mode": {
        "name": "ipython",
        "version": 3
      },
      "file_extension": ".py",
      "mimetype": "text/x-python",
      "name": "python",
      "nbconvert_exporter": "python",
      "pygments_lexer": "ipython3",
      "version": "3.12.1"
    }
  },
  "nbformat": 4,
  "nbformat_minor": 0
}
