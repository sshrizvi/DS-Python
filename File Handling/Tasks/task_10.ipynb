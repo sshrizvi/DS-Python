{
  "cells": [
    {
      "cell_type": "markdown",
      "metadata": {},
      "source": [
        "# **Task 10 - (Article 62 to 67)** [![Static Badge](https://img.shields.io/badge/Open%20in%20Colab%20-%20orange?style=plastic&logo=googlecolab&labelColor=grey)](https://colab.research.google.com/github/sshrizvi/DS-Python/blob/main/File%20Handling/Tasks/task_10.ipynb)\n",
        "\n",
        "|🔴 **WARNING** 🔴|\n",
        "|:-----------:|\n",
        "|If you have not studied article 62 to 67. Do checkout the articles before attempting the task.|\n",
        "| Here is [Article 62 - File Handling](../Articles/62_file_handling.md) |"
      ]
    },
    {
      "cell_type": "markdown",
      "metadata": {
        "id": "MbeMdx5d5qRj"
      },
      "source": [
        "### 🚀 **Problem 01 : Get Final Line from File**\n",
        "\n",
        "Write a function `get_final_line(filename)` that takes a filename as input and returns the last line of the file.\n",
        "\n",
        "**Example:**\n",
        "\n",
        "Suppose we have a file called `example.txt` with the following content:\n",
        "\n",
        "```\n",
        "Line 1: Hello, World!\n",
        "Line 2: This is an example.\n",
        "Line 3: Here is the final line.\n",
        "```\n",
        "\n",
        "If we call:\n",
        "```python\n",
        "last_line = get_final_line(\"example.txt\")\n",
        "print(last_line)\n",
        "```\n",
        "\n",
        "**Expected Output:**\n",
        "\n",
        "```\n",
        "Here is the final line.\n",
        "``` \n",
        "\n",
        "This function should read the file, retrieve only the last line, and return it."
      ]
    },
    {
      "cell_type": "code",
      "execution_count": 76,
      "metadata": {
        "id": "rjx9XRTq5uzD"
      },
      "outputs": [
        {
          "name": "stdout",
          "output_type": "stream",
          "text": [
            "Here is the final line.\n"
          ]
        }
      ],
      "source": [
        "# Solution - Problem 01\n",
        "\n",
        "def get_final_line(path_to_file):\n",
        "    with open(path_to_file, 'r') as file:\n",
        "        lines = file.readlines()\n",
        "    return lines[-1]\n",
        "\n",
        "# Driver Code\n",
        "# NOTE : Replace the file path with your file\n",
        "last_line = get_final_line(\"F:/University of Allahabad/Data Science - Python/File Handling/Resources/problem_01_example.txt\")\n",
        "print(last_line)"
      ]
    },
    {
      "cell_type": "markdown",
      "metadata": {
        "id": "B87Z6-yQ5wVO"
      },
      "source": [
        "### 🚀 **Problem 02 : Count Vowels in a File**\n",
        "\n",
        "Write a function that reads through a text file line by line and uses a dictionary to keep track of how many times each vowel `(a, e, i, o, and u)` appears in the file. After processing the entire file, print the resulting dictionary to display the count of each vowel.\n",
        "\n",
        "**Example:**\n",
        "\n",
        "Suppose we have a file called `sample.txt` with the following content:\n",
        "\n",
        "```\n",
        "This is a simple text file.\n",
        "It contains vowels and consonants.\n",
        "Let's count each vowel.\n",
        "```\n",
        "\n",
        "If we call:\n",
        "```python\n",
        "count_vowels(\"sample.txt\")\n",
        "```\n",
        "\n",
        "**Expected Output:**\n",
        "\n",
        "```python\n",
        "{'a': 5, 'e': 7, 'i': 6, 'o': 6, 'u': 1}\n",
        "```\n",
        "\n",
        "This function should read the file line by line, count each vowel, store the counts in a dictionary, and finally print the dictionary with the counts of each vowel."
      ]
    },
    {
      "cell_type": "code",
      "execution_count": 15,
      "metadata": {
        "id": "XeXnOL7X50Sa"
      },
      "outputs": [
        {
          "name": "stdout",
          "output_type": "stream",
          "text": [
            "{'a': 5, 'e': 7, 'i': 6, 'o': 6, 'u': 1}\n"
          ]
        }
      ],
      "source": [
        "# Solution - Problem 02\n",
        "\n",
        "def count_vowels_in_a_line(line):\n",
        "    for char in line:\n",
        "        if char == 'a' or char == 'A' or\\\n",
        "           char == 'e' or char == 'E' or\\\n",
        "           char == 'i' or char == 'I' or\\\n",
        "           char == 'o' or char == 'O' or\\\n",
        "           char == 'u' or char == 'U' :\n",
        "            vowels_count[char.lower()] += 1\n",
        "\n",
        "def count_vowels(path_to_file):\n",
        "    with open(path_to_file, 'r') as file:\n",
        "        current_line = file.readline()\n",
        "        while len(current_line) > 0:\n",
        "            count_vowels_in_a_line(current_line)\n",
        "            current_line = file.readline()\n",
        "    \n",
        "# Driver Code\n",
        "vowels_count = {\n",
        "    'a': 0,\n",
        "    'e': 0,\n",
        "    'i': 0,\n",
        "    'o': 0,\n",
        "    'u': 0,\n",
        "}\n",
        "# NOTE : Replace the file path with your file\n",
        "count_vowels(r'F:/University of Allahabad/Data Science - Python/File Handling/Resources/problem_02_sample.txt')\n",
        "print(vowels_count)"
      ]
    },
    {
      "cell_type": "markdown",
      "metadata": {
        "id": "lRqQ2Y295-Gg"
      },
      "source": [
        "### 🚀 **Problem 03 : Multiply Columns and Add Total in a Tab-Delimited File**\n",
        "\n",
        "1. **Problem Statement**: Create a tab-separated text file containing two columns with numerical values. Write a Python program that reads each line, multiplies the two values on that line, and appends the result in a third column. At the end of the file, add a line showing the total of all values in the third column.\n",
        "\n",
        "2. **Input File Format**: The file should be tab-separated, with each line having two numbers. \n",
        "   - **Example** `input.txt` file:\n",
        "     ```\n",
        "     1   2\n",
        "     3   4\n",
        "     5   6\n",
        "     7   8\n",
        "     9   10\n",
        "     ```\n",
        "\n",
        "3. **Output File Format**: The output should have three columns, with the third column being the product of the first two columns. At the end of the file, include a line `Total` showing the sum of all third-column values.\n",
        "   - **Example Output**:\n",
        "     ```\n",
        "     1   2   2\n",
        "     3   4   12\n",
        "     5   6   30\n",
        "     7   8   56\n",
        "     9   10  90\n",
        "     Total   190\n",
        "     ```\n",
        "\n",
        "4. **Implementation**: Create a Python script to read the input file, process each line, and generate the output as specified."
      ]
    },
    {
      "cell_type": "code",
      "execution_count": 26,
      "metadata": {
        "id": "GiKvqHnr5-j2"
      },
      "outputs": [],
      "source": [
        "# Solution - Problem 03\n",
        "\n",
        "def calculate_sum(path_to_input_file, path_to_output_file):\n",
        "    with open(path_to_input_file) as file1, \\\n",
        "         open(path_to_output_file, 'w') as file2:\n",
        "        current_line = file1.readline()\n",
        "        sum = 0\n",
        "        while len(current_line) > 0:\n",
        "            numbers = current_line.split()\n",
        "            product = 1\n",
        "            for i in numbers:\n",
        "                product *= int(i)\n",
        "            sum += product\n",
        "            numbers.append(str(product))\n",
        "            file2.writelines('\\t'.join(numbers) + '\\n')\n",
        "            current_line = file1.readline()\n",
        "        file2.writelines('Total\\t{}'.format(sum))\n",
        "\n",
        "# Driver Code\n",
        "# NOTE : Replace the file path with your file\n",
        "path_to_input_file = r'F:/University of Allahabad/Data Science - Python/File Handling/Resources/problem_03_input.txt'\n",
        "path_to_output_file = r'F:/University of Allahabad/Data Science - Python/File Handling/Resources/problem_03_output.txt'\n",
        "\n",
        "calculate_sum(path_to_input_file, path_to_output_file)"
      ]
    },
    {
      "cell_type": "markdown",
      "metadata": {
        "id": "DunQepHC6J9r"
      },
      "source": [
        "### 🚀 **Problem 04 : Line-Wise Reverse of a File**\n",
        "\n",
        "1. **Problem Statement**: Write a function that accepts two arguments: an input file name and an output file name. The function should read each line from the input file, reverse the characters in that line, and then write the reversed line to the output file.\n",
        "\n",
        "2. **Input File Format**: Each line contains words separated by spaces, with a newline character at the end of each line.\n",
        "   - **Example Input** `input.txt`:\n",
        "     ```\n",
        "     abc def\n",
        "     ghi jkl\n",
        "     ```\n",
        "\n",
        "3. **Output File Format**: The output file should contain each line from the input file, but with characters reversed on each line while preserving the original line breaks.\n",
        "   - **Example Output** `output.txt`:\n",
        "     ```\n",
        "     fed cba\n",
        "     lkj ihg\n",
        "     ```\n",
        "\n",
        "4. **Implementation**: The Python function should read from `input.txt`, reverse each line’s content, and write the reversed lines to `output.txt`."
      ]
    },
    {
      "cell_type": "code",
      "execution_count": 12,
      "metadata": {
        "id": "aIJTJNAq6LD7"
      },
      "outputs": [],
      "source": [
        "# Solution - Problem 04\n",
        "\n",
        "def reverse_file(path_to_input_file, path_to_output_file):\n",
        "    with open(path_to_input_file) as file1, \\\n",
        "         open(path_to_output_file, 'w') as file2:\n",
        "        current_line = file1.readline()\n",
        "        while len(current_line) > 0:\n",
        "            reverse = current_line[::-1]\n",
        "            file2.writelines(reverse + '\\n')\n",
        "            current_line = file1.readline()\n",
        "\n",
        "# Driver Code\n",
        "# NOTE : Replace the file path with your file\n",
        "path_to_input_file = r'F:/University of Allahabad/Data Science - Python/File Handling/Resources/problem_04_input.txt'\n",
        "path_to_output_file = r'F:/University of Allahabad/Data Science - Python/File Handling/Resources/problem_04_output.txt'\n",
        "\n",
        "reverse_file(path_to_input_file, path_to_output_file)"
      ]
    },
    {
      "cell_type": "markdown",
      "metadata": {
        "id": "wqvx3sMY6bou"
      },
      "source": [
        "### 🚀 **Problem 05 : Serialized Dictionary for Word Frequency**\n",
        "\n",
        "1. **Problem Statement**:\n",
        "   - Create a serialized dictionary to store the frequency of each word in a given text file. The dictionary should be serialized to enable loading and accessing word counts efficiently.\n",
        "   - For a given list of words, retrieve and display the frequency of each word based on the serialized dictionary.\n",
        "\n",
        "2. **Input**:\n",
        "   - Given text to analyze (e.g., `\"Alice was beginning to get very tired...\"`)\n",
        "   - List of target words whose frequencies you need to find:\n",
        "     ```python\n",
        "     word_list = ['alice', 'wondered', 'natural']\n",
        "     ```\n",
        "\n",
        "3. **Output**:\n",
        "   - A dictionary showing the frequency of each word in `word_list` based on the serialized dictionary.\n",
        "\n",
        "4. **Example**:\n",
        "   - **Given String**:\n",
        "     ```python\n",
        "     strings = \"\"\"Alice was beginning to get very tired of sitting by her sister\n",
        "            on the bank, and of having nothing to do:  once or twice she had\n",
        "            peeped into the book her sister was reading, but it had no\n",
        "            pictures or conversations in it, `and what is the use of a book,'\n",
        "            thought Alice `without pictures or conversation?'\n",
        "\n",
        "            So she was considering in her own mind (as well as she could,\n",
        "            for the hot day made her feel very sleepy and stupid), whether\n",
        "            the pleasure of making a daisy-chain would be worth the trouble\n",
        "            of getting up and picking the daisies, when suddenly a White\n",
        "            Rabbit with pink eyes ran close by her.\n",
        "\n",
        "            There was nothing so VERY remarkable in that; nor did Alice\n",
        "            think it so VERY much out of the way to hear the Rabbit say to\n",
        "            itself, `Oh dear!  Oh dear!  I shall be late!'  (when she thought\n",
        "            it over afterwards, it occurred to her that she ought to have\n",
        "            wondered at this, but at the time it all seemed quite natural);\n",
        "            but when the Rabbit actually TOOK A WATCH OUT OF ITS WAISTCOAT-\n",
        "            POCKET, and looked at it, and then hurried on, Alice started to\n",
        "            her feet, for it flashed across her mind that she had never\n",
        "            before seen a rabbit with either a waistcoat-pocket, or a watch to\n",
        "            take out of it, and burning with curiosity, she ran across the\n",
        "            field after it, and fortunately was just in time to see it pop\n",
        "            down a large rabbit-hole under the hedge.\"\"\"\n",
        "     ```\n",
        "   - **Expected Output**:\n",
        "     ```python\n",
        "     {'alice': 4, 'wondered': 1, 'natural': 1}\n",
        "     ```\n",
        "\n",
        "5. **Implementation Steps**:\n",
        "   - **Step 1**: Count the frequency of each word in the text.\n",
        "   - **Step 2**: Serialize the dictionary to a file.\n",
        "   - **Step 3**: Retrieve word counts for each word in `word_list` from the serialized dictionary."
      ]
    },
    {
      "cell_type": "code",
      "execution_count": 21,
      "metadata": {
        "id": "-SmtFFUq6a70"
      },
      "outputs": [
        {
          "name": "stdout",
          "output_type": "stream",
          "text": [
            "{'alice': 4, 'wondered': 1, 'natural': 1}\n"
          ]
        }
      ],
      "source": [
        "# Solution - Problem 05\n",
        "\n",
        "import json\n",
        "import re\n",
        "\n",
        "def count_frequency(strings):\n",
        "    words_frequency = {}\n",
        "    words = re.findall(r\"[\\w']+\", strings)\n",
        "    for word in words:\n",
        "        try:\n",
        "            words_frequency[word.lower()] += 1\n",
        "        except KeyError:\n",
        "            words_frequency[word.lower()] = 1\n",
        "    return words_frequency\n",
        "\n",
        "def serialize(words_frequency, path_to_serialized_file):\n",
        "    with open(path_to_serialized_file, 'w') as file:\n",
        "        json.dump(words_frequency, file, indent=4)\n",
        "\n",
        "def extract_frequency(words_list, path_to_serialized_file):\n",
        "    extracted_frequencies = {}\n",
        "    with open(path_to_serialized_file, 'r') as file:\n",
        "        frequencies = json.load(file)\n",
        "    for word in words_list:\n",
        "        extracted_frequencies[word.lower()] = frequencies[word.lower()]\n",
        "    return extracted_frequencies\n",
        "\n",
        "# Driver Code\n",
        "strings = \"\"\"Alice was beginning to get very tired of sitting by her sister\n",
        "            on the bank, and of having nothing to do:  once or twice she had\n",
        "            peeped into the book her sister was reading, but it had no\n",
        "            pictures or conversations in it, `and what is the use of a book,'\n",
        "            thought Alice `without pictures or conversation?'\n",
        "\n",
        "            So she was considering in her own mind (as well as she could,\n",
        "            for the hot day made her feel very sleepy and stupid), whether\n",
        "            the pleasure of making a daisy-chain would be worth the trouble\n",
        "            of getting up and picking the daisies, when suddenly a White\n",
        "            Rabbit with pink eyes ran close by her.\n",
        "\n",
        "            There was nothing so VERY remarkable in that; nor did Alice\n",
        "            think it so VERY much out of the way to hear the Rabbit say to\n",
        "            itself, `Oh dear!  Oh dear!  I shall be late!'  (when she thought\n",
        "            it over afterwards, it occurred to her that she ought to have\n",
        "            wondered at this, but at the time it all seemed quite natural);\n",
        "            but when the Rabbit actually TOOK A WATCH OUT OF ITS WAISTCOAT-\n",
        "            POCKET, and looked at it, and then hurried on, Alice started to\n",
        "            her feet, for it flashed across her mind that she had never\n",
        "            before seen a rabbit with either a waistcoat-pocket, or a watch to\n",
        "            take out of it, and burning with curiosity, she ran across the\n",
        "            field after it, and fortunately was just in time to see it pop\n",
        "            down a large rabbit-hole under the hedge.\"\"\"\n",
        "words_list = ['alice', 'wondered', 'natural']\n",
        "\n",
        "# NOTE : Replace the file path with your file\n",
        "path_to_serialized_file = r'F:/University of Allahabad/Data Science - Python/File Handling/Resources/problem_04_words_frequency.json'\n",
        "\n",
        "data = count_frequency(strings)\n",
        "serialize(data, path_to_serialized_file)\n",
        "freq = extract_frequency(words_list, path_to_serialized_file)\n",
        "print(freq)"
      ]
    },
    {
      "cell_type": "markdown",
      "metadata": {
        "id": "Und2HuFW6kAw"
      },
      "source": [
        "### 🚀 **Problem 06 : Recursive String Length Calculation**\n",
        "\n",
        "1. **Problem Statement**:\n",
        "   - Write a recursive function to calculate the length of a given string without using Python’s built-in `len()` function.\n",
        "\n",
        "2. **Input**:\n",
        "   - A string whose length needs to be calculated.\n",
        "   \n",
        "3. **Output**:\n",
        "   - The length of the string as an integer.\n",
        "\n",
        "4. **Examples**:\n",
        "   - **Example 1**  \n",
        "     **Input**:  \n",
        "     ```bash\n",
        "     \"abcd\"\n",
        "     ```\n",
        "     **Output**:  \n",
        "     ```bash\n",
        "     4\n",
        "     ```\n",
        "\n",
        "   - **Example 2**  \n",
        "     **Input**:  \n",
        "     ```bash\n",
        "     \"DataScience\"\n",
        "     ```\n",
        "     **Output**:  \n",
        "     ```bash\n",
        "     11\n",
        "     ```"
      ]
    },
    {
      "cell_type": "code",
      "execution_count": 22,
      "metadata": {
        "id": "9HE7lB5W61gT"
      },
      "outputs": [
        {
          "name": "stdout",
          "output_type": "stream",
          "text": [
            "11\n"
          ]
        }
      ],
      "source": [
        "# Solution - Problem 06\n",
        "\n",
        "def length(string):\n",
        "    if string == '':\n",
        "        return 0\n",
        "    return 1 + length(string[1:])\n",
        "\n",
        "# Driver Code\n",
        "string = \"DataScience\"\n",
        "print(length(string))"
      ]
    },
    {
      "cell_type": "markdown",
      "metadata": {
        "id": "iUDvc-jl6759"
      },
      "source": [
        "### 🚀 **Problem 07 : Greatest Common Divisor Calculation**\n",
        "\n",
        "1. **Problem Statement**:\n",
        "   - Write a recursive function `gcd(a, b)` to compute the greatest common divisor (GCD) of two given integers without using any loops.\n",
        "\n",
        "2. **Function Signature**:\n",
        "   - `def gcd(a: int, b: int) -> int`\n",
        "\n",
        "3. **Input**:\n",
        "   - Two integers, `a` and `b`.\n",
        "\n",
        "4. **Output**:\n",
        "   - An integer representing the GCD of `a` and `b`.\n",
        "\n",
        "5. **Example**:\n",
        "   - **Example 1**  \n",
        "     **Input**:  \n",
        "     ```python\n",
        "     gcd(16, 24)\n",
        "     ```\n",
        "     **Output**:  \n",
        "     ```bash\n",
        "     8\n",
        "     ```"
      ]
    },
    {
      "cell_type": "code",
      "execution_count": 30,
      "metadata": {
        "id": "uMQnojHR7O2S"
      },
      "outputs": [
        {
          "name": "stdout",
          "output_type": "stream",
          "text": [
            "8\n"
          ]
        }
      ],
      "source": [
        "# Solution - Problem 07\n",
        "\n",
        "def gcd(a, b):\n",
        "    if b != 0:\n",
        "        return gcd(b, a % b)\n",
        "    else:\n",
        "        return a\n",
        "\n",
        "        \n",
        "# Driver Code\n",
        "a = 16\n",
        "b = 24\n",
        "print(gcd(a, b))"
      ]
    },
    {
      "cell_type": "markdown",
      "metadata": {
        "id": "wFD35fva7Q_B"
      },
      "source": [
        "### 🚀 **Problem 08 : Edit Distance Calculation Using Recursion**\n",
        "\n",
        "1. **Problem Statement**:\n",
        "   - Write a recursive function to calculate the edit distance between two strings.\n",
        "   - *The edit distance is the minimum number of operations needed to transform one string into the other, where the allowable operations are insert, delete, and substitute.*\n",
        "\n",
        "2. **Input**:\n",
        "   - Two strings, `s` and `t`.\n",
        "\n",
        "3. **Output**:\n",
        "   - The edit distance as an integer.\n",
        "\n",
        "4. **Examples**:\n",
        "   - **Example 1**  \n",
        "     **Input**:  \n",
        "     ```python\n",
        "     s = \"kitten\"\n",
        "     t = \"sitting\"\n",
        "     ```\n",
        "     **Output**:  \n",
        "     ```bash\n",
        "     3\n",
        "     ```\n",
        "\n",
        "     - Explanation: The operations to transform \"kitten\" into \"sitting\" are:\n",
        "       1. Substitute `k` with `s`\n",
        "       2. Substitute `e` with `i`\n",
        "       3. Insert `g` at the end\n",
        "\n",
        "   - **Example 2**  \n",
        "     **Input**:  \n",
        "     ```python\n",
        "     s = \"flaw\"\n",
        "     t = \"lawn\"\n",
        "     ```\n",
        "     **Output**:  \n",
        "     ```bash\n",
        "     2\n",
        "     ```\n",
        "\n",
        "5. **Algorithm**:\n",
        "   - Let s and t be the strings\n",
        "    - If the length of s is 0 then\n",
        "        - Return the length of t\n",
        "    - Else if the length of t is 0 then\n",
        "        - Return the length of s\n",
        "    - Else\n",
        "        - Set cost to 0\n",
        "        - If the last character in s does not equal the last character in t then\n",
        "            - Set cost to 1\n",
        "        - Set d1 equal to the edit distance between all characters except the last one in s, and all characters in t, plus 1\n",
        "        - Set d2 equal to the edit distance between all characters in s, and all characters except the last one in t, plus 1\n",
        "\n",
        "        - Set d3 equal to the edit distance between all characters except the last one in s, and all characters except the last one in t, plus cost\n",
        "        - Return the minimum of d1, d2 and d3"
      ]
    },
    {
      "cell_type": "code",
      "execution_count": 64,
      "metadata": {
        "id": "zlNy_Q987QOX"
      },
      "outputs": [
        {
          "name": "stdout",
          "output_type": "stream",
          "text": [
            "2\n"
          ]
        }
      ],
      "source": [
        "# Solution - Problem 08\n",
        "\n",
        "def edit_distance(s, t):\n",
        "    if len(s) == 0:\n",
        "        return len(t)\n",
        "    elif len(t) == 0:\n",
        "        return len(s)\n",
        "    else:\n",
        "        cost = 0\n",
        "        if s[-1] != t[-1]:\n",
        "            cost = 1\n",
        "        d1 = edit_distance(s[-len(s):-1], t) + 1\n",
        "        d2 = edit_distance(s, t[-len(t):-1]) + 1\n",
        "        d3 = edit_distance(s[-len(s):-1], t[-len(t):-1]) + cost\n",
        "        return min(d1, d2, d3)\n",
        "    \n",
        "\n",
        "# Driver Code\n",
        "s = \"flaw\"\n",
        "t = \"lawn\"\n",
        "print(edit_distance(s, t))"
      ]
    },
    {
      "cell_type": "markdown",
      "metadata": {
        "id": "Hc9e-qES7iAK"
      },
      "source": [
        "### 🚀 **Problem 09 : Run-Length Encoding Using Recursion**\n",
        "\n",
        "1. **Problem Statement**:\n",
        "   - Implement a recursive function for run-length encoding. This function compresses a list or string by replacing groups of repeated values with the value followed by its frequency.\n",
        "\n",
        "2. **Input**:\n",
        "   - A list or string of values, which may contain repeated adjacent values.\n",
        "\n",
        "3. **Output**:\n",
        "   - A list representing the compressed version of the input, where each repeated value is followed by the count of its occurrences.\n",
        "\n",
        "4. **Examples**:\n",
        "   - **Example 1**  \n",
        "     **Input**:  \n",
        "     ```python\n",
        "     [\"A\", \"A\", \"A\", \"B\", \"B\", \"A\"]\n",
        "     ```\n",
        "     **Output**:  \n",
        "     ```python\n",
        "     [\"A\", 3, \"B\", 2, \"A\", 1]\n",
        "     ```\n",
        "\n",
        "   - **Example 2**  \n",
        "     **Input**:  \n",
        "     ```python\n",
        "     \"AAABBA\"\n",
        "     ```\n",
        "     **Output**:  \n",
        "     ```python\n",
        "     [\"A\", 3, \"B\", 2, \"A\", 1]\n",
        "     ```\n",
        "\n",
        "5. **Algorithm**:\n",
        "   - Base Case: If the list or string is empty, return an empty list.\n",
        "   - Recursive Case:\n",
        "     - Count occurrences of the first character until a different character is encountered.\n",
        "     - Append the character and its count to the result.\n",
        "     - Recurse on the remaining part of the list/string that starts from the new character."
      ]
    },
    {
      "cell_type": "code",
      "execution_count": 70,
      "metadata": {
        "id": "W2Wb_WzP7qM1"
      },
      "outputs": [
        {
          "name": "stdout",
          "output_type": "stream",
          "text": [
            "['A', 3, 'B', 2, 'A', 1]\n"
          ]
        }
      ],
      "source": [
        "# Solution - Problem 09\n",
        "\n",
        "def run_length_encoder(l, result):\n",
        "    if len(l) == 0:\n",
        "        return []\n",
        "    char = l[0]\n",
        "    count = 0\n",
        "    for i in l:\n",
        "        if i != char:\n",
        "            break\n",
        "        count += 1\n",
        "    result.append(char)\n",
        "    result.append(count)\n",
        "    run_length_encoder(l[count:], result)\n",
        "    \n",
        "    \n",
        "\n",
        "# Driver Code\n",
        "l = [\"A\", \"A\", \"A\", \"B\", \"B\", \"A\"]\n",
        "result = []\n",
        "run_length_encoder(l, result)\n",
        "print(result)"
      ]
    },
    {
      "cell_type": "markdown",
      "metadata": {
        "id": "x6A-4vGC8SLs"
      },
      "source": [
        "### 🚀 **Problem 10 : Decimal to Binary Conversion Using Recursion**\n",
        "\n",
        "1. **Problem Statement**:\n",
        "   - Write a recursive function that converts a given decimal (base-10) integer into its binary (base-2) equivalent.\n",
        "\n",
        "2. **Input**:\n",
        "   - A positive integer in decimal format.\n",
        "\n",
        "3. **Output**:\n",
        "   - A string or integer representing the binary equivalent of the input decimal number.\n",
        "\n",
        "4. **Examples**:\n",
        "   - **Example 1**  \n",
        "     **Input**:  \n",
        "     ```bash\n",
        "     13\n",
        "     ```\n",
        "     **Output**:  \n",
        "     ```bash\n",
        "     \"1101\"\n",
        "     ```\n",
        "\n",
        "   - **Example 2**  \n",
        "     **Input**:  \n",
        "     ```bash\n",
        "     7\n",
        "     ```\n",
        "     **Output**:  \n",
        "     ```bash\n",
        "     \"111\"\n",
        "     ```\n",
        "\n",
        "5. **Algorithm**:\n",
        "   - Base Case: If the input number is `0`, return `\"0\"`; if it is `1`, return `\"1\"`.\n",
        "   - Recursive Case:\n",
        "     - Divide the number by `2` and get the remainder.\n",
        "     - Call the function recursively with the quotient and append the remainder to the result as you return back through the call stack."
      ]
    },
    {
      "cell_type": "code",
      "execution_count": 75,
      "metadata": {
        "id": "izOr6D9V8aME"
      },
      "outputs": [
        {
          "data": {
            "text/plain": [
              "'1101'"
            ]
          },
          "execution_count": 75,
          "metadata": {},
          "output_type": "execute_result"
        }
      ],
      "source": [
        "# Solution - Problem 10\n",
        "\n",
        "def decimal_to_binary(n):\n",
        "    if n == 1:\n",
        "        return '1'\n",
        "    return decimal_to_binary(n // 2) + str(n % 2)\n",
        "\n",
        "\n",
        "# Driver Code\n",
        "n = 13\n",
        "decimal_to_binary(n)"
      ]
    }
  ],
  "metadata": {
    "colab": {
      "provenance": []
    },
    "kernelspec": {
      "display_name": "Python 3",
      "name": "python3"
    },
    "language_info": {
      "codemirror_mode": {
        "name": "ipython",
        "version": 3
      },
      "file_extension": ".py",
      "mimetype": "text/x-python",
      "name": "python",
      "nbconvert_exporter": "python",
      "pygments_lexer": "ipython3",
      "version": "3.12.5"
    }
  },
  "nbformat": 4,
  "nbformat_minor": 0
}
