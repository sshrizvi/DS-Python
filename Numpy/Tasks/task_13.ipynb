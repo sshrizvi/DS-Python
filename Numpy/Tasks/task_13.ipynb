{
  "cells": [
    {
      "cell_type": "markdown",
      "metadata": {},
      "source": [
        "# **Task 13 - (Article 80 to 85)** [![Static Badge](https://img.shields.io/badge/Open%20in%20Colab%20-%20orange?style=plastic&logo=googlecolab&labelColor=grey)](https://colab.research.google.com/github/sshrizvi/DS-Python/blob/main/Numpy/Tasks/task_13.ipynb)\n",
        "\n",
        "|🔴 **WARNING** 🔴|\n",
        "|:-----------:|\n",
        "|If you have not studied article 80 to 85. Do checkout the articles before attempting the task.|\n",
        "| Here is [Article 80 - NumPy - An Introduction](../Articles/80_numpy.md) |"
      ]
    },
    {
      "cell_type": "markdown",
      "metadata": {
        "id": "6WdKdPGx-tnY"
      },
      "source": [
        "***Note** : In Data Science googling is a very important skill. If you find some difficulties to solve the problem, google it and try to find some clues to solve.*"
      ]
    },
    {
      "cell_type": "markdown",
      "metadata": {},
      "source": [
        "### **Importing NumPy Library**"
      ]
    },
    {
      "cell_type": "code",
      "execution_count": 1,
      "metadata": {
        "id": "-J4F1ysN4mLk"
      },
      "outputs": [],
      "source": [
        "import numpy as np"
      ]
    },
    {
      "cell_type": "markdown",
      "metadata": {
        "id": "a_K8IH-C6HDK"
      },
      "source": [
        "### 🎯 **Q1 : Create a null vector of size 10 but the fifth value which is 1.**"
      ]
    },
    {
      "cell_type": "code",
      "execution_count": 2,
      "metadata": {
        "id": "sTF03KsZ6QUI"
      },
      "outputs": [
        {
          "name": "stdout",
          "output_type": "stream",
          "text": [
            "[0. 0. 0. 0. 1. 0. 0. 0. 0. 0.]\n"
          ]
        }
      ],
      "source": [
        "# Solution - Question 01\n",
        "\n",
        "null_vector = np.zeros(10)\n",
        "null_vector[4] = 1\n",
        "\n",
        "print(null_vector)"
      ]
    },
    {
      "cell_type": "markdown",
      "metadata": {
        "id": "TEiG25rS6S1i"
      },
      "source": [
        "###  🎯 **Q2 : Ask user to input two numbers `a` and `b`. Write a program to generate a random array of shape (a, b) and print the array and average of the array.**"
      ]
    },
    {
      "cell_type": "code",
      "execution_count": 5,
      "metadata": {
        "id": "ihwn4oOH6Vh7"
      },
      "outputs": [
        {
          "name": "stdout",
          "output_type": "stream",
          "text": [
            "[[0.09233823 0.18293797 0.10792227]\n",
            " [0.30645031 0.55564392 0.92525521]\n",
            " [0.97200382 0.31608908 0.1896433 ]\n",
            " [0.82446563 0.08633677 0.5511754 ]\n",
            " [0.70842485 0.88685931 0.79185046]]\n",
            "Average of Array is 0.4998264357818635\n"
          ]
        }
      ],
      "source": [
        "# Solution - Question 02\n",
        "\n",
        "a = int(input('Enter value of a : '))\n",
        "b = int(input('Enter value of b : '))\n",
        "\n",
        "array = np.random.random((a,b))\n",
        "average_of_array = np.mean(array)\n",
        "\n",
        "print(array)\n",
        "print(f'Average of Array is {average_of_array}')"
      ]
    },
    {
      "cell_type": "markdown",
      "metadata": {
        "id": "2iEeybS06ZSq"
      },
      "source": [
        "### 🎯 **Q3 : Write a function to create a 2D array (Matrix) with `1` on the border and `0` inside. Take 2D array shape as (a,b) as parameter to function.**\n",
        "\n",
        "**Example**\n",
        "```python\n",
        "[[1,1,1,1],\n",
        " [1,0,0,1],\n",
        " [1,0,0,1],\n",
        " [1,1,1,1]]\n",
        "```"
      ]
    },
    {
      "cell_type": "code",
      "execution_count": 9,
      "metadata": {
        "id": "gEKndkDU6ZSs"
      },
      "outputs": [
        {
          "name": "stdout",
          "output_type": "stream",
          "text": [
            "[[1 1 1 1]\n",
            " [1 0 0 1]\n",
            " [1 0 0 1]\n",
            " [1 1 1 1]]\n"
          ]
        }
      ],
      "source": [
        "# Solution - Question 03\n",
        "\n",
        "def create_matrix(a, b):\n",
        "    array = np.zeros((a, b), dtype=int)\n",
        "    for i in range(a):\n",
        "        for j in range(b):\n",
        "            if i == 0 or i == (a-1) or j == 0 or j == (b-1):\n",
        "                array[i][j] = 1\n",
        "    return array\n",
        "\n",
        "\n",
        "a = int(input('Enter value of a : '))\n",
        "b = int(input('Enter value of b : '))\n",
        "print(create_matrix(a, b))"
      ]
    },
    {
      "cell_type": "markdown",
      "metadata": {
        "id": "QRJicQ8j6ZlE"
      },
      "source": [
        "### 🎯 **Q4 :  Create a vector of size 10 with values ranging from 0 to 1, both excluded.**\n"
      ]
    },
    {
      "cell_type": "code",
      "execution_count": 12,
      "metadata": {
        "id": "eC4XLhDq6ZlF"
      },
      "outputs": [
        {
          "name": "stdout",
          "output_type": "stream",
          "text": [
            "[0.09090909 0.18181818 0.27272727 0.36363636 0.45454545 0.54545455\n",
            " 0.63636364 0.72727273 0.81818182 0.90909091]\n"
          ]
        }
      ],
      "source": [
        "# Solution - Question 04\n",
        "\n",
        "size = 10\n",
        "vector = np.linspace(0, 1, 12, endpoint=True)[1:-1]\n",
        "print(vector)"
      ]
    },
    {
      "cell_type": "markdown",
      "metadata": {
        "id": "vb4jK4yQ6Zs2"
      },
      "source": [
        "### 🎯 **Q5 :  Can you create an identity matrix of shape (3,4). If yes write code for it.**\n",
        "\n",
        "<details>\n",
        "    <summary>Solution</summary>\n",
        "    An identity matrix is a square matrix with ones on the main diagonal and zeros elsewhere. Since the shape (3, 4) is not square, it is not possible to create a true identity matrix with this shape.\n",
        "    However, you can create a matrix of shape (3, 4) where the first three elements of the main diagonal are represented. See the code for clarification.\n",
        "</details>"
      ]
    },
    {
      "cell_type": "code",
      "execution_count": 17,
      "metadata": {
        "id": "DTV_AbMS6Zs4"
      },
      "outputs": [
        {
          "name": "stdout",
          "output_type": "stream",
          "text": [
            "[[1. 0. 0. 0.]\n",
            " [0. 1. 0. 0.]\n",
            " [0. 0. 1. 0.]]\n"
          ]
        }
      ],
      "source": [
        "# Solution - Question 05\n",
        "\n",
        "identity_matrix = np.eye(3)\n",
        "identity_matrix_extended = np.hstack((identity_matrix, np.zeros((3, 1))))\n",
        "print(identity_matrix_extended)"
      ]
    },
    {
      "cell_type": "markdown",
      "metadata": {
        "id": "QtjAFm5PEntK"
      },
      "source": [
        "### 🎯 **Q6 :  Create a 5x5 matrix with row values ranging from 0 to 4.**"
      ]
    },
    {
      "cell_type": "code",
      "execution_count": 21,
      "metadata": {
        "id": "z2WGxRjvEuRS"
      },
      "outputs": [
        {
          "name": "stdout",
          "output_type": "stream",
          "text": [
            "[[0 1 2 3 4]\n",
            " [0 1 2 3 4]\n",
            " [0 1 2 3 4]\n",
            " [0 1 2 3 4]\n",
            " [0 1 2 3 4]]\n"
          ]
        }
      ],
      "source": [
        "# Solution - Question 06\n",
        "\n",
        "row = np.arange(0,5,1)\n",
        "matrix = np.array(list(row) * 5).reshape(5,5)\n",
        "print(matrix)"
      ]
    },
    {
      "cell_type": "markdown",
      "metadata": {
        "id": "KPpvxKjVHnyx"
      },
      "source": [
        "### 🎯 **Q7: Calculate Distances from a Given Point**\n",
        "\n",
        "1. **Problem Statement**:  \n",
        "   - Create a random integer vector with shape `(10, 2)`, where each row represents a coordinate in a 2D space. The integers should range from 1 to 100.  \n",
        "   - A specific 2D coordinate point is given as:  \n",
        "     ```python\n",
        "     point = np.array([2, 3])\n",
        "     ```\n",
        "   - Calculate the distance of each coordinate in the random vector from the given point. The distances should be stored in an array of integer type.  \n",
        "\n",
        "2. **Input**:  \n",
        "   - A random vector of shape `(10, 2)` with integer values between 1 and 100.  \n",
        "   - A specific point as `np.array([2, 3])`.  \n",
        "\n",
        "3. **Output**:  \n",
        "   - An integer array containing the distance of each coordinate in the random vector from the given point.  \n",
        "\n",
        "4. **Example** (Illustrative):  \n",
        "   - **Random Vector**:  \n",
        "     ```\n",
        "     [[5, 10], [2, 2], [15, 25], ..., [8, 9]]\n",
        "     ```  \n",
        "   - **Given Point**:  \n",
        "     ```\n",
        "     [2, 3]\n",
        "     ```  \n",
        "   - **Distance Array**:  \n",
        "     ```\n",
        "     [7, 1, 28, ..., 10]\n",
        "     ```  "
      ]
    },
    {
      "cell_type": "code",
      "execution_count": 38,
      "metadata": {
        "id": "X7KGnWLNIM6f"
      },
      "outputs": [
        {
          "name": "stdout",
          "output_type": "stream",
          "text": [
            "[ 82  74  50  88  79  41  96 109  71  81]\n"
          ]
        }
      ],
      "source": [
        "# Solution - Question 07\n",
        "\n",
        "def calculate_distance(point_vector, point):\n",
        "    for i in point_vector:\n",
        "        yield ((i[0] - point[0])**2 + (i[1] - point[1])**2)**0.5\n",
        "\n",
        "point = np.array([2, 3])\n",
        "point_vector = (np.random.random((10,2))*100).astype(int)\n",
        "distance_generator = calculate_distance(point_vector, point)\n",
        "distance_vector = np.zeros((10,))\n",
        "index = 0\n",
        "for i in distance_generator:\n",
        "    distance_vector[index] = i\n",
        "    index = index + 1\n",
        "\n",
        "print(distance_vector.astype(int)) # Values may vary as points are randomly generated"
      ]
    },
    {
      "cell_type": "markdown",
      "metadata": {
        "id": "tajOFJlCDwTr"
      },
      "source": [
        "### 🎯 **Q8: Determine the Index of a Specific Element in a Multidimensional Array**\n",
        "\n",
        "1. **Problem Statement**:  \n",
        "   - You are given a multidimensional array with the shape `(6, 7, 8)` representing three dimensions:  \n",
        "     - `x` with a size of 6,  \n",
        "     - `y` with a size of 7,  \n",
        "     - `z` with a size of 8.  \n",
        "   - Determine the **index (x, y, z)** of the 100th element in this array, assuming **zero-based indexing**.  \n",
        "\n",
        "2. **Relevant Information**:  \n",
        "   - The array elements are stored in a **row-major order** (C-style indexing).  \n",
        "   - The counting starts at the **first element of the array** (index `(0, 0, 0)`).  \n",
        "\n",
        "3. **Input**:  \n",
        "   - Array shape: `(6, 7, 8)`  \n",
        "   - Element position to find: `100` (zero-based indexing applies).  \n",
        "\n",
        "4. **Output**:  \n",
        "   - The index `(x, y, z)` corresponding to the 100th element of the array.  "
      ]
    },
    {
      "cell_type": "code",
      "execution_count": 48,
      "metadata": {
        "id": "qH4oxvs0D3Ra"
      },
      "outputs": [
        {
          "name": "stdout",
          "output_type": "stream",
          "text": [
            "(3,4,4)\n",
            "(4,3,4)\n",
            "(4,4,3)\n"
          ]
        }
      ],
      "source": [
        "# Solution - Question 08\n",
        "\n",
        "tensor = np.random.random((6,7,8))\n",
        "count = 1\n",
        "for i in range(6):\n",
        "    for j in range(7):\n",
        "        for k in range(8):\n",
        "            if (i+1)*(j+1)*(k+1) == 100:\n",
        "                print(f'({i},{j},{k})')\n",
        "                break\n",
        "        if k == 0:\n",
        "            break\n",
        "    if j == 0:\n",
        "        break"
      ]
    },
    {
      "cell_type": "markdown",
      "metadata": {
        "id": "9LxBAbT2Pw33"
      },
      "source": [
        "### `Q-9:` Arrays\n",
        "\n",
        "You are given a space separated list of numbers. Your task is to print a reversed NumPy array with the element type float.\n",
        "\n"
      ]
    },
    {
      "cell_type": "markdown",
      "metadata": {
        "id": "JJpqVms2Nq7L"
      },
      "source": [
        "**Input Format:**\n",
        "\n",
        "A single line of input containing space separated numbers.\n",
        "\n",
        "**Output Format:**\n",
        "\n",
        "Print the reverse NumPy array with type float.\n",
        "\n",
        "**Example 1:**\n",
        "\n",
        "Input:\n",
        "\n",
        "```bash\n",
        "1 2 3 4 -8 -10\n",
        "```\n",
        "\n",
        "Output:\n",
        "\n",
        "```bash\n",
        "[-10.  -8.   4.   3.   2.   1.]\n",
        "```"
      ]
    },
    {
      "cell_type": "code",
      "execution_count": null,
      "metadata": {
        "id": "7iQyg6ChNl3j"
      },
      "outputs": [],
      "source": [
        "#Code here"
      ]
    },
    {
      "cell_type": "markdown",
      "metadata": {
        "id": "TPxD7jM8Sjz9"
      },
      "source": [
        "### `Q-10:` Elements count\n",
        "\n",
        "Count the number of elements of a numpy array.\n",
        "\n"
      ]
    },
    {
      "cell_type": "markdown",
      "metadata": {
        "id": "oHTiTz_jNkAU"
      },
      "source": [
        "**Example 1:**\n",
        "\n",
        "Input:\n",
        "```bash\n",
        "np.array([])\n",
        "```\n",
        "\n",
        "Output:\n",
        "```bash\n",
        "elements_count :  0\n",
        "```\n",
        "\n",
        "**Example 2:**\n",
        "\n",
        "Input:\n",
        "```bash\n",
        "np.array([1, 2])\n",
        "```\n",
        "\n",
        "Output:\n",
        "```bash\n",
        "elements_count :  2\n",
        "```"
      ]
    },
    {
      "cell_type": "code",
      "execution_count": null,
      "metadata": {
        "id": "RG0H2I-TNeGN"
      },
      "outputs": [],
      "source": [
        "#Code here"
      ]
    },
    {
      "cell_type": "markdown",
      "metadata": {
        "id": "pwgPz-3l5ic5"
      },
      "source": [
        "### `Q-11:` Softmax function\n",
        "\n",
        "Create a Python function to calculate the Softmax of the given numpy 1D array. The function only accepts the numpy 1D array, otherwise raise error.\n",
        "\n",
        "$$\\Large \\sigma(\\vec z)_i = \\frac{e^{z_i}}{\\sum_{j=i}^{K}{e^{z_j}}}$$\n",
        "\n",
        "https://en.wikipedia.org/wiki/Softmax_function\n",
        "\n"
      ]
    },
    {
      "cell_type": "markdown",
      "metadata": {
        "id": "eZ3WJt6UM1ul"
      },
      "source": [
        "**Example 1:**\n",
        "\n",
        "Input:\n",
        "```bash\n",
        "[86.03331084 37.7285648  48.64908087 87.16563062 38.40852563 37.20006318]\n",
        "```\n",
        "\n",
        "Output:\n",
        "```bash\n",
        "[2.43733249e-01, 2.56112115e-22, 1.41628284e-17, 7.56266751e-01,\n",
        "       5.05514197e-22, 1.50974911e-22]\n",
        "```\n",
        "\n",
        "**Example 2:**\n",
        "\n",
        "Input:\n",
        "```bash\n",
        "[33.17344305 45.61961654 82.05405781 80.9647098  68.82830233 91.52064278]\n",
        "```\n",
        "\n",
        "Output:\n",
        "```bash\n",
        "[4.57181035e-26, 1.16249923e-20, 7.73872596e-05, 2.60358426e-05,\n",
        "       1.39571531e-10, 9.99896577e-01]\n",
        "```"
      ]
    },
    {
      "cell_type": "code",
      "execution_count": null,
      "metadata": {
        "id": "VNzj05lkNaNi"
      },
      "outputs": [],
      "source": [
        "#Code here"
      ]
    },
    {
      "cell_type": "markdown",
      "metadata": {
        "id": "k4JWSwWu_HXg"
      },
      "source": [
        "### `Q-12:` Vertical stack\n",
        "\n",
        "Write a python function that accepts infinite number of numpy arrays and do the vertical stack to them. Then return that new array as result. The function only accepts the numpy array, otherwise raise error.\n",
        "\n"
      ]
    },
    {
      "cell_type": "markdown",
      "metadata": {
        "id": "XhhV3mraNAWr"
      },
      "source": [
        "**Example 1:**\n",
        "\n",
        "Input:\n",
        "```bash\n",
        "a= [[0 1 2 3 4]\n",
        " [5 6 7 8 9]]\n",
        "\n",
        "b= [[1 1 1 1 1]\n",
        " [1 1 1 1 1]]\n",
        "```\n",
        "\n",
        "Output:\n",
        "\n",
        "```bash\n",
        "[[0 1 2 3 4]\n",
        " [5 6 7 8 9]\n",
        " [1 1 1 1 1]\n",
        " [1 1 1 1 1]]\n",
        "```\n",
        "\n",
        "**Example 2:**\n",
        "\n",
        "Input:\n",
        "```bash\n",
        "a= [[0 1 2 3 4]\n",
        " [5 6 7 8 9]]\n",
        "\n",
        "b= [[1 1 1 1 1]\n",
        " [1 1 1 1 1]]\n",
        "\n",
        "c= [[0.10117373 0.1677244  0.73764059 0.83166097 0.48985695]\n",
        " [0.44581567 0.13502419 0.55692335 0.16479622 0.61193593]]\n",
        "```\n",
        "\n",
        "Output:\n",
        "```bash\n",
        "[[0.         1.         2.         3.         4.        ]\n",
        " [5.         6.         7.         8.         9.        ]\n",
        " [1.         1.         1.         1.         1.        ]\n",
        " [1.         1.         1.         1.         1.        ]\n",
        " [0.10117373 0.1677244  0.73764059 0.83166097 0.48985695]\n",
        " [0.44581567 0.13502419 0.55692335 0.16479622 0.61193593]]\n",
        "```"
      ]
    },
    {
      "cell_type": "code",
      "execution_count": null,
      "metadata": {
        "id": "dhtnbSj6NP8z"
      },
      "outputs": [],
      "source": [
        "#Coder here"
      ]
    },
    {
      "cell_type": "markdown",
      "metadata": {
        "id": "3mk8T6CuC2DP"
      },
      "source": [
        "### `Q-13:` Dates\n",
        "\n",
        "Create a python function named **date_array** that accepts two dates as string format and returns a numpy array of dates between those 2 dates. The function only accept 2 strings, otherwise raise error. The date format should be like this only: `2022-12-6`. The end date should be included and for simplicity, choose dates from a same year.\n",
        "\n"
      ]
    },
    {
      "cell_type": "markdown",
      "metadata": {
        "id": "E3IgjnTTNFEk"
      },
      "source": [
        "**Example 1:**\n",
        "\n",
        "Input:\n",
        "```bash\n",
        "date_array(start = '2020-09-15', end = '2020-09-25')\n",
        "```\n",
        "\n",
        "Output:\n",
        "```bash\n",
        "['2020-09-15', '2020-09-16', '2020-09-17', '2020-09-18',\n",
        " '2020-09-19', '2020-09-20', '2020-09-21', '2020-09-22',\n",
        " '2020-09-23', '2020-09-24', '2020-09-25']\n",
        "```\n",
        "\n",
        "**Example 2:**\n",
        "\n",
        "Input:\n",
        "```bash\n",
        "date_array(start = '2022-12-01', end = '2022-12-06')\n",
        "```\n",
        "\n",
        "Output:\n",
        "```bash\n",
        "['2022-12-01', '2022-12-02', '2022-12-03', '2022-12-04', '2022-12-05', '2022-12-06']\n",
        "```\n",
        "\n",
        "**Example 3:**\n",
        "\n",
        "Input:\n",
        "```bash\n",
        "date_array(start = '2020-11-25', end = '2020-11-30')\n",
        "```\n",
        "\n",
        "Output:\n",
        "```bash\n",
        "['2020-11-25', '2020-11-26', '2020-11-27', '2020-11-28',\n",
        " '2020-11-29', '2020-11-30']\n",
        "```"
      ]
    },
    {
      "cell_type": "code",
      "execution_count": null,
      "metadata": {
        "id": "Yj5PBfQQNTnL"
      },
      "outputs": [],
      "source": [
        "#Code here"
      ]
    },
    {
      "cell_type": "markdown",
      "metadata": {
        "id": "bcEp0wTWQijK"
      },
      "source": [
        "###`Q-14:` Subtract the mean of each row from a matrix."
      ]
    },
    {
      "cell_type": "code",
      "execution_count": null,
      "metadata": {
        "id": "rpILVGcgQzMo"
      },
      "outputs": [],
      "source": [
        "#code here"
      ]
    },
    {
      "cell_type": "markdown",
      "metadata": {
        "id": "A-dMVlPPSBTT"
      },
      "source": [
        "###`Q-15:` Swap column-1 of array with column-2 in the array."
      ]
    },
    {
      "cell_type": "code",
      "execution_count": null,
      "metadata": {
        "id": "3RtngM9-Q6S7"
      },
      "outputs": [],
      "source": [
        "#Code here"
      ]
    },
    {
      "cell_type": "code",
      "execution_count": null,
      "metadata": {
        "id": "ueoMV_LlSnGU"
      },
      "outputs": [],
      "source": []
    },
    {
      "cell_type": "markdown",
      "metadata": {
        "id": "cB4VMexvS6Zi"
      },
      "source": [
        "###`Q-16:` Replace odd elements in arrays with -1."
      ]
    },
    {
      "cell_type": "code",
      "execution_count": null,
      "metadata": {
        "id": "Bt83nXEVS5O4"
      },
      "outputs": [],
      "source": [
        "#Code here"
      ]
    },
    {
      "cell_type": "code",
      "execution_count": null,
      "metadata": {
        "id": "1ZlvMaXLVyoW"
      },
      "outputs": [],
      "source": []
    },
    {
      "cell_type": "markdown",
      "metadata": {
        "id": "kf_qvmBxWIT_"
      },
      "source": [
        "###`Q-17:` Given two arrays of same shape make an array of max out of two arrays. (Numpy way)\n",
        "```\n",
        "a=np.array([6,3,1,5,8])\n",
        "b=np.array([3,2,1,7,2])\n",
        "\n",
        "Result-> [6 3 1 7 8]\n",
        "```"
      ]
    },
    {
      "cell_type": "code",
      "execution_count": null,
      "metadata": {
        "id": "TB9ZvF-EZSfu"
      },
      "outputs": [],
      "source": [
        "#Code here"
      ]
    },
    {
      "cell_type": "code",
      "execution_count": null,
      "metadata": {
        "id": "D7ad-A6jZzCL"
      },
      "outputs": [],
      "source": []
    },
    {
      "cell_type": "markdown",
      "metadata": {
        "id": "iOQLUIeGc3zA"
      },
      "source": [
        "###`Q-18` Answer below asked questions on given array:\n",
        "1. Fetch Every alternate column of the array\n",
        "2. Normalise the given array\n",
        "\n",
        "https://en.wikipedia.org/wiki/Normalization_(statistics)\n",
        "\n",
        "There are different form of normalisation for this question use below formula.\n",
        "\n",
        "$$\\large X_{normalized} = \\frac{X - X_{min}}{X_{max} - X_{min}}$$\n",
        "\n",
        "```python\n",
        "arr1=np.random.randint(low=1, high=10000, size=40).reshape(8,5)\n",
        "```\n"
      ]
    },
    {
      "cell_type": "code",
      "execution_count": null,
      "metadata": {
        "colab": {
          "base_uri": "https://localhost:8080/"
        },
        "id": "vjSm18k3d_1p",
        "outputId": "83d23b61-d2ae-41bc-e91e-0e0722667521"
      },
      "outputs": [
        {
          "data": {
            "text/plain": [
              "array([[2939, 1694, 6680, 8865, 2684],\n",
              "       [4066, 4573,  327, 6525,  851],\n",
              "       [5997, 7481, 2315, 5863, 9615],\n",
              "       [7821, 1225, 9138, 1114, 4885],\n",
              "       [7715, 8046, 9105, 3935, 3182],\n",
              "       [8842, 4836, 2705, 3751, 3800],\n",
              "       [4132, 1400, 7844, 9471, 7526],\n",
              "       [2749, 2624, 6900, 1576, 7515]])"
            ]
          },
          "execution_count": 34,
          "metadata": {},
          "output_type": "execute_result"
        }
      ],
      "source": [
        "# Given\n",
        "arr1=np.random.randint(low=1, high=10000, size=40).reshape(8,5)\n",
        "arr1"
      ]
    },
    {
      "cell_type": "code",
      "execution_count": null,
      "metadata": {
        "id": "d7u8DB47eBfQ"
      },
      "outputs": [],
      "source": [
        "#Code here"
      ]
    },
    {
      "cell_type": "markdown",
      "metadata": {
        "id": "jCzsVEKLgGNo"
      },
      "source": [
        "###`Q-19:` Write a function which will accept 2 arguments.\n",
        "First: A 1D numpy array arr\n",
        "\n",
        "Second: An integer n {Please make sure n<=len(arr)}\n",
        "\n",
        "Output: The output should be the nth largest item out of the array\n",
        "```\n",
        "# Example1 : arr=(12,34,40,7,1,0) and n=3, the output should be 12\n",
        "# Example2 : arr=(12,34,40,7,1,0) and n=1, the output should be 40\n",
        "```"
      ]
    },
    {
      "cell_type": "code",
      "execution_count": null,
      "metadata": {
        "id": "J4AzkDk7gXSG"
      },
      "outputs": [],
      "source": [
        "#Code here"
      ]
    },
    {
      "cell_type": "markdown",
      "metadata": {
        "id": "ja0xPCgjhBsg"
      },
      "source": [
        "###`Q-20:` Create the following pattern without hardcoding. Use only numpy functions and the below input array a.\n",
        "```\n",
        "# Input: a = np.array([1,2,3])\n",
        "# Output: array([1, 1, 1, 2, 2, 2, 3, 3, 3, 1, 2, 3, 1, 2, 3, 1, 2, 3])\n",
        "```"
      ]
    },
    {
      "cell_type": "code",
      "execution_count": null,
      "metadata": {
        "id": "CndS8TTNhG0F"
      },
      "outputs": [],
      "source": [
        "#code here"
      ]
    }
  ],
  "metadata": {
    "colab": {
      "provenance": []
    },
    "kernelspec": {
      "display_name": "Python 3",
      "name": "python3"
    },
    "language_info": {
      "codemirror_mode": {
        "name": "ipython",
        "version": 3
      },
      "file_extension": ".py",
      "mimetype": "text/x-python",
      "name": "python",
      "nbconvert_exporter": "python",
      "pygments_lexer": "ipython3",
      "version": "3.12.5"
    }
  },
  "nbformat": 4,
  "nbformat_minor": 0
}
