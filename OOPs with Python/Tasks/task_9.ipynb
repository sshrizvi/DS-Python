{
  "cells": [
    {
      "cell_type": "markdown",
      "metadata": {},
      "source": [
        "# **Task 9 - (Article 54 to 61)** [![Static Badge](https://img.shields.io/badge/Open%20in%20Colab%20-%20orange?style=plastic&logo=googlecolab&labelColor=grey)](https://colab.research.google.com/github/sshrizvi/DS-Python/blob/main/OOPs%20with%20Python/Tasks/task_9.ipynb)\n",
        "\n",
        "|🔴 **WARNING** 🔴|\n",
        "|:-----------:|\n",
        "|If you have not studied article 54 to 61. Do checkout the articles before attempting the task.|\n",
        "| Here is [Article 54 - Class Relationships](../Articles/54_class_relationships.md) |"
      ]
    },
    {
      "cell_type": "markdown",
      "metadata": {
        "id": "BCleRtX43caS"
      },
      "source": [
        "### 🚀 **Problem 01: Class Inheritance**\n",
        "\n",
        "Create a **Bus** child class that inherits from the Vehicle class. The default fare charge of any vehicle is `seating capacity * 100`. If the Vehicle is a Bus instance, we need to add an extra `10%` on the full fare as a maintenance charge. So the total fare for a Bus instance will become the `final amount = total fare + 10% of the total fare`.\n",
        "\n",
        "**Note:** The bus seating capacity is `50`, so the final fare amount should be `5500`. You need to override the `fare()` method of the Vehicle class in the Bus class.\n",
        "\n",
        "**Example:**\n",
        "```python\n",
        "# Driver code:\n",
        "school_bus = Bus(50)\n",
        "print(\"Total Bus fare is:\", school_bus.fare())\n",
        "```\n",
        "\n",
        "**Expected Output:**\n",
        "```\n",
        "Total Bus fare is: 5500\n",
        "```"
      ]
    },
    {
      "cell_type": "code",
      "execution_count": 3,
      "metadata": {
        "colab": {
          "base_uri": "https://localhost:8080/"
        },
        "id": "6jVFCXKz3YZI",
        "outputId": "a8649209-08e2-4f60-a914-74a914dd697e"
      },
      "outputs": [
        {
          "name": "stdout",
          "output_type": "stream",
          "text": [
            "Total Bus fare is: 5500\n"
          ]
        }
      ],
      "source": [
        "# Solution - Problem 01\n",
        "\n",
        "class Vehicle:\n",
        "    \n",
        "    def __init__(self, seating_capacity) -> None:\n",
        "        self.seating_capacity = seating_capacity\n",
        "    \n",
        "    def fare(self) -> int:\n",
        "        return self.seating_capacity * 100\n",
        "\n",
        "class Bus(Vehicle):\n",
        "    \n",
        "    def __init__(self, seating_capacity) -> None:\n",
        "        super().__init__(seating_capacity)\n",
        "    \n",
        "    def fare(self) -> int:\n",
        "        total_fare = self.seating_capacity * 100\n",
        "        maintenance_charge = total_fare * 0.1\n",
        "        return total_fare + maintenance_charge\n",
        "    \n",
        "# Driver Code\n",
        "school_bus = Bus(50)\n",
        "print(\"Total Bus fare is:\", int(school_bus.fare()))"
      ]
    },
    {
      "cell_type": "markdown",
      "metadata": {
        "id": "KBbGNTtQ47mJ"
      },
      "source": [
        "### 🚀 **Problem 02: Class Inheritance**\n",
        "\n",
        "Create a **Bus** class that inherits from the **Vehicle** class. The `Bus` class should override the `seating_capacity()` method from the `Vehicle` class and give the `capacity` argument a default value of `50`.\n",
        "\n",
        "Use the following code for your parent `Vehicle` class:\n",
        "\n",
        "```python\n",
        "class Vehicle:\n",
        "    def __init__(self, name, max_speed, mileage):\n",
        "        self.name = name\n",
        "        self.max_speed = max_speed\n",
        "        self.mileage = mileage\n",
        "\n",
        "    def seating_capacity(self, capacity):\n",
        "        return f\"The seating capacity of a {self.name} is {capacity} passengers.\"\n",
        "```\n",
        "\n",
        "**Example:**\n",
        "\n",
        "```python\n",
        "# Driver code:\n",
        "school_bus = Bus(\"School Volvo\", 180, 12)\n",
        "print(school_bus.seating_capacity())\n",
        "```\n",
        "\n",
        "**Expected Output:**\n",
        "```\n",
        "The seating capacity of a School Volvo is 50 passengers.\n",
        "```"
      ]
    },
    {
      "cell_type": "code",
      "execution_count": 4,
      "metadata": {
        "id": "Py5Gr0ip5OBB"
      },
      "outputs": [
        {
          "name": "stdout",
          "output_type": "stream",
          "text": [
            "The seating capacity of a School Volvo is 50 passengers.\n"
          ]
        }
      ],
      "source": [
        "# Solution - Problem 02\n",
        "\n",
        "class Vehicle:\n",
        "    def __init__(self, name, max_speed, mileage):\n",
        "        self.name = name\n",
        "        self.max_speed = max_speed\n",
        "        self.mileage = mileage\n",
        "\n",
        "    def seating_capacity(self, capacity):\n",
        "        return f\"The seating capacity of a {self.name} is {capacity} passengers.\"\n",
        "    \n",
        "class Bus(Vehicle):\n",
        "    \n",
        "    def __init__(self, name, max_speed, mileage):\n",
        "        super().__init__(name, max_speed, mileage)\n",
        "\n",
        "    def seating_capacity(self, capacity = 50):\n",
        "        return super().seating_capacity(capacity)\n",
        "\n",
        "# Driver code:\n",
        "school_bus = Bus(\"School Volvo\", 180, 12)\n",
        "print(school_bus.seating_capacity())"
      ]
    },
    {
      "cell_type": "markdown",
      "metadata": {
        "id": "ExIxsv4y-oEd"
      },
      "source": [
        "### 🚀 **Problem 03: Class Aggregation and Reflection**\n",
        "\n",
        "Write a program that defines a class `Point` to represent a point in a 2D space with `x` and `y` coordinates. Define another class `Location`, which has two attributes, `origin` and `destination`, both of which are objects of the `Point` class. \n",
        "\n",
        "In the `Location` class, create a method `reflect_x()` that prints the reflection of the `destination` point on the x-axis. The reflection of a point $(x, y)$ on the x-axis is $(x, -y)$.\n",
        "\n",
        "**Example:**\n",
        "```python\n",
        "# Driver code:\n",
        "origin_point = Point(2, 3)\n",
        "destination_point = Point(5, 7)\n",
        "loc = Location(origin_point, destination_point)\n",
        "loc.reflect_x()\n",
        "```\n",
        "\n",
        "**Expected Output:**\n",
        "```\n",
        "Reflection of Destination on x-axis: (5, -7)\n",
        "```"
      ]
    },
    {
      "cell_type": "code",
      "execution_count": 6,
      "metadata": {
        "id": "yT2QtzQp5VAB"
      },
      "outputs": [
        {
          "name": "stdout",
          "output_type": "stream",
          "text": [
            "Reflection of Destination on X-axis is (5, -7).\n"
          ]
        }
      ],
      "source": [
        "# Solution - Problem 03\n",
        "\n",
        "class Point:\n",
        "    \n",
        "    def __init__(self, x, y) -> None:\n",
        "        self.x = x\n",
        "        self.y = y\n",
        "\n",
        "    def __str__(self) -> str:\n",
        "        return '({}, {})'.format(self.x, self.y)\n",
        "\n",
        "class Location:\n",
        "\n",
        "    def __init__(self, origin, destination) -> None:\n",
        "        self.origin = origin\n",
        "        self.destination = destination\n",
        "\n",
        "    def reflect_x(self) -> None:\n",
        "        '''\n",
        "        Prints the reflection of destination point on x-axis.\n",
        "        '''\n",
        "        print('Reflection of Destination on X-axis is {}.'.format(Point(self.destination.x, -self.destination.y)))\n",
        "\n",
        "\n",
        "# Driver code:\n",
        "origin_point = Point(2, 3)\n",
        "destination_point = Point(5, 7)\n",
        "loc = Location(origin_point, destination_point)\n",
        "loc.reflect_x()"
      ]
    },
    {
      "cell_type": "markdown",
      "metadata": {
        "id": "OcQhJvXVALgp"
      },
      "source": [
        "### 🚀 **Problem 04: Abstract Class and Inheritance**\n",
        "\n",
        "Write a program that includes an abstract class `Polygon`. This class should have an abstract method `area()` which will be overridden in derived classes. \n",
        "\n",
        "Derive two classes `Rectangle` and `Triangle` from `Polygon`. Each class should include:\n",
        "1. A method to get the details of their dimensions.\n",
        "2. A method to calculate and return the area.\n",
        "\n",
        "**Example:**\n",
        "```python\n",
        "# Driver code:\n",
        "rect = Rectangle(5, 3)\n",
        "tri = Triangle(4, 6)\n",
        "print(f\"Rectangle Area: {rect.area()}\")  # Output: Rectangle Area: 15\n",
        "print(f\"Triangle Area: {tri.area()}\")    # Output: Triangle Area: 12.0\n",
        "```\n",
        "\n",
        "**Expected Output:**\n",
        "```\n",
        "Rectangle Area: 15\n",
        "Triangle Area: 12.0\n",
        "```"
      ]
    },
    {
      "cell_type": "code",
      "execution_count": 10,
      "metadata": {
        "id": "9IMrtdUH__eA"
      },
      "outputs": [
        {
          "name": "stdout",
          "output_type": "stream",
          "text": [
            "Rectangle Area: 15\n",
            "Triangle Area: 12.0\n"
          ]
        }
      ],
      "source": [
        "# Solution - Problem 04\n",
        "\n",
        "from abc import ABC, abstractmethod\n",
        "\n",
        "class Polygon(ABC):\n",
        "    \n",
        "    @abstractmethod\n",
        "    def area(self):\n",
        "        pass\n",
        "\n",
        "class Rectangle(Polygon):\n",
        "\n",
        "    def __init__(self, length, width) -> None:\n",
        "        self.length = length\n",
        "        self.width = width\n",
        "\n",
        "    def area(self):\n",
        "        return self.length * self.width\n",
        "\n",
        "class Triangle(Polygon):\n",
        "\n",
        "    def __init__(self, base, height) -> None:\n",
        "        self.base = base\n",
        "        self.height = height\n",
        "\n",
        "    def area(self):\n",
        "        return 0.5 * self.base * self.height\n",
        "\n",
        "\n",
        "# Driver code:\n",
        "rectangle = Rectangle(5, 3)\n",
        "triangle = Triangle(4, 6)\n",
        "print(f\"Rectangle Area: {rectangle.area()}\")\n",
        "print(f\"Triangle Area: {triangle.area()}\")"
      ]
    },
    {
      "cell_type": "markdown",
      "metadata": {
        "id": "sEsGEqOHCSWG"
      },
      "source": [
        "### 🚀 **Problem 05: Class Inheritance - Payment Options**\n",
        "\n",
        "Write a program that includes a `Bill` class. Users have the option to pay the bill either by cheque or by cash. Use inheritance to model this situation. \n",
        "\n",
        "***HINT :*** Create two classes, `ChequePayment` and `CashPayment`, that inherit from the `Bill` class.\n",
        "Each class should include:\n",
        "1. A method to print the payment details.\n",
        "\n",
        "**Example:**\n",
        "\n",
        "```python\n",
        "# Driver code:\n",
        "cheque_payment = ChequePayment(1000, \"CHQ123456\")\n",
        "cash_payment = CashPayment(500)\n",
        "cheque_payment.pay()  # Output: Paying 1000 by cheque. Cheque number: CHQ123456\n",
        "cash_payment.pay()    # Output: Paying 500 in cash.\n",
        "```\n",
        "\n",
        "**Expected Output:**\n",
        "```\n",
        "Paying 1000 by cheque. Cheque number: CHQ123456\n",
        "Paying 500 in cash.\n",
        "```"
      ]
    },
    {
      "cell_type": "code",
      "execution_count": 11,
      "metadata": {
        "id": "l0WFyP2PB3nf"
      },
      "outputs": [
        {
          "name": "stdout",
          "output_type": "stream",
          "text": [
            "Paying 1000 by cheque. Cheque Number: CHQ123456\n",
            "Paying 500 in cash.\n"
          ]
        }
      ],
      "source": [
        "# Solution - Problem 05\n",
        "\n",
        "class Bill:\n",
        "    \n",
        "    def __init__(self, amount) -> None:\n",
        "        self.amount = amount\n",
        "\n",
        "class ChequePayment(Bill):\n",
        "    \n",
        "    def __init__(self, amount, cheque_no) -> None:\n",
        "        super().__init__(amount)\n",
        "        self.cheque_no = cheque_no\n",
        "\n",
        "    def pay(self):\n",
        "        print('Paying {} by cheque. Cheque Number: {}'.format(self.amount, self.cheque_no))\n",
        "\n",
        "class CashPayment(Bill):\n",
        "    \n",
        "    def __init__(self, amount) -> None:\n",
        "        super().__init__(amount)\n",
        "\n",
        "    def pay(self):\n",
        "        print('Paying {} in cash.'.format(self.amount))\n",
        "\n",
        "# Driver code:\n",
        "cheque_payment = ChequePayment(1000, \"CHQ123456\")\n",
        "cash_payment = CashPayment(500)\n",
        "cheque_payment.pay()\n",
        "cash_payment.pay()"
      ]
    },
    {
      "cell_type": "markdown",
      "metadata": {
        "id": "v1M5Yh9ZZO0z"
      },
      "source": [
        "### 🚀 **Problem 06: FlexibleDict**\n",
        "\n",
        "As of now, we access values from a dictionary using exact keys. Now, we want to enhance this functionality so that if a dictionary has a key `1` (int), we should still be able to access its value even if we provide `'1'` (1 as a string) as the key, and vice versa.\n",
        "\n",
        "Write a class `FlexibleDict` that extends the built-in `dict` class with the required functionality.\n",
        "\n",
        "**Hint:** \n",
        "- The `__getitem__()` method in the `dict` class is used to access values.\n",
        "\n",
        "**Example:**\n",
        "\n",
        "```python\n",
        "# Driver code:\n",
        "fd = FlexibleDict()\n",
        "fd['a'] = 100\n",
        "print(fd['a'])  # Like a regular dict\n",
        "\n",
        "fd[5] = 500\n",
        "print(fd[5])  # Like a regular dict\n",
        "\n",
        "fd[1] = 100\n",
        "print(fd['1'])  # Actual key is int but accessed with str\n",
        "\n",
        "fd['1'] = 200\n",
        "print(fd[1])  # Actual key is str but accessed with int\n",
        "```\n",
        "\n",
        "**Expected Output:**\n",
        "```\n",
        "100\n",
        "500\n",
        "100\n",
        "200\n",
        "```"
      ]
    },
    {
      "cell_type": "code",
      "execution_count": 12,
      "metadata": {
        "id": "OHLbOtCxZ2nw"
      },
      "outputs": [],
      "source": [
        "# Solution - Problem 06"
      ]
    }
  ],
  "metadata": {
    "colab": {
      "collapsed_sections": [
        "BCleRtX43caS",
        "KBbGNTtQ47mJ",
        "ExIxsv4y-oEd",
        "OcQhJvXVALgp",
        "sEsGEqOHCSWG",
        "v1M5Yh9ZZO0z"
      ],
      "provenance": []
    },
    "kernelspec": {
      "display_name": "Python 3",
      "name": "python3"
    },
    "language_info": {
      "codemirror_mode": {
        "name": "ipython",
        "version": 3
      },
      "file_extension": ".py",
      "mimetype": "text/x-python",
      "name": "python",
      "nbconvert_exporter": "python",
      "pygments_lexer": "ipython3",
      "version": "3.12.5"
    }
  },
  "nbformat": 4,
  "nbformat_minor": 0
}
